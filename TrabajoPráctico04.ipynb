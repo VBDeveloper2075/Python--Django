{
  "nbformat": 4,
  "nbformat_minor": 0,
  "metadata": {
    "colab": {
      "provenance": []
    },
    "kernelspec": {
      "name": "python3",
      "display_name": "Python 3"
    },
    "language_info": {
      "name": "python"
    }
  },
  "cells": [
    {
      "cell_type": "markdown",
      "source": [
        "##Ejercicio Nro 1\n",
        "Escribir un programa que almacene diferentes lenguajes de programación (Python, Java, JavaScript, Haskell, Kotlin, C++, Ruby, Lua, PHP, Swift, SQL) en una lista y muestre por pantalla el siguiente mensaje: \"Yo estudio, {nombre_del_lenguaje}\" para todos estos."
      ],
      "metadata": {
        "id": "_JGBVyELn8kl"
      }
    },
    {
      "cell_type": "code",
      "source": [
        "def yo_estudio():\n",
        "    lenguajes = [\"Python\", \"Java\", \"JavaScript\", \"Haskell\", \"Kotlin\", \"C++\", \"Ruby\", \"Lua\", \"PHP\", \"Swift\", \"SQL\"]\n",
        "    for lenguaje in lenguajes:\n",
        "        print(f\"Yo estudio, {lenguaje}\")\n",
        "\n",
        "yo_estudio()"
      ],
      "metadata": {
        "id": "-7iDm38XoBWa",
        "colab": {
          "base_uri": "https://localhost:8080/",
          "height": 0
        },
        "outputId": "7143c00f-8ca5-436f-b9f7-26d6c777f2b7"
      },
      "execution_count": 1,
      "outputs": [
        {
          "output_type": "stream",
          "name": "stdout",
          "text": [
            "Yo estudio, Python\n",
            "Yo estudio, Java\n",
            "Yo estudio, JavaScript\n",
            "Yo estudio, Haskell\n",
            "Yo estudio, Kotlin\n",
            "Yo estudio, C++\n",
            "Yo estudio, Ruby\n",
            "Yo estudio, Lua\n",
            "Yo estudio, PHP\n",
            "Yo estudio, Swift\n",
            "Yo estudio, SQL\n"
          ]
        }
      ]
    },
    {
      "cell_type": "markdown",
      "source": [
        "##Ejercicio Nro 2\n",
        "Escribir un programa que almacene las asignaturas de un curso (Matemáticas, Física, Química, Historia y Lengua) en una lista, pregunte al usuario la nota que ha sacado en cada asignatura. Mostrar por pantalla la nota y asignatura correspondiente."
      ],
      "metadata": {
        "id": "8dbSk-RporWe"
      }
    },
    {
      "cell_type": "code",
      "source": [
        "def notas():\n",
        "\n",
        "    asignaturas = [\"Matemáticas\", \"Física\", \"Química\", \"Historia\", \"Lengua\"]\n",
        "    notas = []\n",
        "    for asignatura in asignaturas:\n",
        "        nota = input(\"¿Qué nota has sacado en \" + asignatura + \"? \")\n",
        "        notas.append(nota)\n",
        "    for asignatura in range(len(asignaturas)):\n",
        "        print(\"En \" + asignaturas[asignatura] + \" has sacado \" + notas[asignatura])\n",
        "\n",
        "notas()"
      ],
      "metadata": {
        "id": "NYvwZ_PnpZ13",
        "colab": {
          "base_uri": "https://localhost:8080/",
          "height": 0
        },
        "outputId": "12e5a3a9-c0ea-4c94-a9c6-d9b48193f0d7"
      },
      "execution_count": 2,
      "outputs": [
        {
          "output_type": "stream",
          "name": "stdout",
          "text": [
            "¿Qué nota has sacado en Matemáticas? 10\n",
            "¿Qué nota has sacado en Física? 10\n",
            "¿Qué nota has sacado en Química? 9\n",
            "¿Qué nota has sacado en Historia? 7\n",
            "¿Qué nota has sacado en Lengua? 9\n",
            "En Matemáticas has sacado 10\n",
            "En Física has sacado 10\n",
            "En Química has sacado 9\n",
            "En Historia has sacado 7\n",
            "En Lengua has sacado 9\n"
          ]
        }
      ]
    },
    {
      "cell_type": "markdown",
      "source": [
        "##Ejercicio Nro 3\n",
        "Escribir un programa que almacene en una lista los números del 1 al 10 y los muestre por pantalla en orden inverso."
      ],
      "metadata": {
        "id": "-whP3i2trhkV"
      }
    },
    {
      "cell_type": "code",
      "source": [
        "def reverse_function():\n",
        "\n",
        "    numeros = [1,2,3,4,5,6,7,8,9,10]\n",
        "    numeros.reverse()\n",
        "    print(numeros)\n",
        "\n",
        "reverse_function()"
      ],
      "metadata": {
        "id": "2pI_7RPSr3FA",
        "colab": {
          "base_uri": "https://localhost:8080/",
          "height": 0
        },
        "outputId": "0d276013-7cc6-4a6c-b5df-66608e2f40b1"
      },
      "execution_count": 3,
      "outputs": [
        {
          "output_type": "stream",
          "name": "stdout",
          "text": [
            "[10, 9, 8, 7, 6, 5, 4, 3, 2, 1]\n"
          ]
        }
      ]
    },
    {
      "cell_type": "markdown",
      "source": [
        "## Ejercicio Nro 4\n",
        "\n",
        "Crea un programa que elija al azar elementos de una lista de 20 elementos generados al azar, usando la función choice. Debe mostrar 5 elementos aleatorios.\n"
      ],
      "metadata": {
        "id": "3KdCrft0_vqw"
      }
    },
    {
      "cell_type": "code",
      "source": [
        "import random\n",
        "\n",
        "def azar():\n",
        "\n",
        "    lista = []\n",
        "    for i in range(20):\n",
        "        lista.append(random.randint(1, 100))\n",
        "    print(lista)\n",
        "\n",
        "    for i in range(5):\n",
        "        print(random.choice(lista))\n",
        "\n",
        "azar()"
      ],
      "metadata": {
        "id": "POvO7ANE_v-x",
        "colab": {
          "base_uri": "https://localhost:8080/"
        },
        "outputId": "93f06a0e-45c0-4ffb-d22f-298b2b095489"
      },
      "execution_count": 4,
      "outputs": [
        {
          "output_type": "stream",
          "name": "stdout",
          "text": [
            "[79, 71, 67, 41, 93, 44, 75, 47, 56, 86, 12, 28, 47, 94, 86, 99, 22, 8, 20, 15]\n",
            "20\n",
            "94\n",
            "47\n",
            "71\n",
            "94\n"
          ]
        }
      ]
    },
    {
      "cell_type": "markdown",
      "source": [
        "##Ejercicio Nro 5\n",
        "Escribir un programa que almacene el abecedario en una lista, elimine de la lista las letras que ocupen posiciones múltiplos de 3 (en la lista original), y muestre por pantalla la lista resultante."
      ],
      "metadata": {
        "id": "hmJ5XArEsajo"
      }
    },
    {
      "cell_type": "code",
      "source": [],
      "metadata": {
        "id": "1N4dG0LfJ0qp"
      },
      "execution_count": null,
      "outputs": []
    },
    {
      "cell_type": "markdown",
      "source": [
        "##Ejercicio Nro 6\n",
        "Escribir un programa que pida al usuario una palabra y muestre por pantalla si es un palíndromo. Utilizando slicing."
      ],
      "metadata": {
        "id": "az6pVkeS21b-"
      }
    },
    {
      "cell_type": "code",
      "source": [],
      "metadata": {
        "id": "iuj6njsB24My"
      },
      "execution_count": null,
      "outputs": []
    },
    {
      "cell_type": "markdown",
      "source": [
        "##Ejercicio Nro 7\n",
        "Escriba una función que utilice slicing para extraer las palabras que están en las posiciones pares de una frase. Por ejemplo, si se aplicara la función a la primera frase de este enunciado el resultado debería ser: ['Escriba', 'función', 'utilice', 'para', 'las', 'que', 'en', 'posiciones', 'de', 'frase']."
      ],
      "metadata": {
        "id": "pjsi4mxd3Fkp"
      }
    },
    {
      "cell_type": "code",
      "source": [],
      "metadata": {
        "id": "gNHXCesO3YIa"
      },
      "execution_count": null,
      "outputs": []
    },
    {
      "cell_type": "markdown",
      "source": [
        "## Ejercicio Nro 8\n",
        "\n",
        "Crea una tupla con los meses del año, luego pide números al usuario, si el numero esta entre 1 y la longitud máxima de la tupla, muestra el contenido de esa posición sino muestra un mensaje de error."
      ],
      "metadata": {
        "id": "XpbUJdYj5tGs"
      }
    },
    {
      "cell_type": "code",
      "source": [],
      "metadata": {
        "id": "60d51ENY5wk7"
      },
      "execution_count": null,
      "outputs": []
    },
    {
      "cell_type": "markdown",
      "source": [
        "## Ejercicio Nro 9\n",
        "\n",
        "Crea una tupla con números, pide un numero por teclado e indica cuantas veces se repite."
      ],
      "metadata": {
        "id": "RXEcBKe56jb2"
      }
    },
    {
      "cell_type": "code",
      "source": [],
      "metadata": {
        "id": "SyK_NQar6pQl"
      },
      "execution_count": null,
      "outputs": []
    },
    {
      "cell_type": "markdown",
      "source": [
        "## Ejercicio Nro 10\n",
        "\n",
        "Escribir un programa que cree una lista de tuplas simulando una canasto de compra. El programa debe preguntar el artículo y su precio y añadir el par a la tupla, hasta que el usuario decida terminar. Después se debe mostrar por pantalla la lista de la compra y el costo total, con el siguiente formato usando alienación de f-strings.\n",
        "\n",
        "|Lista de la compra| |\n",
        "|:-|-:|\n",
        "|Artículo 1 | Precio |\n",
        "|Artículo 2 | Precio |\n",
        "|Artículo 3 | Precio |\n",
        "|...| ...|\n",
        "|Total| Costo|"
      ],
      "metadata": {
        "id": "Q1gAoMKx4f3v"
      }
    },
    {
      "cell_type": "code",
      "source": [],
      "metadata": {
        "id": "kT49-OJw5DVu"
      },
      "execution_count": null,
      "outputs": []
    },
    {
      "cell_type": "markdown",
      "source": [
        "## Ejercicio Nro 11\n",
        "\n",
        "Escribe un programa para generar contraseñas. Entre las generadas evaluaremos las siguientes características:\n",
        "\n",
        "- Longitud fija de 12 caracteres\n",
        "- No pueden tener letras consecutivas (sT es tan inválido como ST o ST)  \n",
        "- No puede tener un número antes o después de una vocal\n",
        "- Si tiene un _ debe tener un dígito después de este a menos que sea el último carácter\n",
        "\n",
        "Luego, genere una lista de 20 contraseñas que solo estén obligadas a cumplir la longitud. Con estas, imprima una tabla en donde la primera columna es la contraseña y la segunda es Sí/No controlando la validez de las características mencionadas anteriormente.\n"
      ],
      "metadata": {
        "id": "9e7C-HVd1swq"
      }
    },
    {
      "cell_type": "code",
      "source": [],
      "metadata": {
        "id": "ncfWSMvp3LPb"
      },
      "execution_count": null,
      "outputs": []
    },
    {
      "cell_type": "markdown",
      "source": [
        "## Ejercicio Nro 12\n",
        "\n",
        "En el juego clásico de piedra-papel-tijera tenemos las siguientes reglas:\n",
        "- Piedra gana a Tijera\n",
        "- Tijera gana a Papel\n",
        "- Papel gana a Piedra\n",
        "\n",
        "Ahora agregaremos reglas especiales al juego:\n",
        "- Si se ganó con piedra se invierten todas las reglas\n",
        "  - Piedra gana a Papel\n",
        "  - Tijera gana a Piedra\n",
        "  - Papel gana a Tijera\n",
        "- Si se empató con cualquiera se restauran las reglas originales\n",
        "\n",
        "Cree un programa que simule 10 partidas de este juego y los eventos registrados, cambio de reglas, victorias, empates. Luego muestre una tabla con número del movimiento y el tipo de evento registrado. El evento de fin de juego se registra luego del evento del último jugador.\n"
      ],
      "metadata": {
        "id": "RzdHtseY3MTM"
      }
    },
    {
      "cell_type": "code",
      "source": [],
      "metadata": {
        "id": "sLB7EVqv63qD"
      },
      "execution_count": null,
      "outputs": []
    },
    {
      "cell_type": "markdown",
      "source": [
        "## Ejercicio 13\n",
        "\n",
        "Crea un programa para generar poesías al azar. Para simplificar los requisitos de este ejercicio vamos a limitarlos a lo siguiente:\n",
        "\n",
        "- Tendrá 2 estrofas\n",
        "- Cada estrofa tendrá 4 versos\n",
        "- Cada verson puede tener de 4 a 6 palabras\n",
        "- En cada estrofa el verso 1 rimará con el 3, y el 2 con el 4\n",
        "   - Se considerará rima cuando coincidan las últimas 2 letras de la palabra\n",
        "\n",
        "Para realizar, debes usar dos listas de palabras, la primera lista con palabras comunes, y la segunda con palabras que se usarán para rimar. Es decir, las palabras que usaremos al final de cada verso. Estas tienen que ser de rima variada, ejemplo: -ción, -ella, -ada, -aso, etc."
      ],
      "metadata": {
        "id": "m_eEnXwa84De"
      }
    },
    {
      "cell_type": "code",
      "source": [],
      "metadata": {
        "id": "o11ukOC-_eDZ"
      },
      "execution_count": null,
      "outputs": []
    },
    {
      "cell_type": "markdown",
      "source": [
        "## Ejercicio 14\n",
        "\n",
        "Crea un programa para gestionar las tareas de un equipo de trabajo. En una lista se tendrá los participantes del proyecto.  \n",
        "En otra lista el estado de una tarea (No iniciada, En progreso, Terminada, Cancelada).  \n",
        "Por último, una lista de tuplas en donde el primer elemento es la descripción de la tarea, el segundo el índice que indica la persona asignada, y el último el índice que indica el estado de la tarea.  \n",
        "Luego cargue valores a esta estructura y muestre una tabla como la siguiente:\n",
        "\n",
        "| Tarea | Asignada a | Estado Actual |\n",
        "| :- | --- | --- |\n",
        "| Revisar el diseño de PHIIP | Vicky | En Progreso |\n",
        "| Controlar procesos de desarrollo | Dani | Terminada |\n",
        "| Publicar nuevo curso en Instagram | Pame | Terminada |\n",
        "| Redactar nota a presentar | Cris | Terminada |\n",
        "| Completar informes finales | Anita | En Progreso |\n",
        "| Actualizar lista de inscriptas | Luis | En Progreso |\n",
        "| Organizar proyectos en Notion | Santi | Cancelada |\n",
        "| Dictar el taller de Replit | Santi | Terminada |\n"
      ],
      "metadata": {
        "id": "DFGfMWHC_ed8"
      }
    },
    {
      "cell_type": "code",
      "source": [],
      "metadata": {
        "id": "DJfu31-RADxP"
      },
      "execution_count": null,
      "outputs": []
    },
    {
      "cell_type": "markdown",
      "source": [
        "## Ejercicio 15\n",
        "\n",
        "Crea un programa para generar música aleatoriamente. La música estará dividida en dos listas, la primera serán los acordes, y la segunda las notas de la melodía.  \n",
        "Cada cuatro notas de la melodía debe haber un acorde. Muestre la canción creada con la siguiente forma:\n",
        "```  \n",
        "Ac1         Ac2         Ac3            Ac4  \n",
        "N1 N2 N3 N4 N5 N6 N7 N8 N9 N10 N11 N12 N13 N14 N15 N16\n",
        "```\n",
        "En donde Ac representa un acorde, y N una nota."
      ],
      "metadata": {
        "id": "yz-iWzpDCsfR"
      }
    },
    {
      "cell_type": "code",
      "source": [],
      "metadata": {
        "id": "0LK4t3a-Cs0-"
      },
      "execution_count": null,
      "outputs": []
    }
  ]
}