{
  "cells": [
    {
      "cell_type": "markdown",
      "metadata": {
        "id": "_JGBVyELn8kl"
      },
      "source": [
        "##Ejercicio Nro 1\n",
        "Escribir un programa que almacene diferentes lenguajes de programación (Python, Java, JavaScript, Haskell, Kotlin, C++, Ruby, Lua, PHP, Swift, SQL) en una lista y muestre por pantalla el siguiente mensaje: \"Yo estudio, {nombre_del_lenguaje}\" para todos estos."
      ]
    },
    {
      "cell_type": "code",
      "execution_count": null,
      "metadata": {
        "colab": {
          "base_uri": "https://localhost:8080/"
        },
        "id": "-7iDm38XoBWa",
        "outputId": "7143c00f-8ca5-436f-b9f7-26d6c777f2b7"
      },
      "outputs": [
        {
          "name": "stdout",
          "output_type": "stream",
          "text": [
            "Yo estudio, Python\n",
            "Yo estudio, Java\n",
            "Yo estudio, JavaScript\n",
            "Yo estudio, Haskell\n",
            "Yo estudio, Kotlin\n",
            "Yo estudio, C++\n",
            "Yo estudio, Ruby\n",
            "Yo estudio, Lua\n",
            "Yo estudio, PHP\n",
            "Yo estudio, Swift\n",
            "Yo estudio, SQL\n"
          ]
        }
      ],
      "source": [
        "def yo_estudio():\n",
        "    lenguajes = [\"Python\", \"Java\", \"JavaScript\", \"Haskell\", \"Kotlin\", \"C++\", \"Ruby\", \"Lua\", \"PHP\", \"Swift\", \"SQL\"]\n",
        "    for lenguaje in lenguajes:\n",
        "        print(f\"Yo estudio, {lenguaje}\")\n",
        "\n",
        "yo_estudio()"
      ]
    },
    {
      "cell_type": "markdown",
      "metadata": {
        "id": "8dbSk-RporWe"
      },
      "source": [
        "##Ejercicio Nro 2\n",
        "Escribir un programa que almacene las asignaturas de un curso (Matemáticas, Física, Química, Historia y Lengua) en una lista, pregunte al usuario la nota que ha sacado en cada asignatura. Mostrar por pantalla la nota y asignatura correspondiente."
      ]
    },
    {
      "cell_type": "code",
      "execution_count": null,
      "metadata": {
        "colab": {
          "base_uri": "https://localhost:8080/"
        },
        "id": "NYvwZ_PnpZ13",
        "outputId": "12e5a3a9-c0ea-4c94-a9c6-d9b48193f0d7"
      },
      "outputs": [
        {
          "name": "stdout",
          "output_type": "stream",
          "text": [
            "¿Qué nota has sacado en Matemáticas? 10\n",
            "¿Qué nota has sacado en Física? 10\n",
            "¿Qué nota has sacado en Química? 9\n",
            "¿Qué nota has sacado en Historia? 7\n",
            "¿Qué nota has sacado en Lengua? 9\n",
            "En Matemáticas has sacado 10\n",
            "En Física has sacado 10\n",
            "En Química has sacado 9\n",
            "En Historia has sacado 7\n",
            "En Lengua has sacado 9\n"
          ]
        }
      ],
      "source": [
        "def notas():\n",
        "\n",
        "    asignaturas = [\"Matemáticas\", \"Física\", \"Química\", \"Historia\", \"Lengua\"]\n",
        "    notas = []\n",
        "    for asignatura in asignaturas:\n",
        "        nota = input(\"¿Qué nota has sacado en \" + asignatura + \"? \")\n",
        "        notas.append(nota)\n",
        "    for asignatura in range(len(asignaturas)):\n",
        "        print(\"En \" + asignaturas[asignatura] + \" has sacado \" + notas[asignatura])\n",
        "\n",
        "notas()"
      ]
    },
    {
      "cell_type": "markdown",
      "metadata": {
        "id": "-whP3i2trhkV"
      },
      "source": [
        "##Ejercicio Nro 3\n",
        "Escribir un programa que almacene en una lista los números del 1 al 10 y los muestre por pantalla en orden inverso."
      ]
    },
    {
      "cell_type": "code",
      "execution_count": null,
      "metadata": {
        "colab": {
          "base_uri": "https://localhost:8080/"
        },
        "id": "2pI_7RPSr3FA",
        "outputId": "0d276013-7cc6-4a6c-b5df-66608e2f40b1"
      },
      "outputs": [
        {
          "name": "stdout",
          "output_type": "stream",
          "text": [
            "[10, 9, 8, 7, 6, 5, 4, 3, 2, 1]\n"
          ]
        }
      ],
      "source": [
        "def reverse_function():\n",
        "\n",
        "    numeros = [1,2,3,4,5,6,7,8,9,10]\n",
        "    numeros.reverse()\n",
        "    print(numeros)\n",
        "\n",
        "reverse_function()"
      ]
    },
    {
      "cell_type": "markdown",
      "metadata": {
        "id": "3KdCrft0_vqw"
      },
      "source": [
        "## Ejercicio Nro 4\n",
        "\n",
        "Crea un programa que elija al azar elementos de una lista de 20 elementos generados al azar, usando la función choice. Debe mostrar 5 elementos aleatorios.\n"
      ]
    },
    {
      "cell_type": "code",
      "execution_count": null,
      "metadata": {
        "colab": {
          "base_uri": "https://localhost:8080/"
        },
        "id": "POvO7ANE_v-x",
        "outputId": "93f06a0e-45c0-4ffb-d22f-298b2b095489"
      },
      "outputs": [
        {
          "name": "stdout",
          "output_type": "stream",
          "text": [
            "[79, 71, 67, 41, 93, 44, 75, 47, 56, 86, 12, 28, 47, 94, 86, 99, 22, 8, 20, 15]\n",
            "20\n",
            "94\n",
            "47\n",
            "71\n",
            "94\n"
          ]
        }
      ],
      "source": [
        "import random\n",
        "\n",
        "def azar():\n",
        "\n",
        "    lista = []\n",
        "    for i in range(20):\n",
        "        lista.append(random.randint(1, 100))\n",
        "    print(lista)\n",
        "\n",
        "    for i in range(5):\n",
        "        print(random.choice(lista))\n",
        "\n",
        "azar()"
      ]
    },
    {
      "cell_type": "markdown",
      "metadata": {
        "id": "hmJ5XArEsajo"
      },
      "source": [
        "##Ejercicio Nro 5\n",
        "Escribir un programa que almacene el abecedario en una lista, elimine de la lista las letras que ocupen posiciones múltiplos de 3 (en la lista original), y muestre por pantalla la lista resultante."
      ]
    },
    {
      "cell_type": "code",
      "execution_count": null,
      "metadata": {
        "colab": {
          "base_uri": "https://localhost:8080/"
        },
        "id": "1N4dG0LfJ0qp",
        "outputId": "d1262d1b-3fda-4593-a1a3-48af556c784b"
      },
      "outputs": [
        {
          "name": "stdout",
          "output_type": "stream",
          "text": [
            "['a', 'b', 'c', 'd', 'e', 'f', 'g', 'h', 'i', 'j', 'k', 'l', 'm', 'n', 'o', 'p', 'q', 'r', 's', 't', 'u', 'v', 'w', 'x', 'y', 'z']\n",
            "['a', 'b', 'd', 'e', 'g', 'h', 'j', 'k', 'm', 'n', 'p', 'q', 's', 't', 'v', 'w', 'y', 'z']\n"
          ]
        }
      ],
      "source": [
        "abecedario = list(\"abcdefghijklmnopqrstuvwxyz\")\n",
        "print(abecedario)\n",
        "abecedario = [abecedario[i] for i in range(len(abecedario)) if (i+1) % 3 != 0]\n",
        "print(abecedario)"
      ]
    },
    {
      "cell_type": "markdown",
      "metadata": {
        "id": "az6pVkeS21b-"
      },
      "source": [
        "##Ejercicio Nro 6\n",
        "Escribir un programa que pida al usuario una palabra y muestre por pantalla si es un palíndromo. Utilizando slicing."
      ]
    },
    {
      "cell_type": "code",
      "execution_count": null,
      "metadata": {
        "colab": {
          "base_uri": "https://localhost:8080/"
        },
        "id": "iuj6njsB24My",
        "outputId": "32d55096-cfaf-4b40-963f-957b1c5b1ef2"
      },
      "outputs": [
        {
          "name": "stdout",
          "output_type": "stream",
          "text": [
            "Ingrese una palabra: neuquen\n",
            "neuquen es un palíndromo\n"
          ]
        }
      ],
      "source": [
        "def main():\n",
        "    palabra = input(\"Ingrese una palabra: \")\n",
        "    if palindromo(palabra):\n",
        "        print(f\"{palabra} es un palíndromo\")\n",
        "    else:\n",
        "        print(f\"{palabra} no es un palíndromo\")\n",
        "\n",
        "if __name__ == \"__main__\":\n",
        "    main()"
      ]
    },
    {
      "cell_type": "markdown",
      "metadata": {
        "id": "pjsi4mxd3Fkp"
      },
      "source": [
        "##Ejercicio Nro 7\n",
        "Escriba una función que utilice slicing para extraer las palabras que están en las posiciones pares de una frase. Por ejemplo, si se aplicara la función a la primera frase de este enunciado el resultado debería ser: ['Escriba', 'función', 'utilice', 'para', 'las', 'que', 'en', 'posiciones', 'de', 'frase']."
      ]
    },
    {
      "cell_type": "code",
      "execution_count": null,
      "metadata": {
        "colab": {
          "base_uri": "https://localhost:8080/"
        },
        "id": "gNHXCesO3YIa",
        "outputId": "2ff0a8cb-4c22-4b70-961b-7f33a59736d4"
      },
      "outputs": [
        {
          "name": "stdout",
          "output_type": "stream",
          "text": [
            "['Escriba', 'función', 'utilice', 'palabras', 'están', 'las', 'pares', 'una']\n"
          ]
        }
      ],
      "source": [
        "def extraer_pares(frase):\n",
        "    palabras = frase.split()\n",
        "    return palabras[::2]\n",
        "\n",
        "print(extraer_pares(\"Escriba una función que utilice las palabras que están en las posiciones pares de una frase\"))"
      ]
    },
    {
      "cell_type": "markdown",
      "metadata": {
        "id": "XpbUJdYj5tGs"
      },
      "source": [
        "## Ejercicio Nro 8\n",
        "\n",
        "Crea una tupla con los meses del año, luego pide números al usuario, si el numero esta entre 1 y la longitud máxima de la tupla, muestra el contenido de esa posición sino muestra un mensaje de error."
      ]
    },
    {
      "cell_type": "code",
      "execution_count": null,
      "metadata": {
        "colab": {
          "base_uri": "https://localhost:8080/"
        },
        "id": "60d51ENY5wk7",
        "outputId": "df138b95-a5de-4ff7-b08e-10b264418d47"
      },
      "outputs": [
        {
          "name": "stdout",
          "output_type": "stream",
          "text": [
            "Ingrese un número: 6\n",
            "Junio\n"
          ]
        }
      ],
      "source": [
        "meses = ('Enero', 'Febrero', 'Marzo', 'Abril', 'Mayo', 'Junio', 'Julio', 'Agosto', 'Septiembre', 'Octubre', 'Noviembre', 'Diciembre')\n",
        "\n",
        "numero = int(input('Ingrese un número: '))\n",
        "if numero > 0 and numero <= len(meses):\n",
        "    print(meses[numero-1])\n",
        "else:\n",
        "    print('Error, el número ingresado no es válido.')\n"
      ]
    },
    {
      "cell_type": "markdown",
      "metadata": {
        "id": "RXEcBKe56jb2"
      },
      "source": [
        "## Ejercicio Nro 9\n",
        "\n",
        "Crea una tupla con números, pide un numero por teclado e indica cuantas veces se repite."
      ]
    },
    {
      "cell_type": "code",
      "execution_count": null,
      "metadata": {
        "colab": {
          "base_uri": "https://localhost:8080/"
        },
        "id": "SyK_NQar6pQl",
        "outputId": "e330190d-4d00-450b-d629-a9170ecf1710"
      },
      "outputs": [
        {
          "name": "stdout",
          "output_type": "stream",
          "text": [
            "Introduce un número: 6\n",
            "El número 6 se repite 4 veces\n"
          ]
        }
      ],
      "source": [
        "# Crear una tupla con números\n",
        "tupla = (1, 2, 3, 4, 5, 6, 7, 8, 9, 0, 4, 5, 6, 7, 8, 9, 4, 5, 6, 7, 8, 9, 4, 5, 6, 7, 8, 9)\n",
        "\n",
        "# Pedir un número por teclado\n",
        "numero = int(input(\"Introduce un número: \"))\n",
        "# Indicar cuantas veces se repite\n",
        "print(f\"El número {numero} se repite {tupla.count(numero)} veces\")"
      ]
    },
    {
      "cell_type": "markdown",
      "metadata": {
        "id": "Q1gAoMKx4f3v"
      },
      "source": [
        "## Ejercicio Nro 10\n",
        "\n",
        "Escribir un programa que cree una lista de tuplas simulando una canasto de compra. El programa debe preguntar el artículo y su precio y añadir el par a la tupla, hasta que el usuario decida terminar. Después se debe mostrar por pantalla la lista de la compra y el costo total, con el siguiente formato usando alienación de f-strings.\n",
        "\n",
        "|Lista de la compra| |\n",
        "|:-|-:|\n",
        "|Artículo 1 | Precio |\n",
        "|Artículo 2 | Precio |\n",
        "|Artículo 3 | Precio |\n",
        "|...| ...|\n",
        "|Total| Costo|"
      ]
    },
    {
      "cell_type": "code",
      "execution_count": null,
      "metadata": {
        "colab": {
          "base_uri": "https://localhost:8080/"
        },
        "id": "kT49-OJw5DVu",
        "outputId": "523afabd-150a-41cb-ccd9-75150bd06807"
      },
      "outputs": [
        {
          "name": "stdout",
          "output_type": "stream",
          "text": [
            "Ingrese el nombre del artículo (o 'fin' para terminar): salchichas\n",
            "Ingrese el precio de salchichas: 4500\n",
            "Ingrese el nombre del artículo (o 'fin' para terminar): pan\n",
            "Ingrese el precio de pan: 2500\n",
            "Ingrese el nombre del artículo (o 'fin' para terminar): mayonesa\n",
            "Ingrese el precio de mayonesa: 3000\n",
            "Ingrese el nombre del artículo (o 'fin' para terminar): mostaza\n",
            "Ingrese el precio de mostaza: 3200\n",
            "Ingrese el nombre del artículo (o 'fin' para terminar): fin\n",
            "Lista de la compra\n",
            "salchichas           $4500.00\n",
            "pan                  $2500.00\n",
            "mayonesa             $3000.00\n",
            "mostaza              $3200.00\n",
            "Total                          $13200.00\n"
          ]
        }
      ],
      "source": [
        "def canasto_compra():\n",
        "    canasto = []\n",
        "    while True:\n",
        "        articulo = input(\"Ingrese el nombre del artículo (o 'fin' para terminar): \")\n",
        "        if articulo == 'fin':\n",
        "            break\n",
        "        precio = float(input(f\"Ingrese el precio de {articulo}: \"))\n",
        "        canasto.append((articulo, precio))\n",
        "    print(\"Lista de la compra\")\n",
        "    total = 0\n",
        "    for articulo, precio in canasto:\n",
        "        print(f\"{articulo:20} ${precio:.2f}\")\n",
        "        total += precio\n",
        "    print(f\"Total{'':25} ${total:.2f}\")\n",
        "\n",
        "canasto_compra()"
      ]
    },
    {
      "cell_type": "markdown",
      "metadata": {
        "id": "9e7C-HVd1swq"
      },
      "source": [
        "## Ejercicio Nro 11\n",
        "\n",
        "Escribe un programa para generar contraseñas. Entre las generadas evaluaremos las siguientes características:\n",
        "\n",
        "- Longitud fija de 12 caracteres\n",
        "- No pueden tener letras consecutivas (sT es tan inválido como ST o ST)  \n",
        "- No puede tener un número antes o después de una vocal\n",
        "- Si tiene un _ debe tener un dígito después de este a menos que sea el último carácter\n",
        "\n",
        "Luego, genere una lista de 20 contraseñas que solo estén obligadas a cumplir la longitud. Con estas, imprima una tabla en donde la primera columna es la contraseña y la segunda es Sí/No controlando la validez de las características mencionadas anteriormente.\n"
      ]
    },
    {
      "cell_type": "code",
      "execution_count": null,
      "metadata": {
        "colab": {
          "base_uri": "https://localhost:8080/"
        },
        "id": "ncfWSMvp3LPb",
        "outputId": "add5875b-5fe1-4568-ae09-d935c848e0a7"
      },
      "outputs": [
        {
          "name": "stdout",
          "output_type": "stream",
          "text": [
            "Contraseña Validez\n",
            "Lr No\n",
            "Mw No\n",
            "Hf No\n",
            "Jk No\n",
            "Fj No\n",
            "Vz No\n",
            "Wp No\n",
            "Qc No\n",
            "Mz No\n",
            "Nw No\n",
            "Kh No\n",
            "Sp No\n",
            "Sv No\n",
            "Zm No\n",
            "Td No\n",
            "Dq No\n",
            "Ws No\n",
            "Yg No\n",
            "Gc No\n",
            "Wx No\n"
          ]
        }
      ],
      "source": [
        "import random\n",
        "\n",
        "def generar_contrasena():\n",
        "    consonantes = 'bcdfghjklmnpqrstvwxyz'\n",
        "    vocales = 'aeiou'\n",
        "    digitos = '0123456789'\n",
        "    simbolos = '_'\n",
        "    contrasena = ''\n",
        "    longitud = 12\n",
        "    for i in range(longitud):\n",
        "        if i == 0:\n",
        "            contrasena += random.choice(consonantes).upper()\n",
        "        elif i == longitud-1:\n",
        "            contrasena += random.choice(consonantes).lower()\n",
        "        else:\n",
        "            if contrasena[-1] in consonantes:\n",
        "                contrasena += random.choice(vocales + digitos + simbolos)\n",
        "            elif contrasena[-1] in vocales:\n",
        "                contrasena += random.choice(consonantes + simbolos)\n",
        "            elif contrasena[-1] in digitos:\n",
        "                contrasena += random.choice(consonantes + simbolos)\n",
        "            elif contrasena[-1] in simbolos:\n",
        "                contrasena += random.choice(digitos + consonantes)\n",
        "    return contrasena\n",
        "\n",
        "def validar_contrasena(contrasena):\n",
        "    consonantes = 'bcdfghjklmnpqrstvwxyz'\n",
        "    vocales = 'aeiou'\n",
        "    digitos = '0123456789'\n",
        "    simbolos = '_'\n",
        "    longitud = 12\n",
        "    if len(contrasena) != longitud:\n",
        "        return False\n",
        "    for i in range(longitud):\n",
        "        if i == 0:\n",
        "            if contrasena[i] not in consonantes.upper():\n",
        "                return False\n",
        "        elif i == longitud-1:\n",
        "            if contrasena[i] not in consonantes:\n",
        "                return False\n",
        "        else:\n",
        "            if contrasena[i-1] in consonantes and contrasena[i] in consonantes:\n",
        "                return False\n",
        "            elif contrasena[i-1] in vocales and contrasena[i] in digitos:\n",
        "                return False\n",
        "            elif contrasena[i-1] in digitos and contrasena[i] in vocales:\n",
        "                return False\n",
        "            elif contrasena[i-1] in simbolos and i != longitud-1 and contrasena[i] not in digitos:\n",
        "                return False\n",
        "    return True\n",
        "\n",
        "def main():\n",
        "    contrasenas = []\n",
        "    for i in range(20):\n",
        "        contrasenas.append(generar_contrasena())\n",
        "    print('Contraseña Validez')\n",
        "    for contrasena in contrasenas:\n",
        "        if validar_contrasena(contrasena):\n",
        "            print(contrasena, 'Sí')\n",
        "        else:\n",
        "            print(contrasena, 'No')\n",
        "\n",
        "main()\n",
        "\n",
        "#no da la contraseña de manera correcta. sólo 2 caracteres."
      ]
    },
    {
      "cell_type": "markdown",
      "metadata": {
        "id": "RzdHtseY3MTM"
      },
      "source": [
        "## Ejercicio Nro 12\n",
        "\n",
        "En el juego clásico de piedra-papel-tijera tenemos las siguientes reglas:\n",
        "- Piedra gana a Tijera\n",
        "- Tijera gana a Papel\n",
        "- Papel gana a Piedra\n",
        "\n",
        "Ahora agregaremos reglas especiales al juego:\n",
        "- Si se ganó con piedra se invierten todas las reglas\n",
        "  - Piedra gana a Papel\n",
        "  - Tijera gana a Piedra\n",
        "  - Papel gana a Tijera\n",
        "- Si se empató con cualquiera se restauran las reglas originales\n",
        "\n",
        "Cree un programa que simule 10 partidas de este juego y los eventos registrados, cambio de reglas, victorias, empates. Luego muestre una tabla con número del movimiento y el tipo de evento registrado. El evento de fin de juego se registra luego del evento del último jugador.\n"
      ]
    },
    {
      "cell_type": "code",
      "execution_count": null,
      "metadata": {
        "colab": {
          "base_uri": "https://localhost:8080/"
        },
        "id": "sLB7EVqv63qD",
        "outputId": "a9d8ba48-a2d7-497e-c6d9-acc69a391f36"
      },
      "outputs": [
        {
          "name": "stdout",
          "output_type": "stream",
          "text": [
            "Número del movimiento\tTipo de evento\n",
            "1\t\t\tDerrota\n",
            "2\t\t\tEmpate\n",
            "3\t\t\tEmpate\n",
            "4\t\t\tEmpate\n",
            "5\t\t\tEmpate\n",
            "6\t\t\tEmpate\n",
            "7\t\t\tEmpate\n",
            "8\t\t\tDerrota\n",
            "9\t\t\tVictoria\n",
            "10\t\t\tDerrota\n",
            "11\t\t\tFin del juego\n",
            "Presione Enter para salir\n"
          ]
        }
      ],
      "source": [
        "import random\n",
        "import time\n",
        "import os\n",
        "\n",
        "# Función para limpiar la pantalla\n",
        "def clear():\n",
        "    os.system('cls' if os.name == 'nt' else 'clear')\n",
        "\n",
        "# Función para simular el juego\n",
        "def juego():\n",
        "    reglas = {\n",
        "        'Piedra': 'Tijera',\n",
        "        'Tijera': 'Papel',\n",
        "        'Papel': 'Piedra'\n",
        "    }\n",
        "\n",
        "    reglas_invertidas = {\n",
        "        'Piedra': 'Papel',\n",
        "        'Tijera': 'Piedra',\n",
        "        'Papel': 'Tijera'\n",
        "    }\n",
        "\n",
        "    # Crreo una lista vacía para almacenar los eventos\n",
        "    eventos = []\n",
        "    for i in range(10):\n",
        "        # Creo jugadas posibles para los jugadores\n",
        "        jugador1 = random.choice(list(reglas.keys()))\n",
        "        jugador2 = random.choice(list(reglas.keys()))\n",
        "        if jugador1 == jugador2:\n",
        "            eventos.append('Empate')\n",
        "            reglas = {\n",
        "                'Piedra': 'Tijera',\n",
        "                'Tijera': 'Papel',\n",
        "                'Papel': 'Piedra'\n",
        "            }\n",
        "\n",
        "            # Si se empató con cualquiera se restauran las reglas originales\n",
        "        elif reglas[jugador1] == jugador2:\n",
        "            eventos.append('Victoria')\n",
        "            reglas = reglas_invertidas\n",
        "        else:\n",
        "            eventos.append('Derrota')\n",
        "    eventos.append('Fin del juego')\n",
        "    return eventos\n",
        "\n",
        "# Función para ejecutar el juego\n",
        "def main():\n",
        "    eventos = juego()\n",
        "    clear()\n",
        "\n",
        "    #acá imprimimos el número del movimiento y el tipo de evento registrado\n",
        "    print('Número del movimiento\\tTipo de evento')\n",
        "    for i, evento in enumerate(eventos):\n",
        "        print(f'{i + 1}\\t\\t\\t{evento}')\n",
        "        time.sleep(1)\n",
        "    input('Presione Enter para salir')\n",
        "\n",
        "  #  Ejecutamos la función principal\n",
        "if __name__ == '__main__':\n",
        "    main()\n"
      ]
    },
    {
      "cell_type": "markdown",
      "metadata": {
        "id": "m_eEnXwa84De"
      },
      "source": [
        "## Ejercicio 13\n",
        "\n",
        "Crea un programa para generar poesías al azar. Para simplificar los requisitos de este ejercicio vamos a limitarlos a lo siguiente:\n",
        "\n",
        "- Tendrá 2 estrofas\n",
        "- Cada estrofa tendrá 4 versos\n",
        "- Cada verson puede tener de 4 a 6 palabras\n",
        "- En cada estrofa el verso 1 rimará con el 3, y el 2 con el 4\n",
        "   - Se considerará rima cuando coincidan las últimas 2 letras de la palabra\n",
        "\n",
        "Para realizar, debes usar dos listas de palabras, la primera lista con palabras comunes, y la segunda con palabras que se usarán para rimar. Es decir, las palabras que usaremos al final de cada verso. Estas tienen que ser de rima variada, ejemplo: -ción, -ella, -ada, -aso, etc."
      ]
    },
    {
      "cell_type": "code",
      "execution_count": null,
      "metadata": {
        "id": "o11ukOC-_eDZ"
      },
      "outputs": [],
      "source": [
        "import random\n",
        "\n",
        "# Lista de palabras comunes\n",
        "palabras = [\n",
        "    'Hola', 'Mundo', 'Python', 'Programación', 'Código', 'Desarrollo', 'Lenguaje', 'Computadora', 'Terminal', 'Sistema'\n",
        "]\n",
        "\n",
        "# Lista de palabras para rima\n",
        "rimas = [\n",
        "    'ción', 'ella', 'ada', 'aso', 'ido', 'ero', 'oso', 'ado', 'ero', 'ido'\n",
        "]\n",
        "\n",
        "# Función para generar poesía\n",
        "def poesia():\n",
        "    # Creo un diccionario para almacenar las estrofas\n",
        "    estrofas = {}\n",
        "    for i in range(2):\n",
        "        # Creo una lista vacía para almacenar los versos\n",
        "        versos = []\n",
        "        for j in range(4):\n",
        "            # Elijo una palabra al azar de la lista de palabras\n",
        "            palabra = random.choice(palabras)\n",
        "            # Elijo una rima al azar de la lista de rimas\n",
        "            rima = random.choice(rimas)\n",
        "            # Si es el primer verso de la estrofa\n",
        "            if j == 0:\n",
        "                # Agrego la palabra al diccionario\n",
        "                versos.append(palabra)\n",
        "            # Si es el segundo verso de la estrofa\n",
        "            elif j == 1:\n",
        "                # Agrego la palabra al diccionario\n",
        "                versos.append(palabra)\n",
        "            # Si es el tercer verso de la estrofa\n",
        "            elif j == 2:\n",
        "                # Agrego la palabra al diccionario\n",
        "                versos.append(palabra + rima)\n",
        "            # Si es el cuarto verso de la estrofa\n",
        "            elif j == 3:\n",
        "                # Agrego la palabra al diccionario\n",
        "                versos.append(palabra + rima)\n",
        "        # Agrego la estrofa al diccionario\n",
        "        estrofas[f'Estrofa {i + 1}'] = versos\n",
        "    return estrofas\n",
        "\n",
        "# Función para ejecutar el programa\n",
        "def main():\n",
        "    # Genero la poesía\n",
        "    poesia_generada = poesia()\n",
        "    # Imprimo la poesía\n",
        "    for estrofa, versos in poesia_generada.items():\n",
        "        print(estrofa)\n",
        "        for verso in versos:\n",
        "            print(verso)\n",
        "        print()\n",
        "\n",
        "# Ejecuto el programa\n",
        "if __name__ == '__main__':\n",
        "    main()\n"
      ]
    },
    {
      "cell_type": "markdown",
      "metadata": {
        "id": "DFGfMWHC_ed8"
      },
      "source": [
        "## Ejercicio 14\n",
        "\n",
        "Crea un programa para gestionar las tareas de un equipo de trabajo. En una lista se tendrá los participantes del proyecto.  \n",
        "En otra lista el estado de una tarea (No iniciada, En progreso, Terminada, Cancelada).  \n",
        "Por último, una lista de tuplas en donde el primer elemento es la descripción de la tarea, el segundo el índice que indica la persona asignada, y el último el índice que indica el estado de la tarea.  \n",
        "Luego cargue valores a esta estructura y muestre una tabla como la siguiente:\n",
        "\n",
        "| Tarea | Asignada a | Estado Actual |\n",
        "| :- | --- | --- |\n",
        "| Revisar el diseño de PHIIP | Vicky | En Progreso |\n",
        "| Controlar procesos de desarrollo | Dani | Terminada |\n",
        "| Publicar nuevo curso en Instagram | Pame | Terminada |\n",
        "| Redactar nota a presentar | Cris | Terminada |\n",
        "| Completar informes finales | Anita | En Progreso |\n",
        "| Actualizar lista de inscriptas | Luis | En Progreso |\n",
        "| Organizar proyectos en Notion | Santi | Cancelada |\n",
        "| Dictar el taller de Replit | Santi | Terminada |\n"
      ]
    },
    {
      "cell_type": "code",
      "execution_count": null,
      "metadata": {
        "id": "DJfu31-RADxP",
        "colab": {
          "base_uri": "https://localhost:8080/"
        },
        "outputId": "4b8d6bb3-3bc6-49b0-ef79-d3c20043709b"
      },
      "outputs": [
        {
          "output_type": "stream",
          "name": "stdout",
          "text": [
            "Tarea                                    Asignada a      Estado Actual  \n",
            "Revisar el diseño de PHIIP               Vicky           En progreso    \n",
            "Controlar procesos de desarrollo         Dani            Terminada      \n",
            "Publicar nuevo curso en Instagram        Pame            Terminada      \n",
            "Redactar nota a presentar                Cris            Terminada      \n",
            "Completar informes finales               Anita           En progreso    \n",
            "Actualizar lista de inscriptas           Luis            En progreso    \n",
            "Organizar proyectos en Notion            Santi           Cancelada      \n",
            "Dictar el taller de Replit               Santi           Terminada      \n"
          ]
        }
      ],
      "source": [
        "# Creo una función que imprime la tabla con las tareas, participantes y estados. Recorre la lista de tareas e imprime los datos correspondientes.\n",
        "def mostrar_tabla(tareas, participantes, estados):\n",
        "    print('Tarea'.ljust(40), 'Asignada a'.ljust(15), 'Estado Actual'.ljust(15))\n",
        "    for tarea in tareas:\n",
        "        print(tarea[0].ljust(40), participantes[tarea[1]].ljust(15), estados[tarea[2]].ljust(15))\n",
        "\n",
        "# En esta funci[on se crean las listas con los valores de las tareas, participantes y estados y se devuelven para utilizar en la función main().\n",
        "def cargar_valores():\n",
        "    tareas = [\n",
        "        ('Revisar el diseño de PHIIP', 0, 1),\n",
        "        ('Controlar procesos de desarrollo', 1, 2),\n",
        "        ('Publicar nuevo curso en Instagram', 2, 2),\n",
        "        ('Redactar nota a presentar', 3, 2),\n",
        "        ('Completar informes finales', 4, 1),\n",
        "        ('Actualizar lista de inscriptas', 5, 1),\n",
        "        ('Organizar proyectos en Notion', 6, 3),\n",
        "        ('Dictar el taller de Replit', 7, 2)\n",
        "    ]\n",
        "\n",
        "    # Participantes y estados definidos como listas de strings que se mostrarán en la tabla de tareas usando sus índices. por ejemplo, participantes[0] es 'Vicky'. Estado actual[0] es 'No iniciada'...\n",
        "    participantes = ['Vicky', 'Dani', 'Pame', 'Cris', 'Anita', 'Luis', 'Santi', 'Santi']\n",
        "    estados = ['No iniciada', 'En progreso', 'Terminada', 'Cancelada']\n",
        "\n",
        "    return tareas, participantes, estados\n",
        "\n",
        "# Función principal que carga los valores de las tareas, participantes y estados y luego llama a la función mostrar_tabla() para mostrar la tabla con los datos cargados.\n",
        "def main():\n",
        "    tareas, participantes, estados = cargar_valores()\n",
        "    mostrar_tabla(tareas, participantes, estados)\n",
        "\n",
        "#llamamos a la función main y ejecutamos el programa\n",
        "if __name__ == '__main__':\n",
        "    main()\n"
      ]
    },
    {
      "cell_type": "markdown",
      "metadata": {
        "id": "yz-iWzpDCsfR"
      },
      "source": [
        "## Ejercicio 15\n",
        "\n",
        "Crea un programa para generar música aleatoriamente. La música estará dividida en dos listas, la primera serán los acordes, y la segunda las notas de la melodía.  \n",
        "Cada cuatro notas de la melodía debe haber un acorde. Muestre la canción creada con la siguiente forma:\n",
        "```  \n",
        "Ac1         Ac2         Ac3            Ac4  \n",
        "N1 N2 N3 N4 N5 N6 N7 N8 N9 N10 N11 N12 N13 N14 N15 N16\n",
        "```\n",
        "En donde Ac representa un acorde, y N una nota."
      ]
    },
    {
      "cell_type": "code",
      "execution_count": 9,
      "metadata": {
        "id": "0LK4t3a-Cs0-",
        "colab": {
          "base_uri": "https://localhost:8080/"
        },
        "outputId": "7a86ed9e-e27e-4b5e-f806-3db317ace7a0"
      },
      "outputs": [
        {
          "output_type": "stream",
          "name": "stdout",
          "text": [
            "G          \n",
            "Do    Do    Re    Mi    \n",
            "\n",
            "La    Mi    Sol   Si    \n",
            "\n",
            "Do    Mi    Do    La    \n",
            "\n",
            "Mi    Mi    Sol   Si    \n",
            "F          \n",
            "La    Mi    Mi    Si    \n",
            "\n",
            "Si    Do    Do    Fa    \n",
            "\n",
            "Sol   Re    Fa    Fa    \n",
            "\n",
            "Mi    Do    Re    Mi    \n",
            "C          \n",
            "Fa    La    Re    Si    \n",
            "\n",
            "Do    Re    Sol   Do    \n",
            "\n",
            "Do    Sol   Sol   Re    \n",
            "\n",
            "Sol   Fa    Re    Sol   \n",
            "Em         \n",
            "La    Sol   La    Mi    \n",
            "\n",
            "Re    Mi    Si    Re    \n",
            "\n",
            "Re    Mi    Mi    Do    \n",
            "\n",
            "Sol   Do    Mi    La    \n"
          ]
        }
      ],
      "source": [
        "import random\n",
        "# Creo una función que imprime la canción con los acordes y las notas. Recorre las listas de acordes y notas e imprime los datos correspondientes.\n",
        "\n",
        "def mostrar_cancion(acordes, notas):\n",
        "    for i in range(0, 16):\n",
        "        if i % 4 == 0:\n",
        "            print(random.choice(acordes).ljust(10), end=' ')\n",
        "        print()\n",
        "        for _ in range(4):\n",
        "            print(random.choice(notas).ljust(5), end=' ')\n",
        "        print()\n",
        "\n",
        "# En esta función se crean las listas con los valores de los acordes y notas y se devuelven para utilizar en la función main().\n",
        "\n",
        "def cargar_valores():\n",
        "    acordes = ['Am', 'G', 'F', 'C', 'Dm', 'Em', 'A', 'E']\n",
        "    notas = ['Do', 'Re', 'Mi', 'Fa', 'Sol', 'La', 'Si']\n",
        "    return acordes, notas\n",
        "\n",
        "# Función principal que carga los valores de los acordes y notas y luego llama a la función mostrar_cancion() para mostrar la canción con los datos cargados.\n",
        "\n",
        "def main():\n",
        "    acordes, notas = cargar_valores()\n",
        "    mostrar_cancion(acordes, notas)\n",
        "\n",
        "#llamamos a la función main y ejecutamos el programa\n",
        "\n",
        "if __name__ == '__main__':\n",
        "    main()"
      ]
    }
  ],
  "metadata": {
    "colab": {
      "provenance": []
    },
    "kernelspec": {
      "display_name": "Python 3 (ipykernel)",
      "language": "python",
      "name": "python3"
    },
    "language_info": {
      "codemirror_mode": {
        "name": "ipython",
        "version": 3
      },
      "file_extension": ".py",
      "mimetype": "text/x-python",
      "name": "python",
      "nbconvert_exporter": "python",
      "pygments_lexer": "ipython3",
      "version": "3.9.13"
    }
  },
  "nbformat": 4,
  "nbformat_minor": 0
}