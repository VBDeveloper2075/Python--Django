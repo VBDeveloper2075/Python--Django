{
  "nbformat": 4,
  "nbformat_minor": 0,
  "metadata": {
    "colab": {
      "provenance": [],
      "collapsed_sections": [
        "SBC-RIA1-nug"
      ]
    },
    "kernelspec": {
      "name": "python3",
      "display_name": "Python 3"
    },
    "language_info": {
      "name": "python"
    }
  },
  "cells": [
    {
      "cell_type": "markdown",
      "source": [
        "##Temas: Tipos de datos complejos(listas, tuplas, diccionarios de datos, Set). Manejo de cadenas de caracteres."
      ],
      "metadata": {
        "id": "TaNYMP7Cn0LM"
      }
    },
    {
      "cell_type": "markdown",
      "source": [
        "##Ejercicio Nro 1\n",
        "Escribir un programa donde pregunte la cantidad de números a generar de manera aleatoria, para guardarlos y los muestre por pantalla ordenado de menor a mayor. Los números resultantes no deben tener repetidos."
      ],
      "metadata": {
        "id": "AxJ5YXIPoAQl"
      }
    },
    {
      "cell_type": "code",
      "source": [
        "#Resolver"
      ],
      "metadata": {
        "id": "zRm42iYcqzk4"
      },
      "execution_count": null,
      "outputs": []
    },
    {
      "cell_type": "markdown",
      "source": [
        "## Ejercicio Nro 2\n",
        "\n",
        "Crea un programa que tome dos cadenas de texto y devuelva los carácteres únicos que aparecen en ambas cadenas."
      ],
      "metadata": {
        "id": "SBC-RIA1-nug"
      }
    },
    {
      "cell_type": "code",
      "source": [
        "#Resolver"
      ],
      "metadata": {
        "id": "_-AeEzef2JIx"
      },
      "execution_count": null,
      "outputs": []
    },
    {
      "cell_type": "markdown",
      "source": [
        "## Ejercicio Nro 3\n",
        "\n",
        "Belén y María quieren organizar una competencia de juegos pero necesitan saber qué juegos tienen en común. Cree un programa que pregunte los juegos que tiene cada una y luego obtenga los que ambas poseen. Luego, con estos juegos cree un diccionario que guarde el nombre del juego y el puntaje de cada una en la siguiente estructura.  \n",
        "\n",
        "```python\n",
        "diccionario = { \"juego1\": (\"Tetris\", [1500, 2000]), \"juego2\": (\"Rocket League\", [4, 9]), ...}\n",
        "```"
      ],
      "metadata": {
        "id": "m-CwAE5L2IXD"
      }
    },
    {
      "cell_type": "code",
      "source": [
        "#Resolver"
      ],
      "metadata": {
        "id": "hl86z9gu3GI2"
      },
      "execution_count": null,
      "outputs": []
    },
    {
      "cell_type": "markdown",
      "source": [
        "## Ejercicio Nro 4\n",
        "\n",
        "Crea un programa en donde se reciban dos palabras y se determine si son anagramas."
      ],
      "metadata": {
        "id": "C4qs0sGU3Fh9"
      }
    },
    {
      "cell_type": "code",
      "source": [
        "#Resolver"
      ],
      "metadata": {
        "id": "iN0L-00M40jV"
      },
      "execution_count": null,
      "outputs": []
    },
    {
      "cell_type": "markdown",
      "source": [
        "## Ejercicio Nro 5\n",
        "\n",
        "Crea un programa para obtener la lista de alumnos que no entregaron un trabajo práctico. Para esto se tendrá la lista completa de alumnos y la lista de alumnos que entregaron el trabajo práctico."
      ],
      "metadata": {
        "id": "UeWA9yqj4z6o"
      }
    },
    {
      "cell_type": "code",
      "source": [
        "#Resolver"
      ],
      "metadata": {
        "id": "80jl1HiY5KGC"
      },
      "execution_count": null,
      "outputs": []
    },
    {
      "cell_type": "markdown",
      "source": [
        "## Ejercicio Nro 6\n",
        "\n",
        "Crea un programa que tome una cadena de texto y devuelva un diccionario que contenga la frecuencia de aparición de cada palabra en el texto. Usa conjuntos para obtener las palabras únicas y una lista para guardar las palabras en orden antes de crear el diccionario."
      ],
      "metadata": {
        "id": "ZQNQBpXE5IHO"
      }
    },
    {
      "cell_type": "code",
      "source": [
        "#Resolver"
      ],
      "metadata": {
        "id": "mukGR9IZ6sSv"
      },
      "execution_count": null,
      "outputs": []
    },
    {
      "cell_type": "markdown",
      "source": [
        "## Ejercicio Nro 7\n",
        "\n",
        "Se tiene un diccionario de personas en donde la clave es el nombre y el valor asociado es una tupla con la edad y una lista de hobbies.  \n",
        "Crea un programa que devuelva una lista de tuplas en donde cada una contiene el nombre, la edad, y un hobby aleatorio de esa persona."
      ],
      "metadata": {
        "id": "zPzjyLYH6Vl6"
      }
    },
    {
      "cell_type": "code",
      "source": [
        "#Resolver"
      ],
      "metadata": {
        "id": "FMHqCMPz7Bmw"
      },
      "execution_count": null,
      "outputs": []
    },
    {
      "cell_type": "markdown",
      "source": [
        "## Ejercicio Nro 8\n",
        "\n",
        "Crea un programa que reciba varias listas de números y luego crea una lista de diccionarios usando esta información. Cada diccionario tendrá como claves las cadenas \"minimo\", \"maximo\", y \"suma\", y los valores serán los calculados correspondientes para cada una de las listas."
      ],
      "metadata": {
        "id": "RDdR0tYC7BF4"
      }
    },
    {
      "cell_type": "code",
      "source": [
        "#Resolver"
      ],
      "metadata": {
        "id": "xCPXxFm17ZEK"
      },
      "execution_count": null,
      "outputs": []
    },
    {
      "cell_type": "markdown",
      "source": [
        "## Ejercicio Nro 9\n",
        "\n",
        "Crea un programa que permita traducir una frase a diferentes idiomas usando diccionarios. El programa será una simplificación de la traducción suponiendo que el orden de las palabras se mantiene y no se agregan/eliminan palabras en el lenguaje de destino.  \n",
        "\n",
        "El diccionario a usar tendrá la siguiente estructura:\n",
        "\n",
        "```python\n",
        "diccionario = {\n",
        "    \"palabra\": { \"EN\" : \"word\", \"FR\" : \"mot\", \"PT\" : \"palavra\"},\n",
        "    \"casa\": { \"EN\" : \"home\", \"FR\" : \"maison\", \"PT\" : \"casa\"},\n",
        "    \"juego\": { \"EN\" : \"game\", \"FR\" : \"jeu\", \"PT\" : \"jogo\"}\n",
        "    # Agregamos todas las palabras que vamos a usar en nuestra frase de ejemplo. EN: inglés, FR: francés, PT: portugués\n",
        "}\n",
        "```"
      ],
      "metadata": {
        "id": "hK61yKyj7YpQ"
      }
    },
    {
      "cell_type": "code",
      "source": [
        "#Resolver"
      ],
      "metadata": {
        "id": "LwkkkhJq8F8j"
      },
      "execution_count": null,
      "outputs": []
    },
    {
      "cell_type": "markdown",
      "source": [
        "## Ejercicio Nro 10\n",
        "\n",
        "Crea un diccionario donde la clave sea el nombre del usuario y el valor sea el teléfono (no es necesario validar). Tendrás que ir pidiendo contactos hasta el usuario diga que no quiere insertar mas. No se podrán insertar nombres repetidos."
      ],
      "metadata": {
        "id": "jMxyBedn8FK6"
      }
    },
    {
      "cell_type": "code",
      "source": [
        "#Resolver"
      ],
      "metadata": {
        "id": "U0bNATfh-ydo"
      },
      "execution_count": null,
      "outputs": []
    },
    {
      "cell_type": "markdown",
      "source": [
        "## Ejercicio Nro 11\n",
        "\n",
        "Escribir un programa que guarde en una variable el diccionario `{'Euro':'€', 'Dólar':'$', 'Yen':'¥', 'Rublo': '₽', 'Libra': '£'}`, pregunte al usuario por una divisa y muestre su símbolo o un mensaje de aviso si la divisa no está en el diccionario.\n",
        "\n",
        "Adicional: Agregue a cada divisa la tasa de conversión con el peso argentino y según la entrada del usuario devuelva la equivalencia en la moneda elegida."
      ],
      "metadata": {
        "id": "tXR2wJkC30aH"
      }
    },
    {
      "cell_type": "code",
      "source": [
        "#Resolver"
      ],
      "metadata": {
        "id": "3A88qVEV36DX"
      },
      "execution_count": null,
      "outputs": []
    },
    {
      "cell_type": "markdown",
      "source": [
        "## Ejercicio Nro 12\n",
        "\n",
        "Escribir un programa que gestione las facturas pendientes de cobro de una empresa. Las facturas se almacenarán en un diccionario donde la clave de cada factura será el número de factura y el valor el coste de la factura. El programa debe preguntar al usuario si quiere añadir una nueva factura, pagar una existente o terminar. Si desea añadir una nueva factura se preguntará por el número de factura y su coste y se añadirá al diccionario. Si se desea pagar una factura se preguntará por el número de factura y se eliminará del diccionario. Después de cada operación el programa debe mostrar por pantalla la cantidad cobrada hasta el momento y la cantidad pendiente de cobro."
      ],
      "metadata": {
        "id": "72Ofe3kz5ujz"
      }
    },
    {
      "cell_type": "code",
      "source": [
        "#Resolver"
      ],
      "metadata": {
        "id": "QAyXyorb59Bz"
      },
      "execution_count": null,
      "outputs": []
    },
    {
      "cell_type": "markdown",
      "source": [
        "##Ejercicio Nro 13\n",
        "\n",
        "Escribir una función reciba un diccionario con las asignaturas y las notas de un alumno y devuelva otro diccionario con las asignaturas en mayúsculas y las calificaciones correspondientes a las notas."
      ],
      "metadata": {
        "id": "_p5q_YhTOvyR"
      }
    },
    {
      "cell_type": "code",
      "source": [
        "#Resolver"
      ],
      "metadata": {
        "id": "zeBPt4gw-Cye"
      },
      "execution_count": null,
      "outputs": []
    }
  ]
}