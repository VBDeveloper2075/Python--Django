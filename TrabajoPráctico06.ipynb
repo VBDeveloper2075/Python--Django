{
  "cells": [
    {
      "cell_type": "markdown",
      "metadata": {
        "id": "KQ3RndSrF7Wh"
      },
      "source": [
        "# **Trabajo Práctico - Funciones**\n",
        "\n",
        "Para cada función creada en este Trabajo Práctico, se pide que se incluya su correspondiente docstring explicando qué hace la función. Ejemplo:\n",
        "\n",
        "```python\n",
        "def funcion(param1, param2, param3)\n",
        "    \"\"\"\n",
        "    La función procesa los valores recibidos y devuelve una lista\n",
        "    \"\"\"\n",
        "    lista = [param1, param2, param3]\n",
        "    return lista\n",
        "```\n"
      ]
    },
    {
      "cell_type": "markdown",
      "metadata": {
        "id": "RJk2tl43F7Wj"
      },
      "source": [
        "## **Ejercicio Nro 1**:\n",
        "\n",
        "Escribir una función que reciba un entero en horas y lo convierta a segundos y lo devuelva.  \n",
        "Agregue otra función que reciba un entero en meses, considere que todos los meses tienen 30 días."
      ]
    },
    {
      "cell_type": "code",
      "execution_count": null,
      "metadata": {
        "id": "9xFm0D0HF7Wj"
      },
      "outputs": [],
      "source": []
    },
    {
      "cell_type": "markdown",
      "metadata": {
        "id": "pFbfV1HuF7Wk"
      },
      "source": [
        "## **Ejercicio Nro 2**:\n",
        "\n",
        "Escribir una función que reciba cuatro números y que devuelva el resultado de sumar los primeros tres y multiplicar ese resultado por el cuarto."
      ]
    },
    {
      "cell_type": "code",
      "source": [],
      "metadata": {
        "id": "ft5PdLXAImh2"
      },
      "execution_count": null,
      "outputs": []
    },
    {
      "cell_type": "markdown",
      "metadata": {
        "id": "NswKGydjImBq"
      },
      "source": [
        "## **Ejercicio Nro 3**:\n",
        "\n",
        "Escribir una función que reciba una cadena y devuelva la misma invertida con el primer y último carácter en mayúsculas."
      ]
    },
    {
      "cell_type": "code",
      "source": [],
      "metadata": {
        "id": "fQH2ZruKJDRE"
      },
      "execution_count": null,
      "outputs": []
    },
    {
      "cell_type": "markdown",
      "metadata": {
        "id": "CQWWeYawI3aP"
      },
      "source": [
        "## **Ejercicio Nro 4**:\n",
        "\n",
        "Escribir una función que reciba una lista de números y devuelva una tupla con el valor mínimo, el máximo, el promedio, y la suma."
      ]
    },
    {
      "cell_type": "code",
      "execution_count": null,
      "metadata": {
        "id": "jnRdPq2CF7Wk"
      },
      "outputs": [],
      "source": []
    },
    {
      "cell_type": "markdown",
      "metadata": {
        "id": "dP42LTAtJCYa"
      },
      "source": [
        "## **Ejercicio Nro 5**:\n",
        "\n",
        "Escribir una función que dados dos números enteros a, b con `a < b` devuelva una lista de todos los números enteros entre ellos."
      ]
    },
    {
      "cell_type": "code",
      "source": [],
      "metadata": {
        "id": "gYWsQxb3JDnf"
      },
      "execution_count": null,
      "outputs": []
    },
    {
      "cell_type": "markdown",
      "metadata": {
        "id": "P1Qk5CARJNP8"
      },
      "source": [
        "## **Ejercicio Nro 6**:\n",
        "\n",
        "Escribir una función que reciba una lista de números enteros y un entero, y devuelva la suma de los números que son mayores al entero recibido."
      ]
    },
    {
      "cell_type": "code",
      "source": [],
      "metadata": {
        "id": "6RbwxoqKJNxb"
      },
      "execution_count": null,
      "outputs": []
    },
    {
      "cell_type": "markdown",
      "metadata": {
        "id": "FEoEon9fF7Wl"
      },
      "source": [
        "## **Ejercicio Nro 7**:\n",
        "\n",
        "Escribir una función que calcule y devuelva el factorial de un número pasado como parámetro.  \n",
        "  \n",
        "> El factorial de un número entero no negativo **n**, llamado el *factorial de n* o *n factorial* se define como el producto de todos los números enteros positivos desde 1 hasta **n**. Si **n** vale 0, su factorial es 1.  \n",
        "  \n",
        "Por ejemplo, el factorial de 5, simbolizado como `5!` es:  \n",
        "`5! = 5 * 4 * 3 * 2 * 1 = 120`"
      ]
    },
    {
      "cell_type": "markdown",
      "metadata": {
        "id": "nqiKDmloJB3c"
      },
      "source": [
        "## **Ejercicio Nro 8**:\n",
        "\n",
        "Escribir un programa que realice dos tareas principales:\n",
        "\n",
        "\n",
        "*   Calcular el IMC (Índice de Masa Corporal) utilizando la fórmula peso / (altura ^ 2), con peso en kg y altura en mts\n",
        "*   Interpretar el IMC, según el valor calculado retornar un texto interpretando el IMC según la siguiente tabla:  \n",
        "\n",
        "| Intervalo | Interpretación |\n",
        "| --- | --- |\n",
        "| < 18.5 | \"Peso insuficiente\" |\n",
        "| 18.5 a 24.9 | \"Peso normal\" |\n",
        "| 25 a 29.9 | \"Sobrepeso\" |\n",
        "| > 30 | \"Obesidad\" |\n",
        "\n",
        "El mensaje final luego de ingresar sus datos debe tener la forma:  \n",
        "`Con su peso de {peso} kgs y altura de {altura} mts, usted tiene {interpretación}`.\n",
        "\n"
      ]
    },
    {
      "cell_type": "code",
      "execution_count": null,
      "metadata": {
        "id": "iC6Olo_RF7Wl"
      },
      "outputs": [],
      "source": []
    },
    {
      "cell_type": "markdown",
      "metadata": {
        "id": "A7gu-V7MF7Wl"
      },
      "source": [
        "## **Ejercicio Nro 9**:\n",
        "\n",
        "Escribir una función que cuente y devuelva la cantidad de letras mayúsculas y minúsculas de una cadena pasada como parámetro.\n"
      ]
    },
    {
      "cell_type": "code",
      "execution_count": null,
      "metadata": {
        "id": "1cfJKcwdF7Wm"
      },
      "outputs": [],
      "source": []
    },
    {
      "cell_type": "markdown",
      "metadata": {
        "id": "9UJINRskJ6M0"
      },
      "source": [
        "## **Ejercicio Nro 10**:\n",
        "\n",
        "Escribir una función que reciba un número entero y devuelva el entero múltiplo de 5 más cercano a este mayor que cero."
      ]
    },
    {
      "cell_type": "code",
      "source": [],
      "metadata": {
        "id": "z2ZU8JNaJ6mz"
      },
      "execution_count": null,
      "outputs": []
    },
    {
      "cell_type": "markdown",
      "metadata": {
        "id": "-yY6W6c0F7Wm"
      },
      "source": [
        "## **Ejercicio Nro 11**:\n",
        "\n",
        "Escribir una función que, dada una cadena pasada como parámetro, devuelva la longitud de la última palabra. Se considera que las palabras están separadas por uno o más espacios. También podría haber espacios al principio o al final de la cadena. Debe ignorar puntos, puntos suspensivos, signos de admiración y de pregunta que esten al final de la cadena.  \n",
        "  \n",
        "Por ejemplo:  \n",
        "  \n",
        "Si la cadena es: `\"Si miran mis sandalias, hay tabla.\"`, debe retornar 5."
      ]
    },
    {
      "cell_type": "code",
      "execution_count": null,
      "metadata": {
        "id": "7u3MV7TTF7Wm"
      },
      "outputs": [],
      "source": []
    },
    {
      "cell_type": "markdown",
      "metadata": {
        "id": "siFnB2vXF7Wm"
      },
      "source": [
        "## **Ejercicio Nro 12**:\n",
        "\n",
        "Escribir una función que dada una cadena pasada como parámetro, devuelva una *lista* de las palabras contenidas, sin palabras repetidas. Debe ignorar puntos, comas, signos de admiración y de pregunta y puntos suspensivos.  \n",
        "  \n",
        "Por ejemplo, para la cadena `\"Na na na na na na na na, batman!\"`, debe devolver `['Na', 'na', 'batman']`.  \n",
        "  \n",
        "Pista: se puede convertir a set() para eliminar repetidos de una lista."
      ]
    },
    {
      "cell_type": "code",
      "execution_count": null,
      "metadata": {
        "id": "uw8EGjGZF7Wm"
      },
      "outputs": [],
      "source": []
    },
    {
      "cell_type": "markdown",
      "metadata": {
        "id": "neexDndXF7Wn"
      },
      "source": [
        "## **Ejercicio Nro 13**:\n",
        "\n",
        "Escribir una función que reciba una cadena y devuelva un diccionario donde las claves son cada letra de la cadena y los valores son la cantidad de veces que la letra figura en la cadena. Mayúsculas y minúsculas se toman como la misma letra (U = u). Solo debe contar letras, ignorar simbolos y números.  \n",
        "  \n",
        "Por ejemplo:  \n",
        "`cadena = \"Hola, sapo sin cola.\"`  \n",
        "`diccionario = {'h': 1, 'o': 3, 'l': 2, 'a': 3, 's': 2, 'p': 1, 'i': 1, 'n': 1, 'c': 1}`  \n",
        "  \n",
        "<br>\n",
        "\n",
        "Opcional: Usar otra función que reemplace las vocales con tilde a vocales sin tilde para evitar contarlas de manera separada.  \n",
        "  \n",
        "Por ejemplo:  \n",
        "`cadena = \"Lo arruinarás.\"`  \n",
        "`diccionario = {'l': 1, 'o': 1, 'a': 3, 'r': 2, 'u': 1, 'i': 1, 'n': 1, 's': 1}`"
      ]
    },
    {
      "cell_type": "code",
      "execution_count": null,
      "metadata": {
        "id": "jtMwtS40F7Wn"
      },
      "outputs": [],
      "source": []
    },
    {
      "cell_type": "markdown",
      "metadata": {
        "id": "eAxS0_71F7Wn"
      },
      "source": [
        "## **Ejercicio Nro 14**:\n",
        "\n",
        "Escribir una función que reciba una lista de enteros y devuelva una nueva lista con los números `7`, `2`, `7` consecutivos en una tupla en su posición.  \n",
        "  \n",
        "Por ejemplo, si la lista es: `[1, 2, 4, 7, 2, 7, 5]`, la función debe devolver `[1, 2, 4, (7, 2, 7), 5]`."
      ]
    },
    {
      "cell_type": "code",
      "execution_count": null,
      "metadata": {
        "id": "1ukMx283F7Wn"
      },
      "outputs": [],
      "source": []
    },
    {
      "cell_type": "markdown",
      "metadata": {
        "id": "ZhhiGUyjF7Wo"
      },
      "source": [
        "## **Ejercicio Nro 15**:\n",
        "\n",
        "Escribir una función que permita cargar los datos de alumnos de la universidad en diccionarios. Los datos que se van a pedir son: nombre, edad, carrera y número de legajo. Permitir al usuario ingresar todos los alumnos que quiera. Almacenar los datos de un alumno en un diccionario y a todos los diccionarios en una lista.  \n",
        "  \n",
        "Por ejemplo, si se hubieran ingresado los datos de cuatro alumnos, la lista de diccionarios quedaría de la siguiente forma:\n",
        "  \n",
        "```python\n",
        "datos_alumnos = [{\"nombre\": \"Yamila Rodríguez\", \"edad\": 21, \"carrera\": \"Técnico en Desarrollo de Software\", \"legajo\": 24345},\n",
        "                 {\"nombre\": \"Martina del Treco\", \"edad\": 19, \"carrera\": \"Técnico en Desarrollo de Software\", \"legajo\": 43563},\n",
        "                 {\"nombre\": \"Joaquín Correa\", \"edad\": 20, \"carrera\": \"Técnico en Desarrollo de Software\", \"legajo\": 91923},\n",
        "                 {\"nombre\": \"Luis Miguel Rodriguez\", \"edad\": 19, \"carrera\": \"Técnico en Desarrollo de Software\", \"legajo\": 43545}]\n",
        "```"
      ]
    },
    {
      "cell_type": "code",
      "execution_count": null,
      "metadata": {
        "id": "I5qte-5yF7Wo"
      },
      "outputs": [],
      "source": []
    },
    {
      "cell_type": "markdown",
      "metadata": {
        "id": "f1tVte4TLUlX"
      },
      "source": [
        "## **Ejercicio Nro 16**:\n",
        "\n",
        "La \"Torre de los Divisores\" es una antigua estructura que consta de 10 pisos. En cada piso, a los escaladores se les muestra un número y deben proporcionar todos sus divisores (separados por un espacio) para avanzar al siguiente piso.  \n",
        "Si proporcionan un número incorrecto, caen al piso anterior. Si caen más allá del primer piso, son eliminados del juego.  \n",
        "Al finalizar el juego, devuelva una lista de los escaladores que fueron eliminados en el orden que lo hicieron, y otra lista con todos los que superaron el desafío.  \n",
        "La cantidad inicial de escaladores es de 15.\n"
      ]
    },
    {
      "cell_type": "code",
      "source": [],
      "metadata": {
        "id": "Va-KJYHyMjOf"
      },
      "execution_count": null,
      "outputs": []
    },
    {
      "cell_type": "markdown",
      "source": [
        "## **Ejercicio Nro 17**:\n",
        "\n",
        "Imaginá que sos un alpinista que está explorando una cadena de montañas. Cada montaña tiene una altura única y una letra asignada que representa su nombre. Cuando llegás a la cima de cada montaña, grabás la letra asociada a la montaña y su altura en tu cuaderno.\n",
        "\n",
        "Sin embargo, para ahorrar espacio en tu cuaderno, decidís usar un algoritmo de compresión. En lugar de anotar la misma letra una y otra vez, decides anotar cada letra una sola vez junto con la altura de la montaña que representa.\n",
        "\n",
        "Por ejemplo, si escalas tres montañas con las letras 'A', 'B' y 'C', con alturas de 3, 2 y 5 respectivamente, en lugar de escribir 'AAA' 'BB' 'CCCCC', simplemente anotás ('A', 3) ('B', 2) ('C', 5).\n",
        "\n",
        "Desarrollá un programa que pueda descomprimir estas entradas del cuaderno. El programa debe tomar una lista de estas tuplas y devolver la secuencia de letras original, representando cada montaña que has escalado y su respectiva altura.\n",
        "\n",
        "Por ejemplo, si tu programa recibe la lista [('A', 3), ('B', 2), ('C', 5)], debe devolver la lista de cadenas ['AAA', 'BB', 'CCCCC']."
      ],
      "metadata": {
        "id": "OpSwKByWMjoB"
      }
    },
    {
      "cell_type": "code",
      "source": [],
      "metadata": {
        "id": "-jd4c_7tNHDG"
      },
      "execution_count": null,
      "outputs": []
    },
    {
      "cell_type": "markdown",
      "source": [
        "## **Ejercicio Nro 18**:\n",
        "\n",
        "Sos un botánico trabajando en un jardín experimental. En este jardín, las flores no crecen de forma aleatoria, sino que siguen un patrón específico determinado por un algoritmo genético. Cada tipo de flor en el jardín tiene asignado un número entero único, y el algoritmo genera una secuencia de números que representa el patrón de plantación.\n",
        "\n",
        "Para hacer el seguimiento de los patrones más eficiente, se te ocurre la idea de usar una estructura especial. Representás cada patrón como una lista de tuplas, donde cada tupla contiene un número entero (representando el tipo de flor) y otro número que representa la diferencia con el número anterior en la secuencia.\n",
        "\n",
        "Por ejemplo, si la secuencia original es `5, 8, 8, 12, 9`, la lista de tuplas sería `[('inicio', 5), ('+', 3), ('=', 0), ('+', 4), ('-', 3)]`.\n",
        "\n",
        "Tu tarea es crear un programa que pueda crear la lista de tuplas a partir de la secuencia origianl, y luego reconstruir la secuencia original a partir de la lista de tuplas. Por ejemplo, si tu programa generó `[('inicio', 5), ('+', 3), ('=', 0), ('+', 4), ('+', 2)]`, debe devolver la secuencia original [5, 8, 8, 12, 14].\n",
        "\n",
        "Notas:\n",
        "* Las operaciones disponibles son la suma `+`, resta `-`, producto `*`, y el operador `=` que siempre aparece como la tupla `('=', 0)` indicando que no cambia el valor.\n",
        "* Para facilitar la visualización de ejemplos las secuencias se general aleatoriamente con números del 1 al 50.\n",
        "\n"
      ],
      "metadata": {
        "id": "r6347iVJNZVq"
      }
    },
    {
      "cell_type": "code",
      "source": [],
      "metadata": {
        "id": "Erm7MNcSOR6I"
      },
      "execution_count": null,
      "outputs": []
    }
  ],
  "metadata": {
    "kernelspec": {
      "display_name": "Python 3 (ipykernel)",
      "language": "python",
      "name": "python3"
    },
    "language_info": {
      "codemirror_mode": {
        "name": "ipython",
        "version": 3
      },
      "file_extension": ".py",
      "mimetype": "text/x-python",
      "name": "python",
      "nbconvert_exporter": "python",
      "pygments_lexer": "ipython3",
      "version": "3.8.10"
    },
    "vscode": {
      "interpreter": {
        "hash": "916dbcbb3f70747c44a77c7bcd40155683ae19c65e1c03b4aa3499c5328201f1"
      }
    },
    "colab": {
      "provenance": []
    }
  },
  "nbformat": 4,
  "nbformat_minor": 0
}