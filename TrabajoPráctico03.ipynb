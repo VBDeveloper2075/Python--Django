{
  "cells": [
    {
      "cell_type": "markdown",
      "metadata": {
        "id": "Pq3rPiXRBXwZ"
      },
      "source": [
        "## Ejercicio Nro 1\n",
        "Realizar un programa que muestre la frase “Curso Python” 7 veces.\n"
      ]
    },
    {
      "cell_type": "code",
      "execution_count": null,
      "metadata": {
        "id": "UwS2YAcGqIwa"
      },
      "outputs": [],
      "source": []
    },
    {
      "cell_type": "markdown",
      "metadata": {
        "id": "hgF5M_KFBd8b"
      },
      "source": [
        "## Ejercicio Nro 2\n",
        "Realizar un programa que permita ingresar números enteros, mostrar la suma de números pares, y la cantidad de números impares. El ingreso finaliza cuando el número es múltiplo de 5 (se incluye en el conteo)."
      ]
    },
    {
      "cell_type": "code",
      "execution_count": null,
      "metadata": {
        "id": "x0t4hYKqqIwa"
      },
      "outputs": [],
      "source": []
    },
    {
      "cell_type": "markdown",
      "metadata": {
        "id": "p6cgAp4HBjgb"
      },
      "source": [
        "## Ejercicio Nro 3\n",
        "Realizar un programa que calcule el promedio de los estudiantes, para ello se debe ingresar el apellido, nombre del estudiante y su nota. Considere que el ingreso finaliza a pedido del operador. Luego se debe mostrar el promedio seguido de la cantidad de personas que ingresaron su apellido todo en mayúsculas."
      ]
    },
    {
      "cell_type": "code",
      "execution_count": null,
      "metadata": {
        "id": "FYXe1D9SqIwb"
      },
      "outputs": [],
      "source": []
    },
    {
      "cell_type": "markdown",
      "metadata": {
        "id": "4e8KBRrLBxKD"
      },
      "source": [
        "## Ejercicio Nro 4\n",
        "Realizar un programa que permita ingresar 16 números, contar la cantidad de números negativos y cero, y concatenar los números positivos en una variable a mostrar.<br>\n",
        "**Salida esperada**<br>\n",
        "Negativos: 5<br>\n",
        "Ceros: 3<br>\n",
        "Positivos: 32615144"
      ]
    },
    {
      "cell_type": "code",
      "execution_count": null,
      "metadata": {
        "id": "wZ0xZznlqIwb"
      },
      "outputs": [],
      "source": []
    },
    {
      "cell_type": "markdown",
      "metadata": {
        "id": "qvD39shvCDUu"
      },
      "source": [
        "## Ejercicio Nro 5\n",
        "Realizar un programa que permita ingresar letras y por cada una contar las ocurrencias de las letras del abecedario en mayúsculas, también contar las letras minúsculas y dígitos. El ciclo finaliza al ingresar un espacio. Al finalizar muestre el total de letras ingresadas, en mayúsculas, en minúsculas, la cantidad de vocales que se ingresaron en mayúscula y minúscula, la cantidad de letras ‘J’ ingresadas y la cantidad de dígitos dígitos."
      ]
    },
    {
      "cell_type": "code",
      "execution_count": null,
      "metadata": {
        "id": "A7ibEAb1qIwb"
      },
      "outputs": [],
      "source": []
    },
    {
      "cell_type": "markdown",
      "metadata": {
        "id": "y-xy2HKiCPuw"
      },
      "source": [
        "## Ejercicio Nro 6\n",
        "Realizar un programa que permita ingresar números y determinar si el número es par o no. El ingreso de datos finaliza cuando se ingresa 999. Determinar la cantidad de números pares y la suma de impares ingresados.\n"
      ]
    },
    {
      "cell_type": "code",
      "execution_count": null,
      "metadata": {
        "id": "4hxUfjfPqIwb"
      },
      "outputs": [],
      "source": []
    },
    {
      "cell_type": "markdown",
      "metadata": {
        "id": "9_owUoVCCVVg"
      },
      "source": [
        "## Ejercicio Nro 7\n",
        "Realizar un programa que permita ingresar una frase y la cantidad de veces que desea mostrar la frase. Y mostrarla por pantalla esa cantidad de veces. La frase debe mostrarse con cada palabra empezando en mayúsculas para las iteraciones pares (considere que la primera iteración es la 1)."
      ]
    },
    {
      "cell_type": "code",
      "execution_count": null,
      "metadata": {
        "id": "VyMkvZTOqIwb"
      },
      "outputs": [],
      "source": []
    },
    {
      "cell_type": "markdown",
      "metadata": {
        "id": "L5L4DqKWCilx"
      },
      "source": [
        "## Ejercicio Nro 8\n",
        "En matemáticas, particularmente en teoría de números o aritmética, un número primo es un número natural mayor que 1 que tiene únicamente dos divisores distintos: él mismo y el 1. Diseñe un algoritmo que determine si un valor ingresado por el usuario es primo o no.\n"
      ]
    },
    {
      "cell_type": "code",
      "execution_count": null,
      "metadata": {
        "id": "xOvTZxGqqIwb"
      },
      "outputs": [],
      "source": []
    },
    {
      "cell_type": "markdown",
      "metadata": {
        "id": "95AL4kaOCoJb"
      },
      "source": [
        "## Ejercicio Nro 9\n",
        "Realizar un programa que determine el mínimo de una serie de números enteros ingresados por el usuario. El ingreso finaliza cuando el valor introducido es 999.\n"
      ]
    },
    {
      "cell_type": "code",
      "execution_count": null,
      "metadata": {
        "id": "LwqpkIjBqIwc"
      },
      "outputs": [],
      "source": []
    },
    {
      "cell_type": "markdown",
      "metadata": {
        "id": "qQzDYV_sCsgg"
      },
      "source": [
        "## Ejercicio Nro 10\n",
        "Considerando que la potencia entre dos números enteros positivos, a y b, la potencia puede expresarse como el producto sucesivo de a tantas veces como lo indique b. Pida ingresar estos dos valores, y calcule la potencia con el algoritmo indicado.\n"
      ]
    },
    {
      "cell_type": "code",
      "execution_count": null,
      "metadata": {
        "id": "mvj9A4WfqIwc"
      },
      "outputs": [],
      "source": []
    },
    {
      "cell_type": "markdown",
      "metadata": {
        "id": "e7PggEUsqIwc"
      },
      "source": [
        "## Ejercicio Nro 11\n",
        "Realizar un programa que permita ingresar números, hasta que el número ingresado no esté entre 1 y 100. Determinar el promedio de los números ingresados entre 1 y 50."
      ]
    },
    {
      "cell_type": "code",
      "execution_count": null,
      "metadata": {
        "id": "byMrKgo1qIwc"
      },
      "outputs": [],
      "source": []
    },
    {
      "cell_type": "markdown",
      "metadata": {
        "id": "09jzU_qCqIwc"
      },
      "source": [
        "## Ejercicio Nro 12\n",
        "Realizar un programa donde se ingrese repetidamente números, determinar si los números son pares. El ingreso finaliza cuando el número es impar. Use la sentencia `break` para salir del ciclo. Al final mostrar el promedio de los números pares ingresados."
      ]
    },
    {
      "cell_type": "code",
      "execution_count": null,
      "metadata": {
        "id": "iLOAshUaqIwc"
      },
      "outputs": [],
      "source": []
    },
    {
      "cell_type": "markdown",
      "metadata": {
        "id": "53Uae3qwC3c7"
      },
      "source": [
        "## Ejercicio Nro 13\n",
        "Realizar un programa que determine el máximo de una serie de números enteros ingresados por el usuario. El ingreso finaliza a pedido del usuario."
      ]
    },
    {
      "cell_type": "code",
      "execution_count": null,
      "metadata": {
        "id": "lPnYwjzFqIwc"
      },
      "outputs": [],
      "source": []
    },
    {
      "cell_type": "markdown",
      "metadata": {
        "id": "7XGiU7sMqIwc"
      },
      "source": [
        "## Ejercicio Nro 14\n",
        "Realizar un programa donde se ingrese el nombre de un producto y el precio determine los precios máximo y mínimo de los productos ingresados. Considere que el ingreso de datos finaliza a petición del usuario si ingresa ‘s’ es un si y si ingresa ‘n’ es no."
      ]
    },
    {
      "cell_type": "code",
      "execution_count": null,
      "metadata": {
        "id": "nj58Q4s5qIwc"
      },
      "outputs": [],
      "source": []
    },
    {
      "cell_type": "markdown",
      "metadata": {
        "id": "68piQjDkqIwd"
      },
      "source": [
        "## Ejercicio Nro 15\n",
        "Considerando que el producto entero dos números enteros positivos, a y b, puede expresarse como la suma sucesiva de a tantas veces como indique b, diseñe un algoritmo que calcule el producto entre a y b mediante sumas sucesivas."
      ]
    },
    {
      "cell_type": "code",
      "execution_count": null,
      "metadata": {
        "id": "yuW_gFvHqIwd"
      },
      "outputs": [],
      "source": []
    },
    {
      "cell_type": "markdown",
      "metadata": {
        "id": "Fh2gk8UFqIwe"
      },
      "source": [
        "## Ejercicio Nro 16\n",
        "Realizar un programa que permita ingresar números repetidamente, determinar el máximo de esos valores. El algoritmo termina cuando se ingresa un 10, utilice para terminar la repetición una interrupción con break."
      ]
    },
    {
      "cell_type": "code",
      "execution_count": null,
      "metadata": {
        "id": "pHYxVqoVqIwe"
      },
      "outputs": [],
      "source": []
    },
    {
      "cell_type": "markdown",
      "metadata": {
        "id": "aC3NKtqlqIwe"
      },
      "source": [
        "## Ejercicio Nro 17\n",
        "Tomando el algoritmo del punto 8 para determinar si un número es primo, se ingresan repetidamente números, lo que se pide es que determinar la cantidad de números primos que fueron ingresados y la suma de los números que no fueron primos. El ingreso de datos finaliza cuando la cantidad de números primos sea superior a 7."
      ]
    },
    {
      "cell_type": "code",
      "execution_count": null,
      "metadata": {
        "id": "mbtakxpuqIwe"
      },
      "outputs": [],
      "source": []
    },
    {
      "cell_type": "markdown",
      "metadata": {
        "id": "KX5zq7pzqIwf"
      },
      "source": [
        "## Ejercicio Nro 18\n",
        "Realizar un programa que permita ingresar 6 números, contar la cantidad de números negativos y cero, y acumular los números positivos. Mostrar el promedio de los números positivos y también mostrar la cantidad de negativos iguales a -5."
      ]
    },
    {
      "cell_type": "code",
      "execution_count": null,
      "metadata": {
        "id": "1NhOFdmBqIwf"
      },
      "outputs": [],
      "source": []
    },
    {
      "cell_type": "markdown",
      "metadata": {
        "id": "OwC-dO7yqIwf"
      },
      "source": [
        "## Ejercicio Nro 19\n",
        "Realizar un programa que permita ingresar números, hasta que el número ingresado sea impar y este entre 1 y 10. Determinar el promedio de los números ingresados que no estuvieron entre 1 y 10."
      ]
    },
    {
      "cell_type": "code",
      "execution_count": null,
      "metadata": {
        "id": "_ta0lmnmqIwf"
      },
      "outputs": [],
      "source": []
    },
    {
      "cell_type": "markdown",
      "metadata": {
        "id": "C4f427gz0mb7"
      },
      "source": [
        "## Ejercicio Nro 20\n",
        "Realizar un programa que acepte entrada de números. A cada número extraiga los dígitos, y luego reescriba el número original con la siguiente regla:\n",
        "\n",
        "| Número | Letra  a usar |\n",
        "| --- | --- |\n",
        "| 1 | I |\n",
        "| 2 | Z |\n",
        "| 3 | E |\n",
        "| 4 | A |\n",
        "| 5 | S |\n",
        "| 6 | G |\n",
        "| 7 | T |\n",
        "| 8 | B |\n",
        "| 9 | g |\n",
        "| 0 | O |\n",
        "\n",
        "Ejemplos:\n",
        "\n",
        "| Entrada | Salida |\n",
        "| --- | --- |\n",
        "| 1211 | IZII |\n",
        "| 795 | TgS |\n",
        "| 8879 | BBTg |\n",
        "\n",
        "El programa termina cuando se ingresa un número que forma la palabra BEAST.  \n",
        "Nota: Trabaje el número como una cadena al extraer sus dígitos.\n"
      ]
    },
    {
      "cell_type": "markdown",
      "source": [
        "## Ejercicio Nro 21\n",
        "Realizar un programa que dibuje un triángulo invertido con altura mínima de 5 líneas. La salida debería tener la forma:<br>\n",
        "Altura = 5\n",
        "```md\n",
        "+***+\n",
        " +**+\n",
        "  +*+\n",
        "   ++\n",
        "    +\n",
        "```\n",
        "Altura = 10\n",
        "```md\n",
        "+********+\n",
        " +*******+\n",
        "  +******+\n",
        "   +*****+\n",
        "    +****+\n",
        "     +***+\n",
        "      +**+\n",
        "       +*+\n",
        "        ++\n",
        "         +\n",
        "```"
      ],
      "metadata": {
        "id": "O0ArbEOM7Mu7"
      }
    },
    {
      "cell_type": "code",
      "source": [],
      "metadata": {
        "id": "v9AJZh6C7MCd"
      },
      "execution_count": null,
      "outputs": []
    }
  ],
  "metadata": {
    "colab": {
      "provenance": []
    },
    "kernelspec": {
      "display_name": "Python 3.9.11 64-bit",
      "language": "python",
      "name": "python3"
    },
    "language_info": {
      "name": "python",
      "version": "3.9.11"
    },
    "vscode": {
      "interpreter": {
        "hash": "6d850d8e90e60c3336e66e26b3917652b6d7c59c27178fa3ce4a1808cd55e75f"
      }
    }
  },
  "nbformat": 4,
  "nbformat_minor": 0
}