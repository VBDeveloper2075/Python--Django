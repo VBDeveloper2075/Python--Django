{
  "cells": [
    {
      "cell_type": "markdown",
      "metadata": {
        "id": "Pq3rPiXRBXwZ"
      },
      "source": [
        "## Ejercicio Nro 1\n",
        "Realizar un programa que muestre la frase “Curso Python” 7 veces.\n"
      ]
    },
    {
      "cell_type": "code",
      "execution_count": null,
      "metadata": {
        "colab": {
          "base_uri": "https://localhost:8080/"
        },
        "id": "UwS2YAcGqIwa",
        "outputId": "f4704171-e036-4942-c609-0ee0b0d29378"
      },
      "outputs": [
        {
          "name": "stdout",
          "output_type": "stream",
          "text": [
            "Curso Python\n",
            "Curso Python\n",
            "Curso Python\n",
            "Curso Python\n",
            "Curso Python\n",
            "Curso Python\n",
            "Curso Python\n"
          ]
        }
      ],
      "source": [
        "# Con un bucle for\n",
        "for i in range(7):\n",
        "    print(\"Curso Python\")"
      ]
    },
    {
      "cell_type": "markdown",
      "metadata": {
        "id": "hgF5M_KFBd8b"
      },
      "source": [
        "## Ejercicio Nro 2\n",
        "Realizar un programa que permita ingresar números enteros, mostrar la suma de números pares, y la cantidad de números impares. El ingreso finaliza cuando el número es múltiplo de 5 (se incluye en el conteo)."
      ]
    },
    {
      "cell_type": "code",
      "execution_count": null,
      "metadata": {
        "colab": {
          "base_uri": "https://localhost:8080/"
        },
        "id": "x0t4hYKqqIwa",
        "outputId": "c04ff85b-5fb9-4470-8117-6c0d5f374cd8"
      },
      "outputs": [
        {
          "name": "stdout",
          "output_type": "stream",
          "text": [
            "Ingrese un número entero: 78\n",
            "Ingrese un número entero: 43\n",
            "Ingrese un número entero: 6\n",
            "Ingrese un número entero: 12\n",
            "Ingrese un número entero: 84\n",
            "Ingrese un número entero: 90\n",
            "La suma de los números pares es: 270\n",
            "La cantidad de números impares es: 1\n"
          ]
        }
      ],
      "source": [
        "def main():\n",
        "    suma_pares = 0\n",
        "    cantidad_impares = 0\n",
        "    numero = int(input(\"Ingrese un número entero: \"))\n",
        "    while True:\n",
        "        if numero % 2 == 0:\n",
        "            suma_pares += numero\n",
        "        else:\n",
        "            cantidad_impares += 1\n",
        "\n",
        "        if numero % 5 == 0:\n",
        "            break\n",
        "\n",
        "        numero = int(input(\"Ingrese un número entero: \"))\n",
        "\n",
        "    print(f\"La suma de los números pares es: {suma_pares}\")\n",
        "    print(f\"La cantidad de números impares es: {cantidad_impares}\")\n",
        "\n",
        "if __name__ == \"__main__\":\n",
        "    main()"
      ]
    },
    {
      "cell_type": "markdown",
      "metadata": {
        "id": "t6kaNz0kE6RE"
      },
      "source": []
    },
    {
      "cell_type": "markdown",
      "metadata": {
        "id": "p6cgAp4HBjgb"
      },
      "source": [
        "## Ejercicio Nro 3\n",
        "Realizar un programa que calcule el promedio de los estudiantes, para ello se debe ingresar el apellido, nombre del estudiante y su nota. Considere que el ingreso finaliza a pedido del operador. Luego se debe mostrar el promedio seguido de la cantidad de personas que ingresaron su apellido todo en mayúsculas."
      ]
    },
    {
      "cell_type": "code",
      "execution_count": null,
      "metadata": {
        "colab": {
          "base_uri": "https://localhost:8080/"
        },
        "id": "FYXe1D9SqIwb",
        "outputId": "73d3b5a8-7c0a-4b43-ff95-d0b371c17cb0"
      },
      "outputs": [
        {
          "name": "stdout",
          "output_type": "stream",
          "text": [
            "Ingrese los datos del estudiante, si no desea ingresar más datos presione enter\n",
            "Ingrese el apellido del estudiante: Fernandez\n",
            "Ingrese el nombre del estudiante: Claudia\n",
            "Ingrese la nota del estudiante: 9\n",
            "Ingrese el apellido del estudiante: Gimenez\n",
            "Ingrese el nombre del estudiante: Dora\n",
            "Ingrese la nota del estudiante: 8\n",
            "Ingrese el apellido del estudiante: Villca\n",
            "Ingrese el nombre del estudiante: Pedro\n",
            "Ingrese la nota del estudiante: 10\n",
            "Ingrese el apellido del estudiante: Sanchez\n",
            "Ingrese el nombre del estudiante: Marina\n",
            "Ingrese la nota del estudiante: 6\n",
            "Ingrese el apellido del estudiante: \n",
            "El promedio de los estudiantes es: 8.25\n",
            "4 personas ingresaron sus datos.\n"
          ]
        }
      ],
      "source": [
        "def promedios():\n",
        "    # Inicialización de variables\n",
        "    suma_notas = 0\n",
        "    cantidad_personas = 0\n",
        "\n",
        "    # input del usuario\n",
        "    print(\"Ingrese los datos del estudiante, si no desea ingresar más datos presione enter\")\n",
        "    apellido = input(\"Ingrese el apellido del estudiante: \")\n",
        "    while apellido != \"\":\n",
        "        nombre = input(\"Ingrese el nombre del estudiante: \")\n",
        "        nota = float(input(\"Ingrese la nota del estudiante: \"))\n",
        "        suma_notas += nota\n",
        "        cantidad_personas += 1\n",
        "        apellido = input(\"Ingrese el apellido del estudiante: \")\n",
        "\n",
        "    # Calculo el promedio\n",
        "    promedio = suma_notas / cantidad_personas\n",
        "\n",
        "    # Muestro los datos\n",
        "    print(f\"El promedio de los estudiantes es: {promedio}\")\n",
        "    print(f\"{cantidad_personas} personas ingresaron sus datos.\")\n",
        "\n",
        "# Ejecuto el programa main\n",
        "if __name__ == \"__main__\":\n",
        "    promedios()"
      ]
    },
    {
      "cell_type": "markdown",
      "metadata": {
        "id": "4e8KBRrLBxKD"
      },
      "source": [
        "## Ejercicio Nro 4\n",
        "Realizar un programa que permita ingresar 16 números, contar la cantidad de números negativos y cero, y concatenar los números positivos en una variable a mostrar.<br>\n",
        "**Salida esperada**<br>\n",
        "Negativos: 5<br>\n",
        "Ceros: 3<br>\n",
        "Positivos: 32615144"
      ]
    },
    {
      "cell_type": "code",
      "execution_count": null,
      "metadata": {
        "colab": {
          "base_uri": "https://localhost:8080/"
        },
        "id": "wZ0xZznlqIwb",
        "outputId": "30de2d19-2308-42a0-af02-4b7f0105c28c"
      },
      "outputs": [
        {
          "name": "stdout",
          "output_type": "stream",
          "text": [
            "Ingrese un número: 2\n",
            "Ingrese un número: -72\n",
            "Ingrese un número: 5\n",
            "Ingrese un número: 6\n",
            "Ingrese un número: -7\n",
            "Ingrese un número: 0\n",
            "Ingrese un número: 4\n",
            "Ingrese un número: -5\n",
            "Ingrese un número: 0\n",
            "Ingrese un número: 3\n",
            "Ingrese un número: 1\n",
            "Ingrese un número: 12\n",
            "Ingrese un número: 0\n",
            "Ingrese un número: -6\n",
            "Ingrese un número: 7\n",
            "Ingrese un número: 9\n",
            "Negativos: 4\n",
            "Ceros: 3\n",
            "Positivos: 2564311279\n"
          ]
        }
      ],
      "source": [
        "def main():\n",
        "    negativos = 0\n",
        "    ceros = 0\n",
        "    positivos = \"\"\n",
        "    for i in range(16):\n",
        "        numero = int(input(\"Ingrese un número: \"))\n",
        "        if numero < 0:\n",
        "            negativos += 1\n",
        "        elif numero == 0:\n",
        "            ceros += 1\n",
        "        else:\n",
        "            positivos += str(numero)\n",
        "    print(f\"Negativos: {negativos}\\nCeros: {ceros}\\nPositivos: {positivos}\")\n",
        "\n",
        "if __name__ == \"__main__\":\n",
        "    main()2"
      ]
    },
    {
      "cell_type": "markdown",
      "metadata": {
        "id": "qvD39shvCDUu"
      },
      "source": [
        "## Ejercicio Nro 5\n",
        "Realizar un programa que permita ingresar letras y por cada una contar las ocurrencias de las letras del abecedario en mayúsculas, también contar las letras minúsculas y dígitos. El ciclo finaliza al ingresar un espacio. Al finalizar muestre el total de letras ingresadas, en mayúsculas, en minúsculas, la cantidad de vocales que se ingresaron en mayúscula y minúscula, la cantidad de letras ‘J’ ingresadas y la cantidad de dígitos dígitos."
      ]
    },
    {
      "cell_type": "code",
      "execution_count": null,
      "metadata": {
        "colab": {
          "base_uri": "https://localhost:8080/"
        },
        "id": "A7ibEAb1qIwb",
        "outputId": "dd21ff2f-4f32-4bb0-d372-273caa6050e9"
      },
      "outputs": [
        {
          "name": "stdout",
          "output_type": "stream",
          "text": [
            "Ingresa tu texto y realizamos el conteo de letras, mayúsculas, minúsculas, vocales, letras 'J' y dígitos. Cuando quieras que el programa termine, solo presiona la tecla espacio: Los Principios SOLID TIENEN 5 PRINCIPIO DE disenio de clases ORIENTADOS A oBJETOS Y SON UN CONJUNTO de reglas para mejores practicas a seguir al deseniar una estructura de clase Estos 5 principios nos ayudan a comprender a la Necesidad de ciertos patrones de disenio y arqueitenctura de software en general\n",
            "Total de letras ingresadas: 256\n",
            "Letras en mayúsculas: 57\n",
            "Letras en minúsculas: 197\n",
            "Vocales en mayúsculas: 24\n",
            "Vocales en minúsculas: 88\n",
            "Letras 'J' ingresadas: 2\n",
            "Dígitos ingresados: 2\n"
          ]
        }
      ],
      "source": [
        "# aunque pide poner letras, investigué y puse un texto para no tener que poner los caracteres uno a uno\n",
        "# Inicializamos las variables\n",
        "letras = 0\n",
        "mayusculas = 0\n",
        "minusculas = 0\n",
        "vocales_mayusculas = 0\n",
        "vocales_minusculas = 0\n",
        "jotas = 0\n",
        "digitos = 0\n",
        "\n",
        "# Ciclo para ingresar letras\n",
        "\n",
        "\n",
        "# Inicializamos las variables\n",
        "letras = 0\n",
        "mayusculas = 0\n",
        "minusculas = 0\n",
        "vocales_mayusculas = 0\n",
        "vocales_minusculas = 0\n",
        "jotas = 0\n",
        "digitos = 0\n",
        "\n",
        "# ingreso el texto\n",
        "texto = input(\"Ingresa tu texto y realizamos el conteo de letras, mayúsculas, minúsculas, vocales, letras 'J' y dígitos. Cuando quieras que el programa termine, solo presiona la tecla espacio: \")\n",
        "\n",
        "# le digo que recorra las letras que hay dentro del texto\n",
        "for letra in texto:\n",
        "    if letra == \" \":\n",
        "        continue\n",
        "    letras += 1\n",
        "    if letra.isupper():\n",
        "        mayusculas += 1\n",
        "        if letra in \"AEIOU\":\n",
        "            vocales_mayusculas += 1\n",
        "        if letra == \"J\":\n",
        "            jotas += 1\n",
        "    elif letra.islower():\n",
        "        minusculas += 1\n",
        "        if letra in \"aeiou\":\n",
        "            vocales_minusculas += 1\n",
        "    elif letra.isdigit():\n",
        "        digitos += 1\n",
        "\n",
        "# Mostramos los resultados\n",
        "print(f\"Total de letras ingresadas: {letras}\")\n",
        "print(f\"Letras en mayúsculas: {mayusculas}\")\n",
        "print(f\"Letras en minúsculas: {minusculas}\")\n",
        "print(f\"Vocales en mayúsculas: {vocales_mayusculas}\")\n",
        "print(f\"Vocales en minúsculas: {vocales_minusculas}\")\n",
        "print(f\"Letras 'J' ingresadas: {jotas}\")\n",
        "print(f\"Dígitos ingresados: {digitos}\")"
      ]
    },
    {
      "cell_type": "markdown",
      "metadata": {
        "id": "y-xy2HKiCPuw"
      },
      "source": [
        "## Ejercicio Nro 6\n",
        "Realizar un programa que permita ingresar números y determinar si el número es par o no. El ingreso de datos finaliza cuando se ingresa 999. Determinar la cantidad de números pares y la suma de impares ingresados.\n"
      ]
    },
    {
      "cell_type": "code",
      "execution_count": null,
      "metadata": {
        "colab": {
          "base_uri": "https://localhost:8080/"
        },
        "id": "4hxUfjfPqIwb",
        "outputId": "52391d21-e4a9-4ce6-d26a-087d51c8034d"
      },
      "outputs": [
        {
          "name": "stdout",
          "output_type": "stream",
          "text": [
            "Ingrese un número: 34\n",
            "Ingrese un número: 4\n",
            "Ingrese un número: 6\n",
            "Ingrese un número: 89\n",
            "Ingrese un número: 4\n",
            "Ingrese un número: 23\n",
            "Ingrese un número: 1\n",
            "Ingrese un número: 999\n",
            "La cantidad de números pares es: 4\n",
            "La suma de números impares es: 113\n"
          ]
        }
      ],
      "source": [
        "def main():\n",
        "    pares = 0\n",
        "    impares = 0\n",
        "    while True:\n",
        "        numero = int(input(\"Ingrese un número: \"))\n",
        "        if numero == 999:\n",
        "            break\n",
        "        elif numero % 2 == 0:\n",
        "            pares += 1\n",
        "        else:\n",
        "            impares += numero\n",
        "    print(f\"La cantidad de números pares es: {pares}\")\n",
        "    print(f\"La suma de números impares es: {impares}\")\n",
        "\n",
        "if __name__ == \"__main__\":\n",
        "    main()\n"
      ]
    },
    {
      "cell_type": "markdown",
      "metadata": {
        "id": "9_owUoVCCVVg"
      },
      "source": [
        "## Ejercicio Nro 7\n",
        "Realizar un programa que permita ingresar una frase y la cantidad de veces que desea mostrar la frase. Y mostrarla por pantalla esa cantidad de veces. La frase debe mostrarse con cada palabra empezando en mayúsculas para las iteraciones pares (considere que la primera iteración es la 1)."
      ]
    },
    {
      "cell_type": "code",
      "execution_count": null,
      "metadata": {
        "colab": {
          "base_uri": "https://localhost:8080/"
        },
        "id": "VyMkvZTOqIwb",
        "outputId": "87ffe488-48f9-4b45-f8d0-cfe50e9dde47"
      },
      "outputs": [
        {
          "name": "stdout",
          "output_type": "stream",
          "text": [
            "Ingrese una frase: mas vale pajaro en mano que cien volando\n",
            "Ingrese la cantidad de veces que desea mostrar la frase: 9\n",
            "mas vale pajaro en mano que cien volando\n",
            "Mas Vale Pajaro En Mano Que Cien Volando\n",
            "mas vale pajaro en mano que cien volando\n",
            "Mas Vale Pajaro En Mano Que Cien Volando\n",
            "mas vale pajaro en mano que cien volando\n",
            "Mas Vale Pajaro En Mano Que Cien Volando\n",
            "mas vale pajaro en mano que cien volando\n",
            "Mas Vale Pajaro En Mano Que Cien Volando\n",
            "mas vale pajaro en mano que cien volando\n"
          ]
        }
      ],
      "source": [
        "\"\"\" Usando el método title():\n",
        "El método title() convierte la primera letra de cada palabra en una cadena a mayúsculas.\n",
        "\n",
        "cadena = \"hola pythonista. ¿te gusta python?\"\n",
        "resultado = cadena.title()\n",
        "print(resultado)  # Salida: \"Hola Pythonista. ¿Te Gusta Python?\"\n",
        "\"\"\"\n",
        "\n",
        "def main():\n",
        "    frase = input(\"Ingrese una frase: \")\n",
        "    veces = int(input(\"Ingrese la cantidad de veces que desea mostrar la frase: \"))\n",
        "    for i in range(1, veces+1):\n",
        "        if i % 2 == 0:\n",
        "            print(frase.title())\n",
        "        else:\n",
        "            print(frase)\n",
        "\n",
        "if __name__ == \"__main__\":\n",
        "    main()"
      ]
    },
    {
      "cell_type": "markdown",
      "metadata": {
        "id": "95AL4kaOCoJb"
      },
      "source": [
        "## Ejercicio Nro 9\n",
        "Realizar un programa que determine el mínimo de una serie de números enteros ingresados por el usuario. El ingreso finaliza cuando el valor introducido es 999.\n"
      ]
    },
    {
      "cell_type": "code",
      "execution_count": null,
      "metadata": {
        "id": "yK1rukcCanT4"
      },
      "outputs": [],
      "source": []
    },
    {
      "cell_type": "markdown",
      "metadata": {
        "id": "L5L4DqKWCilx"
      },
      "source": [
        "## Ejercicio Nro 8\n",
        "En matemáticas, particularmente en teoría de números o aritmética, un número primo es un número natural mayor que 1 que tiene únicamente dos divisores distintos: él mismo y el 1. Diseñe un algoritmo que determine si un valor ingresado por el usuario es primo o no.\n"
      ]
    },
    {
      "cell_type": "code",
      "execution_count": null,
      "metadata": {
        "colab": {
          "base_uri": "https://localhost:8080/"
        },
        "id": "LwqpkIjBqIwc",
        "outputId": "f3d62439-cba9-4c88-e5cd-adf962a4e562"
      },
      "outputs": [
        {
          "name": "stdout",
          "output_type": "stream",
          "text": [
            "Ingrese un número: 57\n",
            "El número 57 no es primo\n"
          ]
        }
      ],
      "source": [
        "def es_primo(numero):\n",
        "    # Un número primo es un número natural mayor que 1 que tiene únicamente dos divisores distintos: él mismo y el 1\n",
        "    if numero < 2:\n",
        "        # Si el número es menor que 2 no es primo\n",
        "        return False\n",
        "    for i in range(2, numero):\n",
        "        # Si es divisible por algún número entre 2 y (número - 1) no es primo\n",
        "        if numero % i == 0:\n",
        "            return False\n",
        "    return True\n",
        "\n",
        "def main():\n",
        "    numero = int(input('Ingrese un número: '))\n",
        "    if es_primo(numero):\n",
        "        print(f'El número {numero} es primo')\n",
        "    else:\n",
        "        print(f'El número {numero} no es primo')\n",
        "\n",
        "if __name__ == '__main__':\n",
        "    main()"
      ]
    },
    {
      "cell_type": "markdown",
      "metadata": {
        "id": "qQzDYV_sCsgg"
      },
      "source": [
        "## Ejercicio Nro 10\n",
        "Considerando que la potencia entre dos números enteros positivos, a y b, la potencia puede expresarse como el producto sucesivo de a tantas veces como lo indique b. Pida ingresar estos dos valores, y calcule la potencia con el algoritmo indicado.\n"
      ]
    },
    {
      "cell_type": "code",
      "execution_count": null,
      "metadata": {
        "colab": {
          "base_uri": "https://localhost:8080/"
        },
        "id": "mvj9A4WfqIwc",
        "outputId": "a13911c9-6e13-4318-cf58-9c27bb2aaa93"
      },
      "outputs": [
        {
          "name": "stdout",
          "output_type": "stream",
          "text": [
            "Ingrese el valor de a: 2\n",
            "Ingrese el valor de b: 3\n",
            "El resultado de 2 elevado a 3 es: 8\n"
          ]
        }
      ],
      "source": [
        "# Ingresar los valores\n",
        "a = int(input(\"Ingrese el valor de a: \"))\n",
        "b = int(input(\"Ingrese el valor de b: \"))\n",
        "# Inicializar el resultado\n",
        "resultado = 1\n",
        "# Realizar el producto sucesivo\n",
        "for i in range(b):\n",
        "    resultado *= a\n",
        "# Imprimir el resultado\n",
        "print(\"El resultado de\", a, \"elevado a\", b, \"es:\", resultado)"
      ]
    },
    {
      "cell_type": "markdown",
      "metadata": {
        "id": "e7PggEUsqIwc"
      },
      "source": [
        "## Ejercicio Nro 11\n",
        "Realizar un programa que permita ingresar números, hasta que el número ingresado no esté entre 1 y 100. Determinar el promedio de los números ingresados entre 1 y 50."
      ]
    },
    {
      "cell_type": "code",
      "execution_count": null,
      "metadata": {
        "colab": {
          "base_uri": "https://localhost:8080/"
        },
        "id": "byMrKgo1qIwc",
        "outputId": "2003a5ac-a218-4e80-d3e5-92658f70a338"
      },
      "outputs": [
        {
          "name": "stdout",
          "output_type": "stream",
          "text": [
            "Ingrese un número: 4\n",
            "Ingrese un número: 56\n",
            "Ingrese un número: 7\n",
            "Ingrese un número: 15\n",
            "Ingrese un número: 89\n",
            "Ingrese un número: 4\n",
            "Ingrese un número: 35\n",
            "Ingrese un número: 16\n",
            "Ingrese un número: 90\n",
            "Ingrese un número: 76\n",
            "Ingrese un número: 112\n",
            "El promedio de los números ingresados entre 1 y 50 es: 13.5\n"
          ]
        }
      ],
      "source": [
        "def promedio():\n",
        "    suma = 0\n",
        "    contador = 0\n",
        "    numero = int(input(\"Ingrese un número: \"))\n",
        "    while numero >= 1 and numero <= 100:\n",
        "        if numero >= 1 and numero <= 50:\n",
        "            suma += numero\n",
        "            contador += 1\n",
        "        numero = int(input(\"Ingrese un número: \"))\n",
        "    if contador != 0:\n",
        "        promedio = suma / contador\n",
        "        print(f\"El promedio de los números ingresados entre 1 y 50 es: {promedio}\")\n",
        "    else:\n",
        "        print(\"No se ingresaron números entre 1 y 50.\")\n",
        "\n",
        "promedio()\n"
      ]
    },
    {
      "cell_type": "markdown",
      "metadata": {
        "id": "09jzU_qCqIwc"
      },
      "source": [
        "## Ejercicio Nro 12\n",
        "Realizar un programa donde se ingrese repetidamente números, determinar si los números son pares. El ingreso finaliza cuando el número es impar. Use la sentencia `break` para salir del ciclo. Al final mostrar el promedio de los números pares ingresados."
      ]
    },
    {
      "cell_type": "code",
      "execution_count": null,
      "metadata": {
        "colab": {
          "base_uri": "https://localhost:8080/"
        },
        "id": "iLOAshUaqIwc",
        "outputId": "58ac4e05-abec-49cc-9791-7bfb5b41333c"
      },
      "outputs": [
        {
          "name": "stdout",
          "output_type": "stream",
          "text": [
            "Ingrese números pares y calculamos el promedio (para salir ingrese un número impar)): 46\n",
            "Ingrese números pares y calculamos el promedio (para salir ingrese un número impar)): 78\n",
            "Ingrese números pares y calculamos el promedio (para salir ingrese un número impar)): 24\n",
            "Ingrese números pares y calculamos el promedio (para salir ingrese un número impar)): 6\n",
            "Ingrese números pares y calculamos el promedio (para salir ingrese un número impar)): 8\n",
            "Ingrese números pares y calculamos el promedio (para salir ingrese un número impar)): 3\n",
            "El promedio de los números pares ingresados es 32.4\n"
          ]
        }
      ],
      "source": [
        "def main():\n",
        "    suma = 0\n",
        "    cantidad = 0\n",
        "    while True:\n",
        "        numero = int(input(\"Ingrese números pares y calculamos el promedio (para salir ingrese un número impar)): \"))\n",
        "        if numero % 2 == 0:\n",
        "            suma += numero\n",
        "            cantidad += 1\n",
        "        else:\n",
        "            break\n",
        "    if cantidad > 0:\n",
        "        promedio = suma / cantidad\n",
        "        print(f\"El promedio de los números pares ingresados es {promedio}\")\n",
        "    else:\n",
        "        print(\"No se ingresaron números pares\")\n",
        "\n",
        "main()"
      ]
    },
    {
      "cell_type": "markdown",
      "metadata": {
        "id": "53Uae3qwC3c7"
      },
      "source": [
        "## Ejercicio Nro 13\n",
        "Realizar un programa que determine el máximo de una serie de números enteros ingresados por el usuario. El ingreso finaliza a pedido del usuario."
      ]
    },
    {
      "cell_type": "code",
      "execution_count": null,
      "metadata": {
        "colab": {
          "base_uri": "https://localhost:8080/"
        },
        "id": "lPnYwjzFqIwc",
        "outputId": "336542c4-ed37-4ae1-fe03-4cc225f09c1f"
      },
      "outputs": [
        {
          "name": "stdout",
          "output_type": "stream",
          "text": [
            "Ingrese un número: 6\n",
            "Desea ingresar otro número? (s/n): s\n",
            "Ingrese un número: 5\n",
            "Desea ingresar otro número? (s/n): s\n",
            "Ingrese un número: 9\n",
            "Desea ingresar otro número? (s/n): s\n",
            "Ingrese un número: 34\n",
            "Desea ingresar otro número? (s/n): s\n",
            "Ingrese un número: 8\n",
            "Desea ingresar otro número? (s/n): n\n",
            "El número máximo ingresado es: 34\n"
          ]
        }
      ],
      "source": [
        "def maximo():\n",
        "    max = 0\n",
        "    while True:\n",
        "        num = int(input(\"Ingrese un número: \"))\n",
        "        if num > max:\n",
        "            max = num\n",
        "        resp = input(\"Desea ingresar otro número? (s/n): \")\n",
        "        if resp == \"n\":\n",
        "            break\n",
        "    return max\n",
        "\n",
        "max = maximo()\n",
        "print(f\"El número máximo ingresado es: {max}\")\n"
      ]
    },
    {
      "cell_type": "markdown",
      "metadata": {
        "id": "7XGiU7sMqIwc"
      },
      "source": [
        "## Ejercicio Nro 14\n",
        "Realizar un programa donde se ingrese el nombre de un producto y el precio determine los precios máximo y mínimo de los productos ingresados. Considere que el ingreso de datos finaliza a petición del usuario si ingresa ‘s’ es un si y si ingresa ‘n’ es no."
      ]
    },
    {
      "cell_type": "code",
      "execution_count": null,
      "metadata": {
        "id": "nj58Q4s5qIwc"
      },
      "outputs": [],
      "source": [
        "# Ingresamos los datos\n",
        "while True:\n",
        "    nombre = input(\"Ingrese el nombre del producto: \")\n",
        "    precio = float(input(\"Ingrese el precio del producto: \"))\n",
        "    if precio > maximo:\n",
        "        maximo = precio\n",
        "    if minimo == 0 or precio < minimo:\n",
        "        minimo = precio\n",
        "    respuesta = input(\"Desea ingresar otro producto? (s/n): \")\n",
        "    if respuesta == \"n\":\n",
        "        break\n",
        "\n",
        "# Mostramos los resultados\n",
        "print(\"El precio máximo es: \", maximo)\n",
        "print(\"El precio mínimo es: \", minimo)"
      ]
    },
    {
      "cell_type": "markdown",
      "metadata": {
        "id": "68piQjDkqIwd"
      },
      "source": [
        "## Ejercicio Nro 15\n",
        "Considerando que el producto entre dos números enteros positivos, a y b, puede expresarse como la suma sucesiva de a tantas veces como indique b, diseñe un algoritmo que calcule el producto entre a y b mediante sumas sucesivas."
      ]
    },
    {
      "cell_type": "code",
      "execution_count": null,
      "metadata": {
        "colab": {
          "base_uri": "https://localhost:8080/"
        },
        "id": "yuW_gFvHqIwd",
        "outputId": "7a4ec2a0-b6ea-4cb3-bc23-8326b1aa4431"
      },
      "outputs": [
        {
          "name": "stdout",
          "output_type": "stream",
          "text": [
            "Los números deben ser positivos\n"
          ]
        }
      ],
      "source": [
        "def producto(a, b):\n",
        "    if a < 0 or b < 0:\n",
        "        return \"Los números deben ser positivos\"\n",
        "    else:\n",
        "        resultado = 0\n",
        "        for i in range(b):\n",
        "            resultado += a\n",
        "        return resultado\n",
        "\n",
        "print(producto(8,-5))"
      ]
    },
    {
      "cell_type": "markdown",
      "metadata": {
        "id": "Fh2gk8UFqIwe"
      },
      "source": [
        "## Ejercicio Nro 16\n",
        "Realizar un programa que permita ingresar números repetidamente, determinar el máximo de esos valores. El algoritmo termina cuando se ingresa un 10, utilice para terminar la repetición una interrupción con break."
      ]
    },
    {
      "cell_type": "code",
      "execution_count": null,
      "metadata": {
        "colab": {
          "base_uri": "https://localhost:8080/"
        },
        "id": "pHYxVqoVqIwe",
        "outputId": "5c4fa00a-507c-4272-a988-51961bb963af"
      },
      "outputs": [
        {
          "name": "stdout",
          "output_type": "stream",
          "text": [
            "Ingrese un número: 3\n",
            "Ingrese un número: 6\n",
            "Ingrese un número: 89\n",
            "Ingrese un número: 10\n",
            "El máximo es: 89\n"
          ]
        }
      ],
      "source": [
        "def main():\n",
        "    maximo = 0\n",
        "    while True:\n",
        "        numero = int(input(\"Ingrese un número: \"))\n",
        "        if numero == 10:\n",
        "            break\n",
        "        if numero > maximo:\n",
        "            maximo = numero\n",
        "    print(f\"El máximo es: {maximo}\")\n",
        "\n",
        "main()"
      ]
    },
    {
      "cell_type": "markdown",
      "metadata": {
        "id": "aC3NKtqlqIwe"
      },
      "source": [
        "## Ejercicio Nro 17\n",
        "Tomando el algoritmo del punto 8 para determinar si un número es primo, se ingresan repetidamente números, lo que se pide es que determinar la cantidad de números primos que fueron ingresados y la suma de los números que no fueron primos. El ingreso de datos finaliza cuando la cantidad de números primos sea superior a 7."
      ]
    },
    {
      "cell_type": "code",
      "execution_count": null,
      "metadata": {
        "colab": {
          "base_uri": "https://localhost:8080/"
        },
        "id": "mbtakxpuqIwe",
        "outputId": "877160c8-0fb6-487b-c99a-ce128584a57d"
      },
      "outputs": [
        {
          "name": "stdout",
          "output_type": "stream",
          "text": [
            "Ingrese un número: 6\n",
            "Ingrese un número: 1\n",
            "Ingrese un número: 53\n",
            "Ingrese un número: 1\n",
            "Ingrese un número: 5\n",
            "Ingrese un número: 7\n",
            "Ingrese un número: 17\n",
            "Ingrese un número: 67\n",
            "Ingrese un número: 73\n",
            "Ingrese un número: 2\n",
            "Ingrese un número: 61\n",
            "La cantidad de números primos ingresados fue: 8\n",
            "La suma de los números no primos fue: 8\n"
          ]
        }
      ],
      "source": [
        "def es_primo(n):\n",
        "    if n < 2:\n",
        "        return False\n",
        "    for i in range(2, n):\n",
        "        if n % i == 0:\n",
        "            return False\n",
        "    return True\n",
        "\n",
        "def main():\n",
        "    suma_no_primos = 0\n",
        "    cantidad_primos = 0\n",
        "    while cantidad_primos <= 7:\n",
        "        num = int(input(\"Ingrese un número: \"))\n",
        "        if es_primo(num):\n",
        "            cantidad_primos += 1\n",
        "        else:\n",
        "            suma_no_primos += num\n",
        "    print(f\"La cantidad de números primos ingresados fue: {cantidad_primos}\")\n",
        "    print(f\"La suma de los números no primos fue: {suma_no_primos}\")\n",
        "\n",
        "main()"
      ]
    },
    {
      "cell_type": "markdown",
      "metadata": {
        "id": "KX5zq7pzqIwf"
      },
      "source": [
        "## Ejercicio Nro 18\n",
        "Realizar un programa que permita ingresar 6 números, contar la cantidad de números negativos y cero, y acumular los números positivos. Mostrar el promedio de los números positivos y también mostrar la cantidad de negativos iguales a -5."
      ]
    },
    {
      "cell_type": "code",
      "execution_count": null,
      "metadata": {
        "colab": {
          "base_uri": "https://localhost:8080/"
        },
        "id": "1NhOFdmBqIwf",
        "outputId": "02ad18c8-7d53-4e44-a9ab-adfac95d8400"
      },
      "outputs": [
        {
          "name": "stdout",
          "output_type": "stream",
          "text": [
            "Ingrese el número 1: 2\n",
            "Ingrese el número 2: 45\n",
            "Ingrese el número 3: -5\n",
            "Ingrese el número 4: 10\n",
            "Ingrese el número 5: 0\n",
            "Ingrese el número 6: 4\n",
            "La cantidad de números negativos es 1\n",
            "La cantidad de ceros es 1\n",
            "La suma de los números positivos es 61\n",
            "El promedio de los números positivos es 15.25\n",
            "La cantidad de números negativos iguales a -5 es 1\n"
          ]
        }
      ],
      "source": [
        "# Ingreso de números con un contador hasta 6\n",
        "def ingresarNumeros():\n",
        "    lista = []\n",
        "    for i in range(6):\n",
        "        numero = int(input(f\"Ingrese el número {i+1}: \"))\n",
        "        lista.append(numero)\n",
        "    return lista\n",
        "\n",
        "# Funcion para contar los numero negativos\n",
        "def contarNegativos(lista):\n",
        "    negativos = 0\n",
        "    cero = 0\n",
        "    for i in lista:\n",
        "        if i < 0:\n",
        "            negativos += 1\n",
        "        if i == 0:\n",
        "            cero += 1\n",
        "    return negativos, cero\n",
        "\n",
        "# Funcion que acumula los numeros positivos\n",
        "\n",
        "def acumularPositivos(lista):\n",
        "    suma = 0\n",
        "    for i in lista:\n",
        "        if i > 0:\n",
        "            suma += i\n",
        "    return suma\n",
        "\n",
        "# Funcion con el promedio de numeros positivos\n",
        "def promedioPositivos(suma, lista):\n",
        "    contador = 0\n",
        "    for i in lista:\n",
        "        if i > 0:\n",
        "            contador += 1\n",
        "    promedio = suma / contador\n",
        "    return promedio\n",
        "\n",
        "# Funcion que muestra la cantidad de negativos iguales a -5\n",
        "def contarNegativosCinco(lista):\n",
        "    contador = 0\n",
        "    for i in lista:\n",
        "        if i == -5:\n",
        "            contador += 1\n",
        "    return contador\n",
        "\n",
        "# Muestra de los datos obtenidos\n",
        "lista = ingresarNumeros()\n",
        "negativos, cero = contarNegativos(lista)\n",
        "suma = acumularPositivos(lista)\n",
        "promedio = promedioPositivos(suma, lista)\n",
        "contador = contarNegativosCinco(lista)\n",
        "print(f\"La cantidad de números negativos es {negativos}\")\n",
        "print(f\"La cantidad de ceros es {cero}\")\n",
        "print(f\"La suma de los números positivos es {suma}\")\n",
        "print(f\"El promedio de los números positivos es {promedio}\")\n",
        "print(f\"La cantidad de números negativos iguales a -5 es {contador}\")\n",
        "\n",
        "# Fin del programa"
      ]
    },
    {
      "cell_type": "markdown",
      "metadata": {
        "id": "OwC-dO7yqIwf"
      },
      "source": [
        "## Ejercicio Nro 19\n",
        "Realizar un programa que permita ingresar números, hasta que el número ingresado sea impar y este entre 1 y 10. Determinar el promedio de los números ingresados que no estuvieron entre 1 y 10."
      ]
    },
    {
      "cell_type": "code",
      "execution_count": null,
      "metadata": {
        "colab": {
          "base_uri": "https://localhost:8080/",
          "height": 332
        },
        "id": "_ta0lmnmqIwf",
        "outputId": "770d76e9-d45a-4f36-ef9d-d63b3ade5521"
      },
      "outputs": [
        {
          "name": "stdout",
          "output_type": "stream",
          "text": [
            "Ingresa un numero: 67\n",
            "Ingresa un numero: 9\n"
          ]
        },
        {
          "ename": "NameError",
          "evalue": "name 'count' is not defined",
          "output_type": "error",
          "traceback": [
            "\u001b[0;31m---------------------------------------------------------------------------\u001b[0m",
            "\u001b[0;31mNameError\u001b[0m                                 Traceback (most recent call last)",
            "\u001b[0;32m<ipython-input-2-a9a309a44b20>\u001b[0m in \u001b[0;36m<cell line: 17>\u001b[0;34m()\u001b[0m\n\u001b[1;32m     15\u001b[0m     \u001b[0mprint\u001b[0m\u001b[0;34m(\u001b[0m\u001b[0;34m\"Los numeros ingresados estan entre 1 y 10.\"\u001b[0m\u001b[0;34m)\u001b[0m\u001b[0;34m\u001b[0m\u001b[0;34m\u001b[0m\u001b[0m\n\u001b[1;32m     16\u001b[0m \u001b[0;34m\u001b[0m\u001b[0m\n\u001b[0;32m---> 17\u001b[0;31m \u001b[0mcalculo_de_promedio\u001b[0m\u001b[0;34m(\u001b[0m\u001b[0;34m)\u001b[0m\u001b[0;34m\u001b[0m\u001b[0;34m\u001b[0m\u001b[0m\n\u001b[0m",
            "\u001b[0;32m<ipython-input-2-a9a309a44b20>\u001b[0m in \u001b[0;36mcalculo_de_promedio\u001b[0;34m()\u001b[0m\n\u001b[1;32m     10\u001b[0m       \u001b[0mcontador\u001b[0m \u001b[0;34m+=\u001b[0m \u001b[0;36m1\u001b[0m\u001b[0;34m\u001b[0m\u001b[0;34m\u001b[0m\u001b[0m\n\u001b[1;32m     11\u001b[0m   \u001b[0;32mif\u001b[0m \u001b[0mcontador\u001b[0m \u001b[0;34m>\u001b[0m \u001b[0;36m0\u001b[0m\u001b[0;34m:\u001b[0m\u001b[0;34m\u001b[0m\u001b[0;34m\u001b[0m\u001b[0m\n\u001b[0;32m---> 12\u001b[0;31m     \u001b[0maverage\u001b[0m \u001b[0;34m=\u001b[0m \u001b[0mtotal\u001b[0m \u001b[0;34m/\u001b[0m \u001b[0mcount\u001b[0m\u001b[0;34m\u001b[0m\u001b[0;34m\u001b[0m\u001b[0m\n\u001b[0m\u001b[1;32m     13\u001b[0m     \u001b[0mprint\u001b[0m\u001b[0;34m(\u001b[0m\u001b[0;34m\"El promedio de los numeros (q no estan entre 0 y 10) es:\"\u001b[0m\u001b[0;34m,\u001b[0m \u001b[0mpromedio\u001b[0m\u001b[0;34m)\u001b[0m\u001b[0;34m\u001b[0m\u001b[0;34m\u001b[0m\u001b[0m\n\u001b[1;32m     14\u001b[0m   \u001b[0;32melse\u001b[0m\u001b[0;34m:\u001b[0m\u001b[0;34m\u001b[0m\u001b[0;34m\u001b[0m\u001b[0m\n",
            "\u001b[0;31mNameError\u001b[0m: name 'count' is not defined"
          ]
        }
      ],
      "source": [
        "def calculo_de_promedio():\n",
        "  total = 0\n",
        "  contador = 0\n",
        "  while True:\n",
        "    num = int(input(\"Ingresa un numero: \"))\n",
        "    if num % 2 != 0 and 1 <= num <= 10:\n",
        "      break\n",
        "    if num < 1 or num > 10:\n",
        "      total += num\n",
        "      contador += 1\n",
        "  if contador > 0:\n",
        "    average = total / count\n",
        "    print(\"El promedio de los numeros (q no estan entre 0 y 10) es:\", promedio)\n",
        "  else:\n",
        "    print(\"Los numeros ingresados estan entre 1 y 10.\")\n",
        "\n",
        "calculo_de_promedio()"
      ]
    },
    {
      "cell_type": "markdown",
      "metadata": {
        "id": "C4f427gz0mb7"
      },
      "source": [
        "## Ejercicio Nro 20\n",
        "Realizar un programa que acepte entrada de números. A cada número extraiga los dígitos, y luego reescriba el número original con la siguiente regla:\n",
        "\n",
        "| Número | Letra  a usar |\n",
        "| --- | --- |\n",
        "| 1 | I |\n",
        "| 2 | Z |\n",
        "| 3 | E |\n",
        "| 4 | A |\n",
        "| 5 | S |\n",
        "| 6 | G |\n",
        "| 7 | T |\n",
        "| 8 | B |\n",
        "| 9 | g |\n",
        "| 0 | O |\n",
        "\n",
        "Ejemplos:\n",
        "\n",
        "| Entrada | Salida |\n",
        "| --- | --- |\n",
        "| 1211 | IZII |\n",
        "| 795 | TgS |\n",
        "| 8879 | BBTg |\n",
        "\n",
        "El programa termina cuando se ingresa un número que forma la palabra BEAST.  \n",
        "Nota: Trabaje el número como una cadena al extraer sus dígitos.\n"
      ]
    },
    {
      "cell_type": "code",
      "execution_count": null,
      "metadata": {
        "colab": {
          "background_save": true,
          "base_uri": "https://localhost:8080/"
        },
        "id": "v8S39E0YS8oZ",
        "outputId": "f8e1aba1-6a36-4598-a5fb-86c9df77e3a2"
      },
      "outputs": [
        {
          "name": "stdout",
          "output_type": "stream",
          "text": [
            "ASGT\n",
            "BEAST\n"
          ]
        }
      ],
      "source": [
        "def main():\n",
        "    while True:\n",
        "        numero = input(\"Ingrese un numero: \")\n",
        "        if numero == \"BEAST\":\n",
        "            break\n",
        "        else:\n",
        "            for i in numero:\n",
        "                if i == \"1\":\n",
        "                    print(\"I\", end=\"\")\n",
        "                elif i == \"2\":\n",
        "                    print(\"Z\", end=\"\")\n",
        "                elif i == \"3\":\n",
        "                    print(\"E\", end=\"\")\n",
        "                elif i == \"4\":\n",
        "                    print(\"A\", end=\"\")\n",
        "                elif i == \"5\":\n",
        "                    print(\"S\", end=\"\")\n",
        "                elif i == \"6\":\n",
        "                    print(\"G\", end=\"\")\n",
        "                elif i == \"7\":\n",
        "                    print(\"T\", end=\"\")\n",
        "                elif i == \"8\":\n",
        "                    print(\"B\", end=\"\")\n",
        "                elif i == \"9\":\n",
        "                    print(\"g\", end=\"\")\n",
        "                elif i == \"0\":\n",
        "                    print(\"O\", end=\"\")\n",
        "            print()\n",
        "\n",
        "if __name__ == \"__main__\":\n",
        "    main()"
      ]
    },
    {
      "cell_type": "markdown",
      "metadata": {
        "id": "O0ArbEOM7Mu7"
      },
      "source": [
        "## Ejercicio Nro 21\n",
        "Realizar un programa que dibuje un triángulo invertido con altura mínima de 5 líneas. La salida debería tener la forma:<br>\n",
        "Altura = 5\n",
        "```md\n",
        "+***+\n",
        " +**+\n",
        "  +*+\n",
        "   ++\n",
        "    +\n",
        "```\n",
        "Altura = 10\n",
        "```md\n",
        "+********+\n",
        " +*******+\n",
        "  +******+\n",
        "   +*****+\n",
        "    +****+\n",
        "     +***+\n",
        "      +**+\n",
        "       +*+\n",
        "        ++\n",
        "         +\n",
        "```"
      ]
    },
    {
      "cell_type": "code",
      "execution_count": 1,
      "metadata": {
        "id": "v9AJZh6C7MCd",
        "colab": {
          "base_uri": "https://localhost:8080/"
        },
        "outputId": "2d31aaa2-1ae8-4a2d-f0de-76556c5985de"
      },
      "outputs": [
        {
          "output_type": "stream",
          "name": "stdout",
          "text": [
            "Ingrese la altura del triángulo: 5\n",
            "+****+\n",
            " +***+ \n",
            "  +**+  \n",
            "   +*+   \n",
            "    ++    \n"
          ]
        }
      ],
      "source": [
        "def main():\n",
        "    altura = int(input(\"Ingrese la altura del triángulo: \"))\n",
        "    for i in range(altura, 0, -1):\n",
        "        print(\" \" * (altura - i) + \"+\" + \"*\" * (i - 1) + \"+\" + \" \" * (altura - i))\n",
        "\n",
        "if __name__ == \"__main__\":\n",
        "    main()"
      ]
    }
  ],
  "metadata": {
    "colab": {
      "provenance": []
    },
    "kernelspec": {
      "display_name": "Python 3.9.11 64-bit",
      "language": "python",
      "name": "python3"
    },
    "language_info": {
      "name": "python",
      "version": "3.9.11"
    },
    "vscode": {
      "interpreter": {
        "hash": "6d850d8e90e60c3336e66e26b3917652b6d7c59c27178fa3ce4a1808cd55e75f"
      }
    }
  },
  "nbformat": 4,
  "nbformat_minor": 0
}