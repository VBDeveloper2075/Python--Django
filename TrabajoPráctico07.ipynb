{
  "cells": [
    {
      "cell_type": "markdown",
      "metadata": {
        "id": "KQ3RndSrF7Wh"
      },
      "source": [
        "# **Trabajo Práctico - Clases**\n",
        "\n",
        "Para cada clase creada en este Trabajo Práctico, se pide que se incluya su correspondiente docstring explicando qué hace la clase. Ejemplo:\n",
        "\n",
        "```python\n",
        "class ClaseEjemplo:\n",
        "    \"\"\"Esta es una clase de ejemplo.\"\"\"\n",
        "\n",
        "    def __init__(self, nombre):\n",
        "        \"\"\"Inicializa una instancia de ClaseEjemplo.\"\"\"\n",
        "        self.nombre = nombre\n",
        "\n",
        "    def metodo_ejemplo(self):\n",
        "        \"\"\"\n",
        "        El método procesa los valores recibidos y actualiza la lista.\n",
        "        \"\"\"\n",
        "        pass\n",
        "\n",
        "    def __str__(self):\n",
        "        return f\"Instancia de clase ClaseEjemplo con nombre: {self.nombre}\"\n",
        "\n",
        "    def __repr__(self):\n",
        "        return f\"ClaseEjemplo(nombre={self.nombre})\"\n",
        "```\n"
      ]
    },
    {
      "cell_type": "markdown",
      "metadata": {
        "id": "RJk2tl43F7Wj"
      },
      "source": [
        "## **Ejercicio Nro 1**:\n",
        "\n",
        "Crea una clase **Animal** con los atributos `nombre` y `edad`. Debe incluir el método `presentar` que imprima el mensaje \"Hola, soy un [nombre] y tengo [edad] años\"."
      ]
    },
    {
      "cell_type": "code",
      "execution_count": null,
      "metadata": {
        "id": "9xFm0D0HF7Wj"
      },
      "outputs": [],
      "source": []
    },
    {
      "cell_type": "markdown",
      "metadata": {
        "id": "pFbfV1HuF7Wk"
      },
      "source": [
        "## **Ejercicio Nro 2**:\n",
        "\n",
        "Crea una clase **Libro** con los atributos `titulo`, `autor`, `año_publicacion`. Incluye el método `describir` que devuelva información del libro en el formato de salida \"[titulo] es un libro escrito por [autor] y fue publicado en [año_publicacion]\".\n",
        "\n",
        "Crea 4 instancias de la clase, guardándolas en una lista. Finalmente muestra la información de los 4 libros."
      ]
    },
    {
      "cell_type": "code",
      "source": [],
      "metadata": {
        "id": "ft5PdLXAImh2"
      },
      "execution_count": null,
      "outputs": []
    },
    {
      "cell_type": "markdown",
      "metadata": {
        "id": "NswKGydjImBq"
      },
      "source": [
        "## **Ejercicio Nro 3**:\n",
        "\n",
        "Crea una clase **Auto** con los atributos `marca`, `modelo`, y `kilometraje`. Incluye el método `viajar` que reciba un número de kilómetros (mayor que cero) y aumente el kilometraje del automóvil en esa cantidad.\n",
        "\n",
        "Incluye los métodos especiales de comparación usando el kilometraje como atributo a comparar.\n",
        "\n",
        "Luego, crea una función (externa a la clase `Auto`) **`crear_autos(n) `** que reciba un número entero `n` y devuelva una lista de n autos. Y una función **`viajar_autos(lista)`** que reciba dicha lista y establezca un kilometraje aleatorio entre 10 y 100 para cada auto de la lista.\n",
        "\n",
        "Finalmente, crea un método **`mayor_viaje(lista)`** que reciba la lista de objetos, y devuelva toda la información del auto que viajó más.\n",
        "\n",
        "Consejo: Para el método `mayor_viaje` puede inicializar un objeto mayor_auto en **None** para actualizar esta instancia cada vez que se encuentre un auto con mayor kilometraje que el último guardado. Y con esto se debe usar una variable de tipo entero para controlar el kilometraje más alto actualmente."
      ]
    },
    {
      "cell_type": "code",
      "source": [],
      "metadata": {
        "id": "fQH2ZruKJDRE"
      },
      "execution_count": null,
      "outputs": []
    },
    {
      "cell_type": "markdown",
      "metadata": {
        "id": "CQWWeYawI3aP"
      },
      "source": [
        "## **Ejercicio Nro 4**:\n",
        "\n",
        "Crea una clase **CuentaBancaria** con los atributos `titular` y `saldo`. La clase contará con los métodos `depositar` y `retirar`. El método `depositar` debe aceptar una cantidad de dinerio, y agregarlo al saldo. El método `retirar` quita dinero del saldo. Asegúrate de que el saldo no puede ser negativo, en caso de querer retirar más dinero del disponible debe imprimir un mensaje de error.\n",
        "\n",
        "Crea funciones para instanciar varias cuentas y realizar varios movimientos de las cuentas. Por último muestra el estado de las cuentas luego de realizar dichos movimientos."
      ]
    },
    {
      "cell_type": "code",
      "execution_count": null,
      "metadata": {
        "id": "jnRdPq2CF7Wk"
      },
      "outputs": [],
      "source": []
    },
    {
      "cell_type": "markdown",
      "metadata": {
        "id": "dP42LTAtJCYa"
      },
      "source": [
        "## **Ejercicio Nro 5**:\n",
        "\n",
        "Crea la clase **Entero** que simule el comportamiento de un número entero y que realice las operaciones básicas de suma, resta, multiplicación, y división. Para esto usaremos los métodos dunder:\n",
        "\n",
        "* `__init__(self, valor)`: Para inicializar\n",
        "* `__add__(self, other)`: Devuelve un objeto Entero que es la suma de este y `other`.\n",
        "* `__sub__(self, other)`: Devuelve un objeto Entero que es la resta de este y `other`.\n",
        "* `__mul__(self, other)`: Devuelve un objeto Entero que es la multiplicación de este y `other`.\n",
        "* `__floordiv__(self, other)`: Devuelve un objeto Entero que es la división entera de este y `other`. Se debe controlar la situación cuando `other` sea cero para no dividir por cero.\n",
        "\n",
        "Luego crea varias instancias para realizar estas operaciones de manera individual y combinada.\n",
        "\n"
      ]
    },
    {
      "cell_type": "code",
      "source": [],
      "metadata": {
        "id": "gYWsQxb3JDnf"
      },
      "execution_count": null,
      "outputs": []
    },
    {
      "cell_type": "markdown",
      "metadata": {
        "id": "P1Qk5CARJNP8"
      },
      "source": [
        "## **Ejercicio Nro 6**:\n",
        "\n",
        "Crea una clase **Particula** que represente una partícula en física. La clase debe tener los atributos `masa`, `velocidad`, `posicion` (asumimos que es una sola dimensión así que solo tenemos un valor). Luego agrega el método `energia_cinetica` calculando esta con la fórmula ${1/2}*masa*velocidad^2$."
      ]
    },
    {
      "cell_type": "code",
      "source": [],
      "metadata": {
        "id": "6RbwxoqKJNxb"
      },
      "execution_count": null,
      "outputs": []
    },
    {
      "cell_type": "markdown",
      "metadata": {
        "id": "FEoEon9fF7Wl"
      },
      "source": [
        "## **Ejercicio Nro 7**:\n",
        "\n",
        "Crea una clase **Cancion** que represente una canción de una lista de reproducción. La clase debe tener los atributos `titulo`, `artista`, `duracion` (en segundos). Implementa los dunders de comparación usnado el atributo `duracion` como comparador.\n",
        "\n",
        "Crea una función externa a la clase **Cancion** que reciba una lista de canciones y un argumento `diferencia` que devuelva una nueva lista de las canciones cuya diferencia de duración sea menor o igual comparada con la primera canción en la lista. El resultado no debe incluir la primera canción."
      ]
    },
    {
      "cell_type": "markdown",
      "metadata": {
        "id": "nqiKDmloJB3c"
      },
      "source": [
        "## **Ejercicio Nro 8**:\n",
        "\n",
        "Crea una clase **Fraccion** que represente una fracción matemática. Los atributos serán `numerador`, y `denominador`. Implementa los métodos dunder `__add__`, `__sub__`, `__mul__`, y `__div__` para realizar operaciones matemáticas entre los objetos. La implementación será similar al **Ejercicio Nro 5**.\n"
      ]
    },
    {
      "cell_type": "code",
      "execution_count": null,
      "metadata": {
        "id": "iC6Olo_RF7Wl"
      },
      "outputs": [],
      "source": []
    },
    {
      "cell_type": "markdown",
      "metadata": {
        "id": "A7gu-V7MF7Wl"
      },
      "source": [
        "## **Ejercicio Nro 9**:\n",
        "\n",
        "Crea una clase **Texto** que represente un fragmento de texto. Los atributos de la clase deben ser `contenido` (la cadena de caracteres del texto) y `autor`.\n",
        "\n",
        "Implementa el método dunder `__add__` para permitir la concatenación de dos objetos de la clase Texto. La concatenación debe resultar en un nuevo objeto Texto cuyo autor sea \"Anónimo\".\n",
        "\n",
        "Implementa el método dunder `__len__` para devolver la longitud del contenido.\n",
        "\n",
        "Implementa los métodos dunder de comparación para permitir la comparación de dos objetos de la clase Texto basada en la longitud de su contenido.\n",
        "\n",
        "Implementa un método `resumen` que devuelva las primeras 10 palabras del contenido.\n",
        "\n",
        "Implementa un método `num_palabras` que devuelva el número de palabras en el contenido.\n",
        "\n",
        "Implementa un método `frecuencia_palabra` que acepte una palabra como argumento y devuelva la **frecuencia** de esa palabra en el contenido."
      ]
    },
    {
      "cell_type": "code",
      "execution_count": null,
      "metadata": {
        "id": "1cfJKcwdF7Wm"
      },
      "outputs": [],
      "source": []
    },
    {
      "cell_type": "markdown",
      "metadata": {
        "id": "9UJINRskJ6M0"
      },
      "source": [
        "## **Ejercicio Nro 10**:\n",
        "\n",
        "Crea una clase **PersonajeRPG** que represente un personaje en un juego de rol. Los atributos de la clase deben ser `nombre`, `clase` (Guerrero, Mago, Arquero, Clérigo, Cazador), nivel (**LVL**), fuerza (**STR**), destreza (**DEX**), inteligencia (**INT**), salud (**HP**), y salud máxima (**MAX HP**).\n",
        "\n",
        "Implementa el método dunder `__str__` para devolver una cadena que represente el objeto PersonajeRPG de manera amigable, se pueden usar emojis.\n",
        "\n",
        "Implementa el método dunder `__add__` para permitir la \"fusión\" de dos personajes. La fusión debe resultar en un nuevo personaje cuyo nivel es la suma de los niveles de los dos personajes, y fuerza, destreza, inteligencia y salud sean el promedio de los atributos correspondientes de los dos personajes. El nombre será el resultado de tomar la primera mitad del primer personaje y la segunda mitad del segundo personaje.\n",
        "\n",
        "Implementa un método `atacar` que acepte otro objeto PersonajeRPG como argumento y reduzca la salud del otro personaje en una cantidad igual a la fuerza del personaje actual. Si el otro personaje tiene 0 de vida debe mostrar una alerta que no se puede atacar a un personaje que está muerto.\n",
        "\n",
        "Implementa un método `curar` que aumente la salud del personaje en una cantidad igual a la inteligencia del personaje. Comprueba que no se pueda curar más que su salud máxima.\n",
        "\n",
        "Implementa un método `mejorar` que acepte un atributo (STR, DEX, INT, MAX HP), y un **incremento** como argumentos y aumente el atributo del personaje en la cantidad de incremento.\n",
        "\n",
        "Como extra para `mejorar`, incluye un diccionario de modificación de la mejora basada en la clase que es el personaje, por ejemplo, si es clase Guerrero aumentar Fuerza un 10% extra, pero aumentar Inteligencia un 15% menos del **incremento** recibido. El diccionario debe contener los multiplicadores de modificación para los 4 atributos para cada una de las clases, los valores quedan a su criterio.\n",
        "\n",
        "Implementa un método `estadisticas` que imprima las estadísticas actuales del personaje de forma amigable.\n",
        "\n",
        "Implementa los métodos dunder de **comparación** para permitir la comparación de dos objetos de la clase PersonajeRPG basada en su nivel.\n"
      ]
    },
    {
      "cell_type": "code",
      "source": [],
      "metadata": {
        "id": "z2ZU8JNaJ6mz"
      },
      "execution_count": null,
      "outputs": []
    }
  ],
  "metadata": {
    "kernelspec": {
      "display_name": "Python 3 (ipykernel)",
      "language": "python",
      "name": "python3"
    },
    "language_info": {
      "codemirror_mode": {
        "name": "ipython",
        "version": 3
      },
      "file_extension": ".py",
      "mimetype": "text/x-python",
      "name": "python",
      "nbconvert_exporter": "python",
      "pygments_lexer": "ipython3",
      "version": "3.8.10"
    },
    "vscode": {
      "interpreter": {
        "hash": "916dbcbb3f70747c44a77c7bcd40155683ae19c65e1c03b4aa3499c5328201f1"
      }
    },
    "colab": {
      "provenance": []
    }
  },
  "nbformat": 4,
  "nbformat_minor": 0
}