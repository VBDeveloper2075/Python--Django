{
  "nbformat": 4,
  "nbformat_minor": 0,
  "metadata": {
    "colab": {
      "provenance": []
    },
    "kernelspec": {
      "name": "python3",
      "display_name": "Python 3"
    },
    "language_info": {
      "name": "python"
    }
  },
  "cells": [
    {
      "cell_type": "markdown",
      "source": [
        "## Temas: Operadores Aritméticos, Operadores Relacionales, Operadores Lógicos, Condiciones.\n"
      ],
      "metadata": {
        "id": "SeZL1FpndzIt"
      }
    },
    {
      "cell_type": "markdown",
      "source": [
        "##Ejercicio Nro 1\n",
        "Realizar un programa que permita ingresar una palabra y mostrar lo siguiente:\n",
        "\n",
        "* Si la palabra tiene menos de 5 letras, el mensaje \"La palabra {palabra} es muy corta.\"\n",
        "* Si la palabra tiene más de 15 letras, el mensaje \"La palabra {palabra} es muy larga\".\n",
        "* Si se envió un mensaje vacío, el mensaje \"No se recibió ninguna palabra\"."
      ],
      "metadata": {
        "id": "xP9K-71jZADE"
      }
    },
    {
      "cell_type": "code",
      "source": [],
      "metadata": {
        "id": "J2amWTao4LPm"
      },
      "execution_count": null,
      "outputs": []
    },
    {
      "cell_type": "markdown",
      "source": [
        "##Ejercicio Nro 2\n",
        "\n",
        "Realiza un programa que lea 2 números por teclado y determine los siguientes aspectos:\n",
        "\n",
        "* Si los dos números son iguales\n",
        "\n",
        "* Si los dos números son diferentes\n",
        "\n",
        "* Si el primero es mayor que el segundo\n",
        "\n",
        "* Si el segundo es mayor o igual que el primero\n",
        "\n",
        "* Si la suma de los números es par o impar\n",
        "\n",
        "Con un número, conviértalo a binario usando la función `bin()` y determine la cantidad de dígitos. Considere que la función agrega 2 caracteres al principio de su salida.\n",
        "\n",
        "Muestre el mensaje \"El número {numero} convertido a base binaria es {binario} y tiene {digitos} digitos\"."
      ],
      "metadata": {
        "id": "gTAYyHuybbt0"
      }
    },
    {
      "cell_type": "code",
      "source": [],
      "metadata": {
        "id": "fGHxKKX-iQwL"
      },
      "execution_count": null,
      "outputs": []
    },
    {
      "cell_type": "markdown",
      "source": [
        "##Ejercicio Nro 3\n",
        "Escribir un programa que almacene la cadena de caracteres contraseña en una variable, y el nombre de usuario en otra. Pregunte primero el nombre de usuario, si coincide exactamente, solicitar la contraseña. Para contraseña no considere minúsculas/mayúsculas, por ejemplo, si la contraseña es \"Kadabra\" se tomará como válido \"kadabra\", \"kaDabra\", \"kaDaBRA\", etc.\n",
        "\n",
        "Mostrar mensajes de contraseña correcta y los siguientes casos:\n",
        "\n",
        "* La contraseña es correcta en su totalidad\n",
        "* La contraseña es correcta, sin embargo algunos caracteres no coinciden en minúsculas/mayúsculas\n",
        "* La contraseña es incorrecta\n",
        "* El nombre de usuario no existe"
      ],
      "metadata": {
        "id": "kJBBCIYfQo_A"
      }
    },
    {
      "cell_type": "code",
      "source": [],
      "metadata": {
        "id": "1POng1U64MEo"
      },
      "execution_count": null,
      "outputs": []
    },
    {
      "cell_type": "markdown",
      "source": [
        "##Ejercicio Nro 4\n",
        "\n",
        "Realizar un programa donde se ingrese un caracter y determinar si se trata de una letra o de un dígito. Para esto puede usar las funciones `caracter.isalpha()` y `caracter.isdigit()`. En caso de que no sea uno, mostrar un mensaje de error que no es ninguno de los dos casos.\n",
        "\n",
        "Para el caso si es una letra, indicar si la letra es una vocal o una consonante. Si la letra es una consonante, indicar si está en la palabra kdbra.\n",
        "\n",
        "Para el caso que sea un dígito, indicar si es un número primo menor que 5."
      ],
      "metadata": {
        "id": "ZTG5zGkcabky"
      }
    },
    {
      "cell_type": "code",
      "source": [],
      "metadata": {
        "id": "XAi9sA_X4Max"
      },
      "execution_count": null,
      "outputs": []
    },
    {
      "cell_type": "markdown",
      "source": [
        "## Ejercicio Nro 5\n",
        "Realizar un programa que calcule la derivada de las siguientes funciones en un punto *a* dado:\n",
        "\n",
        "* $f(x) = 2x^2 - 3x$\n",
        "* $f(x) = -x^3 + 2x + 1$\n",
        "* $f(x) = 1/x^2-5x^3$\n",
        "\n",
        "Recordemos que la derivada la podemos calcular con la fórmula:\n",
        "\n",
        "$f'(x)=\\frac{f(x+h)-f(x)}{h}$\n",
        "\n",
        "En donde $h$ es un valor muy pequeño. Podemos usar, por ejemplo, `h = 1e-6` para representar el valor `h = 0.000001`."
      ],
      "metadata": {
        "id": "urhTPzhucouU"
      }
    },
    {
      "cell_type": "code",
      "source": [],
      "metadata": {
        "id": "13rk2E_S4MxM"
      },
      "execution_count": null,
      "outputs": []
    },
    {
      "cell_type": "markdown",
      "source": [
        "##Ejercicio Nro 6\n",
        "Dada una longitud y una unidad de medida (nanómetro, micrómetro, centímetro, metro, kilómetro, año luz), compararlo con alguno de los siguientes ejemplos (a lo sumo 10):\n",
        "\n",
        "| Ejemplo | Magnitud |\n",
        "| --- | --- |\n",
        "| Altura de un girasol adulto | (3 m) |\n",
        "| Ancho de un carril de ruta estándar |  (3.7 m) |\n",
        "| Altura de un elefante africano adulto | (3.3 m) |\n",
        "| Largo de un autobús escolar estándar en EE. UU. | (12 m) |\n",
        "| Altura de la estatua de la libertad | (46 m) |\n",
        "| Longitud del Titanic | (269 m) |\n",
        "| Altura del Obelisco de Buenos Aires | (67.5 m) |\n",
        "| Diámetro del Gran Colisionador de Hadrones (CERN) | (8.6 km) |\n",
        "| Largo del Canal de Panamá | (77.1 km) |\n",
        "| Longitud del Muro de China | (21 196 km) |\n",
        "| Altura del Monte Everest | (8 848 m) |\n",
        "| Altura del Burj Khalifa en Dubai | (828 m) |\n",
        "| Profundidad de la Fosa de las Marianas | (10, 994 m) |\n",
        "| Diámetro del planeta Tierra en el ecuador | (12,742 km) |\n",
        "| Diámetro de un átomo de hidrógeno | (0.1 nm) |\n",
        "| Espesor de una hoja de papel | (0.1 mm) |\n",
        "| Ancho de un cabello humano | (87 micrómetros) |\n",
        "| Longitud de una hormiga | (1 cm) |\n",
        "| Altura de un bebé recién nacido | (50 cm) |\n",
        "| Altura de un adulto promedio | (1.7 m) |\n",
        "| Diámetro de un cráter promedio en la luna | (3 km) |\n",
        "| Profundidad del Gran Cañón | (1.6 km) |\n",
        "| Diámetro del planeta Júpiter | (143 000 km) |\n",
        "| Distancia de la Tierra a la Luna | (385 000 km) |\n",
        "| Diámetro del Sol | (1.4 millones de km) |\n",
        "| Distancia de la Tierra al Sol | (149.6 millones de km) |\n",
        "| Ancho de la Vía Láctea | (100 000 años luz) |\n",
        "| Distancia a la galaxia de Andrómeda | (2,537 millones de años luz) |\n",
        "| Tamaño estimado del universo observable | (93 mil millones de años luz) |\n",
        "\n",
        "Además, debe determinar si es más pequeño o más grande que la comparación a realizarse.\n",
        "\n",
        "## Ejemplo\n",
        "**Longitud**: 24  \n",
        "**Unidad**: kilómetros\n",
        "\n",
        "## Comparaciones elegidas\n",
        "* Diámetro del Gran Colisionador de Hadrones (CERN)\t(8.6 km)\n",
        "* Distancia de la Tierra a la Luna (385 000 km)\n",
        "* Longitud de una hormiga (1 cm)\n",
        "\n",
        "\n",
        "## Salida Esperada\n",
        "\n",
        "```\n",
        "La longitud ingresada es 2.79 veces más grande que el Diámetro del Gran Colisionador de Hadrones.  \n",
        "La longitud ingresada es 16042 veces más pequeña que la Distancia de la Tierra a la Luna.  \n",
        "La longitud ingresada es 2_400_000 veces más grande que la Longitud de una hormiga.\n",
        "```"
      ],
      "metadata": {
        "id": "sLIxjsyQc1vl"
      }
    },
    {
      "cell_type": "code",
      "source": [],
      "metadata": {
        "id": "3ZTig9Eb4N0A"
      },
      "execution_count": null,
      "outputs": []
    },
    {
      "cell_type": "markdown",
      "source": [
        "##Ejercicio Nro 7\n",
        "Realizar un programa que permita ingresar un monto de una compra y un número de porcentaje que es un descuento, calcular cual es el valor del descuento y el monto total a pagar, mostrar ambos por consola. Por ejemplo, si se ingresa 100 y un porcentaje 25, el resultado del descuento es 25 y el total es 75."
      ],
      "metadata": {
        "id": "wu-TqHCrdVT6"
      }
    },
    {
      "cell_type": "code",
      "source": [],
      "metadata": {
        "id": "UvuR3Ci14Ork"
      },
      "execution_count": null,
      "outputs": []
    },
    {
      "cell_type": "markdown",
      "source": [
        "##Ejercicio Nro 9\n",
        "Realizar un programa que permita calcular el área de un triángulo, el valor de b y h son ingresados por el usuario. Mostrar el resultado por pantalla. por el usuario. Mostrar el resultado por pantalla.\n",
        "\n",
        "![image.png](data:image/png;base64,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)"
      ],
      "metadata": {
        "id": "AsR94kCZdp7d"
      }
    },
    {
      "cell_type": "code",
      "source": [],
      "metadata": {
        "id": "EVLEthLH4QV2"
      },
      "execution_count": null,
      "outputs": []
    },
    {
      "cell_type": "markdown",
      "source": [
        "##Ejercicio Nro 10\n",
        "\n",
        "Escribir un programa que muestre por pantalla el resultado de la siguiente operación aritmética\n",
        "$(3+2/2*5)^{2}$"
      ],
      "metadata": {
        "id": "FvWLoPLSeMDj"
      }
    },
    {
      "cell_type": "code",
      "source": [],
      "metadata": {
        "id": "e01S9IbS4QrH"
      },
      "execution_count": null,
      "outputs": []
    },
    {
      "cell_type": "markdown",
      "source": [
        "##Ejercicio Nro 11\n",
        "Escribir un programa que pregunte al usuarix por el número de horas trabajadas y el costo por hora. Después debe mostrar por pantalla el pago que le corresponde."
      ],
      "metadata": {
        "id": "0hW69VvoewjU"
      }
    },
    {
      "cell_type": "code",
      "source": [],
      "metadata": {
        "id": "nfzN5oCB4SkP"
      },
      "execution_count": null,
      "outputs": []
    },
    {
      "cell_type": "markdown",
      "source": [
        "###Ejercicio Nro 12\n",
        "Escribir un programa que pida al usuarix su peso (en kg) y estatura (en metros), calcule el índice de masa corporal y lo almacene en una variable, y muestre por pantalla la frase Tu índice de masa corporal es **imc** donde **imc** es el índice de masa corporal calculado redondeado con dos decimales."
      ],
      "metadata": {
        "id": "ldBOOkxffCXa"
      }
    },
    {
      "cell_type": "code",
      "source": [],
      "metadata": {
        "id": "KdHvgkUq4TCw"
      },
      "execution_count": null,
      "outputs": []
    },
    {
      "cell_type": "markdown",
      "source": [
        "## Ejercicio Nro 13\n",
        "\n",
        "Escribí un programa que solicite al usuarix un número y le reste el 15%, almacenando todo en una única variable. A continuación, mostrar el resultado final en pantalla."
      ],
      "metadata": {
        "id": "fE-qECgTgzcx"
      }
    },
    {
      "cell_type": "code",
      "source": [],
      "metadata": {
        "id": "Q8aWHfuj4TqI"
      },
      "execution_count": null,
      "outputs": []
    },
    {
      "cell_type": "markdown",
      "source": [
        "## Ejercicio Nro 14\n",
        "Desarrolle un algoritmo que determine la cantidad de dinero que una persona ganaría después de haber trabajado un número determinado de días en un trabajo que paga por hora.\n",
        "\n",
        "1. Preguntar cuánto gana por hora.\n",
        "2. Preguntar cuántas horas trabajó en total.\n",
        "3. Si trabajó más de 40 horas en la semana, entonces se le paga 1.5 veces su salario por hora por todas las horas extras trabajadas.\n",
        "4. Sumar el salario normal con el salario extra.\n",
        "5. Mostrar el salario total."
      ],
      "metadata": {
        "id": "6DvT09Bv6EhE"
      }
    },
    {
      "cell_type": "code",
      "source": [],
      "metadata": {
        "id": "lw3_1neA6IYQ"
      },
      "execution_count": null,
      "outputs": []
    },
    {
      "cell_type": "markdown",
      "source": [
        "\n",
        "## Ejercicio Nro 15\n",
        "\n",
        "Desarrolle un algoritmo que trabajará con un número. Necesitamos saber si es:\n",
        "- signo:\n",
        "    - positivo\n",
        "    - negativo\n",
        "    - cero\n",
        "- paridad:\n",
        "    - par\n",
        "    - impar\n",
        "- múltiplo de 3:\n",
        "    - es o no múltiplo de 3\n",
        "\n",
        "Toda esta información debe ser guardada en una sola variable tipo string.\n",
        "Ejemplo:\n",
        "```\n",
        "Entrada: 9\n",
        "Salida: El número 9 es positivo e impar, y es múltiplo de 3\n",
        "Entrada: -8\n",
        "Salida: El número -8 es negativo y par, y no es múltiplo de 3\n",
        "```\n",
        "\n",
        "\n"
      ],
      "metadata": {
        "id": "AYw_Flze6mdh"
      }
    },
    {
      "cell_type": "code",
      "source": [],
      "metadata": {
        "id": "DI64haVP6m9b"
      },
      "execution_count": null,
      "outputs": []
    },
    {
      "cell_type": "markdown",
      "source": [
        "## Ejercicio Nro 16\n",
        "Escribe un programa en Python que solicite al usuarix su edad y su salario anual. El programa debe evaluar si el usuarix es elegible para un aumento de sueldo y, en caso afirmativo, calcular la cantidad del aumento y mostrarla en la pantalla.\n",
        "\n",
        "El programa debe evaluar los siguientes criterios para determinar si el usuarix es elegible para un aumento de sueldo:\n",
        "\n",
        "- Si el usuarix tiene al menos 30 años y su salario anual es menor o igual a 50.000 pesos, tiene derecho a un aumento del 10%.\n",
        "- Si el usuarix tiene al menos 25 años y su salario anual es menor o igual a 40.000 pesos, tiene derecho a un aumento del 5%.\n",
        "- Si el usuarix tiene al menos 20 años y su salario anual es menor o igual a 30.000 pesos, tiene derecho a un aumento del 2%.\n",
        "\n",
        "Si el usuarix no cumple con ninguno de los criterios anteriores, el programa debe indicar que no es elegible para un aumento de sueldo en este momento. El programa debe utilizar la estructura if/else y la función fstring para crear una cadena de texto personalizada que indique si el usuarix es elegible para un aumento de sueldo y, en caso afirmativo, la cantidad del aumento.\n",
        "\n",
        "Muestre el resultado con 2 dígitos."
      ],
      "metadata": {
        "id": "uZlQTzEw-JWJ"
      }
    },
    {
      "cell_type": "code",
      "source": [],
      "metadata": {
        "id": "S9h7X5Rx_YTk"
      },
      "execution_count": null,
      "outputs": []
    },
    {
      "cell_type": "markdown",
      "source": [
        "\n",
        "## Ejercicio Nro 17\n",
        "Escribe un programa que sirva para reconocer notas musicales. Dada la notación anglosajona C, D, E, F, G, A, B mostrar la notación latina de la nota ingresada. Estas son: do, re, mi, fa, sol, la, si. En caso de que no se ingrese ninguna de estas, mostrar un error que no se reconoció la nota.\n"
      ],
      "metadata": {
        "id": "iPsoNbWNAVb1"
      }
    },
    {
      "cell_type": "code",
      "source": [],
      "metadata": {
        "id": "EHzV_CG_AV88"
      },
      "execution_count": null,
      "outputs": []
    },
    {
      "cell_type": "markdown",
      "source": [
        "## Ejercicio Nro 17 bis\n",
        "\n",
        "Crea un algoritmo que, dadas 3 notas musicales, identifique el acorde que acaba de crearse. Un acorde es un conjunto de notas que constituye una unidad armónica. El programa debe reconocer los siguientes acordes:\n",
        "\n",
        "| Nota 1 | Nota 2 | Nota 3 | Acorde |\n",
        "| --- | --- | --- | ---- |\n",
        "| C | E | F | Do mayor\n",
        "| D | F | A | Re menor\n",
        "| E | G | B | Mi menor\n",
        "| F | A | C | Fa mayor\n",
        "| G | B | D | Sol mayor\n",
        "| A | C | E | La menor\n",
        "| B | D | F | Si disminuido\n",
        "\n",
        "Ejemplo:\n",
        "\n",
        "Entrada: E, G, B\n",
        "\n",
        "Salida: Las notas E, G, y B forman el acorde Mi menor.\n",
        "\n",
        "Entrada: A, C, D\n",
        "\n",
        "Salida: Las notas A, C, y D no forman un acorde reconocido por el programa."
      ],
      "metadata": {
        "id": "jdR29k3zBpzn"
      }
    },
    {
      "cell_type": "code",
      "source": [],
      "metadata": {
        "id": "rY6aQGpgBqLY"
      },
      "execution_count": null,
      "outputs": []
    },
    {
      "cell_type": "markdown",
      "source": [
        "## Ejercicio Nro 18\n",
        "Crea un ejercicio que, generado un número al azar, el programa realice distintas operaciones según el rango en donde se encuentra el número. Estos son:\n",
        "\n",
        "| Rango | Operación a Realizar |\n",
        "| --- | --- |\n",
        "| 0 a 20 | Mostrar el cuadrado del número |\n",
        "| 21 a 40 | Mostrar la raíz cuadrada del número |\n",
        "| 41 a 60 | Mostrar si el número es par o impar |\n",
        "| 61 a 80 | Intercambiar los dígitos del número |\n",
        "| 81 a 99 | Restar 45 al número. Luego sumar dígitos y mostrar el resultado en texto si el resultado es menor o igual que diez, si no solo el resultado numérico |\n",
        "\n",
        "Ejemplos:\n",
        "\n",
        "Entrada: 17\n",
        "Salida: El cuadrado de 17 es 289.\n",
        "\n",
        "Entrada: 36\n",
        "Salida: La raíz cuadrada de 36 es 6.00.\n",
        "\n",
        "Entrada: 49\n",
        "Salida: El número 49 es impar.\n",
        "\n",
        "Entrada: 69\n",
        "Salida: El número cambió sus dígitos a 96.\n",
        "\n",
        "Entrada: 88\n",
        "Salida: Luego de restar 45 a 88 obtuvimos 43 y sumando sus dígitos tenemos siete.\n",
        "\n",
        "**Nota**: Utilice solo operaciones de división, resto, y concatenación para manejar los dígitos del número. No se debe usar ciclos en este ejercicio.\n"
      ],
      "metadata": {
        "id": "ZNlnuVg-EF6v"
      }
    },
    {
      "cell_type": "code",
      "source": [],
      "metadata": {
        "id": "VBOG7g5VTGBT"
      },
      "execution_count": null,
      "outputs": []
    }
  ]
}