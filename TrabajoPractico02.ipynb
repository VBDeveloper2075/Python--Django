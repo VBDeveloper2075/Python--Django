{
  "nbformat": 4,
  "nbformat_minor": 0,
  "metadata": {
    "colab": {
      "provenance": []
    },
    "kernelspec": {
      "name": "python3",
      "display_name": "Python 3"
    },
    "language_info": {
      "name": "python"
    }
  },
  "cells": [
    {
      "cell_type": "markdown",
      "source": [
        "## Temas: Operadores Aritméticos, Operadores Relacionales, Operadores Lógicos, Condiciones.\n"
      ],
      "metadata": {
        "id": "SeZL1FpndzIt"
      }
    },
    {
      "cell_type": "markdown",
      "source": [
        "##Ejercicio Nro 1\n",
        "Realizar un programa que permita ingresar una palabra y mostrar lo siguiente:\n",
        "\n",
        "* Si la palabra tiene menos de 5 letras, el mensaje \"La palabra {palabra} es muy corta.\"\n",
        "* Si la palabra tiene más de 15 letras, el mensaje \"La palabra {palabra} es muy larga\".\n",
        "* Si se envió un mensaje vacío, el mensaje \"No se recibió ninguna palabra\"."
      ],
      "metadata": {
        "id": "xP9K-71jZADE"
      }
    },
    {
      "cell_type": "code",
      "source": [
        "palabra = input(\"Ingrese una palabra: \")  # Se ingresa una palabra\n",
        "if len(palabra) < 5:  # Si la palabra tiene menos de 5 letras\n",
        "    print(f\"La palabra {palabra} es muy corta.\")\n",
        "elif len(palabra) > 15: # Si la palabra tiene más de 15 letras\n",
        "    print(f\"La palabra {palabra} es muy larga.\")\n",
        "elif len(palabra) == 0:\n",
        "    print(\"No se recibió ninguna palabra\")  # Si se envió un mensaje vacío\n",
        "else:\n",
        "    print(f\"La palabra {palabra} es de tamaño normal.\")\n",
        "\n",
        "print(\"╔═════════════════════════════╗\")\n",
        "print(\"═   Fin del programa          ═\")\n",
        "print(\"╚═════════════════════════════╝\")\n"
      ],
      "metadata": {
        "id": "J2amWTao4LPm",
        "colab": {
          "base_uri": "https://localhost:8080/"
        },
        "outputId": "0eefd8b8-b5dc-4798-d520-eab5cc53b6f4"
      },
      "execution_count": null,
      "outputs": [
        {
          "output_type": "stream",
          "name": "stdout",
          "text": [
            "Ingrese una palabra: juanete\n",
            "La palabra juanete es de tamaño normal.\n",
            "╔═════════════════════════════╗\n",
            "═   Fin del programa          ═\n",
            "╚═════════════════════════════╝\n"
          ]
        }
      ]
    },
    {
      "cell_type": "markdown",
      "source": [
        "##Ejercicio Nro 2\n",
        "\n",
        "Realiza un programa que lea 2 números por teclado y determine los siguientes aspectos:\n",
        "\n",
        "* Si los dos números son iguales\n",
        "\n",
        "* Si los dos números son diferentes\n",
        "\n",
        "* Si el primero es mayor que el segundo\n",
        "\n",
        "* Si el segundo es mayor o igual que el primero\n",
        "\n",
        "* Si la suma de los números es par o impar\n",
        "\n",
        "Con un número, conviértalo a binario usando la función `bin()` y determine la cantidad de dígitos. Considere que la función agrega 2 caracteres al principio de su salida.\n",
        "\n",
        "Muestre el mensaje \"El número {numero} convertido a base binaria es {binario} y tiene {digitos} digitos\"."
      ],
      "metadata": {
        "id": "gTAYyHuybbt0"
      }
    },
    {
      "cell_type": "code",
      "source": [
        "print(\"╔ Ejercicio Nro 2  ╗\")\n",
        "print(\"╚══════════════════╝\")\n",
        "\n",
        "# Ingreso de datos\n",
        "numero1 = int(input(\"Ingrese el primer número: \"))\n",
        "numero2 = int(input(\"Ingrese el segundo número: \"))\n",
        "# Proceso\n",
        "# Si los dos números son iguales\n",
        "if numero1 == numero2:\n",
        "    print(\"Los dos números son iguales\")\n",
        "# Si los dos números son diferentes\n",
        "elif numero1 != numero2:\n",
        "    print(\"Los dos números son diferentes\")\n",
        "# Si el primero es mayor que el segundo\n",
        "if numero1 > numero2:\n",
        "    print(\"El primer número es mayor que el segundo\")\n",
        "# Si el segundo es mayor o igual que el primero\n",
        "elif numero2 >= numero1:\n",
        "    print(\"El segundo número es mayor o igual que el primero\")\n",
        "# Si la suma de los números es par o impar\n",
        "if (numero1 + numero2) % 2 == 0:\n",
        "    print(\"La suma de los números es par\")\n",
        "else:\n",
        "    print(\"La suma de los números es impar\")\n",
        "\n",
        "# Con un número, conviértalo a binario usando la función bin() y determine la cantidad de dígitos. Considere que la función agrega 2 caracteres al principio de su salida.\n",
        "\n",
        "numero = int(input(\"Ingrese un número para convertir a binario: \"))\n",
        "#funcion bin() para convertir a binario\n",
        "binario = bin(numero)\n",
        "#uso la funcion len para contar la cantidad de digitos\n",
        "digitos = len(binario) - 2 # Resto 2 porque binario agrega 2 caracteres al principio de su salida\n",
        "print(f\"El número {numero} convertido a base binaria es {binario} y tiene {digitos} digitos\")\n",
        "\n",
        "print(\"╔═════════════════════════════╗\")\n",
        "print(\"═   Fin del programa          ═\")\n",
        "print(\"╚═════════════════════════════╝\")"
      ],
      "metadata": {
        "id": "fGHxKKX-iQwL",
        "colab": {
          "base_uri": "https://localhost:8080/"
        },
        "outputId": "0f708050-7b0e-4a82-de88-37dd5c601e16"
      },
      "execution_count": null,
      "outputs": [
        {
          "output_type": "stream",
          "name": "stdout",
          "text": [
            "╔ Ejercicio Nro 2  ╗\n",
            "╚══════════════════╝\n",
            "Ingrese el primer número: 34\n",
            "Ingrese el segundo número: 5\n",
            "Los dos números son diferentes\n",
            "El primer número es mayor que el segundo\n",
            "La suma de los números es impar\n",
            "Ingrese un número para convertir a binario: 345678\n",
            "El número 345678 convertido a base binaria es 0b1010100011001001110 y tiene 19 digitos\n",
            "╔═════════════════════════════╗\n",
            "═   Fin del programa          ═\n",
            "╚═════════════════════════════╝\n"
          ]
        }
      ]
    },
    {
      "cell_type": "markdown",
      "source": [
        "##Ejercicio Nro 3\n",
        "Escribir un programa que almacene la cadena de caracteres contraseña en una variable, y el nombre de usuario en otra. Pregunte primero el nombre de usuario, si coincide exactamente, solicitar la contraseña. Para contraseña no considere minúsculas/mayúsculas, por ejemplo, si la contraseña es \"Kadabra\" se tomará como válido \"kadabra\", \"kaDabra\", \"kaDaBRA\", etc.\n",
        "\n",
        "Mostrar mensajes de contraseña correcta y los siguientes casos:\n",
        "\n",
        "* La contraseña es correcta en su totalidad\n",
        "* La contraseña es correcta, sin embargo algunos caracteres no coinciden en minúsculas/mayúsculas\n",
        "* La contraseña es incorrecta\n",
        "* El nombre de usuario no existe"
      ],
      "metadata": {
        "id": "kJBBCIYfQo_A"
      }
    },
    {
      "cell_type": "code",
      "source": [
        "print(\"╔═════════════════════════════╗\")\n",
        "print(\"═      EJERCICIO N° 3         ═\")\n",
        "print(\"╚═════════════════════════════╝\")\n",
        "\n",
        "#datos en el sitema\n",
        "usuario_sistema = \"Kadabra\"\n",
        "contrasenia_sistema = \"juanitaLABELLA\"\n",
        "\n",
        "# Ingreso de datos\n",
        "usuario = input(\"Ingrese el nombre de usuario: \")\n",
        "\n",
        "# Proceso\n",
        "if usuario == usuario_sistema:\n",
        "    contrasenia = input(\"Ingrese la contraseña: \")\n",
        "    if contrasenia == contrasenia_sistema:\n",
        "        print(\"La contraseña es correcta en su totalidad\")\n",
        "    elif contrasenia_sistema.lower() == contrasenia.lower(): # convierte la contraseña a minúsculas\n",
        "        print(\"La contraseña es correcta, sin embargo algunos caracteres no coinciden en minúsculas/mayúsculas\")\n",
        "    else:\n",
        "        print(\"La contraseña es incorrecta\")\n",
        "else:\n",
        "    print(\"El nombre de usuario no existe\")\n",
        "\n",
        "\n",
        "print(\"═      Fin del programa       ═\")\n",
        "print(\"╚═════════════════════════════╝\")"
      ],
      "metadata": {
        "id": "1POng1U64MEo",
        "colab": {
          "base_uri": "https://localhost:8080/"
        },
        "outputId": "f579a6ac-e56f-4349-9d37-b2d54afa3868"
      },
      "execution_count": null,
      "outputs": [
        {
          "output_type": "stream",
          "name": "stdout",
          "text": [
            "╔═════════════════════════════╗\n",
            "═      EJERCICIO N° 3         ═\n",
            "╚═════════════════════════════╝\n",
            "Ingrese el nombre de usuario: Kadabra\n",
            "Ingrese la contraseña: Juanitalabella\n",
            "La contraseña es correcta, sin embargo algunos caracteres no coinciden en minúsculas/mayúsculas\n",
            "═      Fin del programa       ═\n",
            "╚═════════════════════════════╝\n"
          ]
        }
      ]
    },
    {
      "cell_type": "markdown",
      "source": [
        "##Ejercicio Nro 4\n",
        "\n",
        "Realizar un programa donde se ingrese un caracter y determinar si se trata de una letra o de un dígito. Para esto puede usar las funciones `caracter.isalpha()` y `caracter.isdigit()`. En caso de que no sea uno, mostrar un mensaje de error que no es ninguno de los dos casos.\n",
        "\n",
        "Para el caso si es una letra, indicar si la letra es una vocal o una consonante. Si la letra es una consonante, indicar si está en la palabra kdbra.\n",
        "\n",
        "Para el caso que sea un dígito, indicar si es un número primo menor que 5."
      ],
      "metadata": {
        "id": "ZTG5zGkcabky"
      }
    },
    {
      "cell_type": "code",
      "source": [
        "print(\"╔═════════════════════════════╗\")\n",
        "print(\"═ Identificador de Caracteres ═\")\n",
        "print(\"╚═════════════════════════════╝\")\n",
        "\n",
        "#datos\n",
        "caracter = input(\"Ingrese un caracter: \")\n",
        "\n",
        "#proceso\n",
        "if caracter.isalpha():\n",
        "    if caracter in \"aeiou\":\n",
        "        print(f\"El caracter {caracter} es una vocal\")\n",
        "    else:\n",
        "        if caracter in \"kdbra\":\n",
        "            print(f\"El caracter {caracter} es una consonante y está en la palabra kdbra\")\n",
        "        else:\n",
        "            print(f\"El caracter {caracter} es una consonante y no está en la palabra kdbra\")\n",
        "elif caracter.isdigit():\n",
        "    if int(caracter) < 5:\n",
        "        if int(caracter) == 1 or int(caracter) == 2 or int(caracter) == 3:\n",
        "            print(f\"El caracter {caracter} es un número primo menor que 5\")\n",
        "        else:\n",
        "            print(f\"El caracter {caracter} no es un número primo menor que 5\")\n",
        "    else:\n",
        "        print(f\"El caracter {caracter} no es un número primo menor que 5\")\n",
        "else:\n",
        "    print(f\"El caracter {caracter} no es ni una letra ni un dígito\")\n",
        "\n",
        "print(\"╔═════════════════════════════╗\")\n",
        "print(\"═      Fin del programa       ═\")\n",
        "print(\"╚═════════════════════════════╝\")"
      ],
      "metadata": {
        "id": "XAi9sA_X4Max"
      },
      "execution_count": null,
      "outputs": []
    },
    {
      "cell_type": "markdown",
      "source": [
        "## Ejercicio Nro 5\n",
        "Realizar un programa que calcule la derivada de las siguientes funciones en un punto *a* dado:\n",
        "\n",
        "* $f(x) = 2x^2 - 3x$\n",
        "* $f(x) = -x^3 + 2x + 1$\n",
        "* $f(x) = 1/x^2-5x^3$\n",
        "\n",
        "Recordemos que la derivada la podemos calcular con la fórmula:\n",
        "\n",
        "$f'(x)=\\frac{f(x+h)-f(x)}{h}$\n",
        "\n",
        "En donde $h$ es un valor muy pequeño. Podemos usar, por ejemplo, `h = 1e-6` para representar el valor `h = 0.000001`."
      ],
      "metadata": {
        "id": "urhTPzhucouU"
      }
    },
    {
      "cell_type": "code",
      "source": [
        "#datos\n",
        "x = float(input(\"Ingrese el valor de x: \"))\n",
        "h = 1e-6\n",
        "\n",
        "#funciones\n",
        "f1 = 2*x**2 - 3*x\n",
        "f2 = -x**3 + 2*x + 1\n",
        "f3 = 1/x**2 - 5*x**3\n",
        "\n",
        "#derivadas\n",
        "df1 = (f1 + h - f1) / h\n",
        "df2 = (f2 + h - f2) / h\n",
        "df3 = (f3 + h - f3) / h\n",
        "\n",
        "#salida\n",
        "print(\"La derivada de f(x) = 2x^2 - 3x es: \", df1)\n",
        "print(\"La derivada de f(x) = -x^3 + 2x + 1 es: \", df2)\n",
        "print(\"La derivada de f(x) = 1/x^2 - 5x^3 es: \", df3)\n",
        "\n",
        "print(\"═ Fin ═\")\n"
      ],
      "metadata": {
        "id": "13rk2E_S4MxM",
        "outputId": "03486477-4129-4d4a-b21a-53c2ca7b54f2",
        "colab": {
          "base_uri": "https://localhost:8080/"
        }
      },
      "execution_count": null,
      "outputs": [
        {
          "output_type": "stream",
          "name": "stdout",
          "text": [
            "Ingrese el valor de x: 8\n",
            "La derivada de f(x) = 2x^2 - 3x es:  0.9999999974752427\n",
            "La derivada de f(x) = -x^3 + 2x + 1 es:  0.9999999974752427\n",
            "La derivada de f(x) = 1/x^2 - 5x^3 es:  0.999999883788405\n",
            "═ Fin ═\n"
          ]
        }
      ]
    },
    {
      "cell_type": "markdown",
      "source": [
        "##Ejercicio Nro 6\n",
        "Dada una longitud y una unidad de medida (nanómetro, micrómetro, centímetro, metro, kilómetro, año luz), compararlo con alguno de los siguientes ejemplos (a lo sumo 10):\n",
        "\n",
        "| Ejemplo | Magnitud |\n",
        "| --- | --- |\n",
        "| Altura de un girasol adulto | (3 m) |\n",
        "| Ancho de un carril de ruta estándar |  (3.7 m) |\n",
        "| Altura de un elefante africano adulto | (3.3 m) |\n",
        "| Largo de un autobús escolar estándar en EE. UU. | (12 m) |\n",
        "| Altura de la estatua de la libertad | (46 m) |\n",
        "| Longitud del Titanic | (269 m) |\n",
        "| Altura del Obelisco de Buenos Aires | (67.5 m) |\n",
        "| Diámetro del Gran Colisionador de Hadrones (CERN) | (8.6 km) |\n",
        "| Largo del Canal de Panamá | (77.1 km) |\n",
        "| Longitud del Muro de China | (21 196 km) |\n",
        "| Altura del Monte Everest | (8 848 m) |\n",
        "| Altura del Burj Khalifa en Dubai | (828 m) |\n",
        "| Profundidad de la Fosa de las Marianas | (10, 994 m) |\n",
        "| Diámetro del planeta Tierra en el ecuador | (12,742 km) |\n",
        "| Diámetro de un átomo de hidrógeno | (0.1 nm) |\n",
        "| Espesor de una hoja de papel | (0.1 mm) |\n",
        "| Ancho de un cabello humano | (87 micrómetros) |\n",
        "| Longitud de una hormiga | (1 cm) |\n",
        "| Altura de un bebé recién nacido | (50 cm) |\n",
        "| Altura de un adulto promedio | (1.7 m) |\n",
        "| Diámetro de un cráter promedio en la luna | (3 km) |\n",
        "| Profundidad del Gran Cañón | (1.6 km) |\n",
        "| Diámetro del planeta Júpiter | (143 000 km) |\n",
        "| Distancia de la Tierra a la Luna | (385 000 km) |\n",
        "| Diámetro del Sol | (1.4 millones de km) |\n",
        "| Distancia de la Tierra al Sol | (149.6 millones de km) |\n",
        "| Ancho de la Vía Láctea | (100 000 años luz) |\n",
        "| Distancia a la galaxia de Andrómeda | (2,537 millones de años luz) |\n",
        "| Tamaño estimado del universo observable | (93 mil millones de años luz) |\n",
        "\n",
        "Además, debe determinar si es más pequeño o más grande que la comparación a realizarse.\n",
        "\n",
        "## Ejemplo\n",
        "**Longitud**: 24  \n",
        "**Unidad**: kilómetros\n",
        "\n",
        "## Comparaciones elegidas\n",
        "* Diámetro del Gran Colisionador de Hadrones (CERN)\t(8.6 km)\n",
        "* Distancia de la Tierra a la Luna (385 000 km)\n",
        "* Longitud de una hormiga (1 cm)\n",
        "\n",
        "\n",
        "## Salida Esperada\n",
        "\n",
        "```\n",
        "La longitud ingresada es 2.79 veces más grande que el Diámetro del Gran Colisionador de Hadrones.  \n",
        "La longitud ingresada es 16042 veces más pequeña que la Distancia de la Tierra a la Luna.  \n",
        "La longitud ingresada es 2_400_000 veces más grande que la Longitud de una hormiga.\n",
        "```"
      ],
      "metadata": {
        "id": "sLIxjsyQc1vl"
      }
    },
    {
      "cell_type": "code",
      "source": [
        "longitud = 24\n",
        "unidad = \"kilómetros\"\n",
        "\n",
        "comparaciones = [\n",
        "    (\"Diámetro del Gran Colisionador de Hadrones (CERN)\", 8.6, \"km\"),\n",
        "    (\"Distancia de la Tierra a la Luna\", 385_000, \"km\"),\n",
        "    (\"Longitud de una hormiga\", 1, \"cm\")\n",
        "]\n",
        "\n",
        "for comparacion in comparaciones:\n",
        "    if unidad == comparacion[2]:\n",
        "        if longitud > comparacion[1]:\n",
        "            print(f\"La longitud ingresada es {longitud / comparacion[1]:.2f} veces más grande que el {comparacion[0]}.\")\n",
        "        else:\n",
        "            print(f\"La longitud ingresada es {comparacion[1] / longitud:.2f} veces más pequeña que la {comparacion[0]}.\")\n",
        "            #paso todo a metros\n",
        "    else:\n",
        "        if unidad == \"nanómetro\":\n",
        "            longitud = longitud / 1_000_000_000\n",
        "        elif unidad == \"micrómetro\":\n",
        "            longitud = longitud / 1_000_000\n",
        "        elif unidad == \"centímetro\":\n",
        "            longitud = longitud / 100\n",
        "        elif unidad == \"metro\":\n",
        "            longitud = longitud * 1000\n",
        "        elif unidad == \"año luz\":\n",
        "            longitud = longitud * 9.461e+12\n",
        "        if longitud > comparacion[1]:\n",
        "             # y ahora comparo las longitudes 1 y 2 en metros\n",
        "            print(f\"La longitud ingresada es {longitud / comparacion[1]:.2f} veces más grande que el {comparacion[0]}.\")\n",
        "        else:\n",
        "            print(f\"La longitud ingresada es {comparacion[1] / longitud:.2f} veces más pequeña que la {comparacion[0]}.\")"
      ],
      "metadata": {
        "id": "3ZTig9Eb4N0A",
        "colab": {
          "base_uri": "https://localhost:8080/"
        },
        "outputId": "ec7a2a49-09c4-4c6b-ef69-a21776b267c8"
      },
      "execution_count": null,
      "outputs": [
        {
          "output_type": "stream",
          "name": "stdout",
          "text": [
            "La longitud ingresada es 2.79 veces más grande que el Diámetro del Gran Colisionador de Hadrones (CERN).\n",
            "La longitud ingresada es 16041.67 veces más pequeña que la Distancia de la Tierra a la Luna.\n",
            "La longitud ingresada es 24.00 veces más grande que el Longitud de una hormiga.\n"
          ]
        }
      ]
    },
    {
      "cell_type": "markdown",
      "source": [
        "##Ejercicio Nro 7\n",
        "Realizar un programa que permita ingresar un monto de una compra y un número de porcentaje que es un descuento, calcular cual es el valor del descuento y el monto total a pagar, mostrar ambos por consola. Por ejemplo, si se ingresa 100 y un porcentaje 25, el resultado del descuento es 25 y el total es 75."
      ],
      "metadata": {
        "id": "wu-TqHCrdVT6"
      }
    },
    {
      "cell_type": "code",
      "source": [
        "\n",
        "monto = float(input(\"Ingrese el monto de la compra: \"))\n",
        "porcentaje = float(input(\"Ingrese el porcentaje de descuento: \"))\n",
        "descuento = monto * porcentaje / 100\n",
        "total = monto - descuento\n",
        "print(f\"El descuento es de {descuento} y el total a pagar es {total}\")"
      ],
      "metadata": {
        "id": "UvuR3Ci14Ork",
        "colab": {
          "base_uri": "https://localhost:8080/"
        },
        "outputId": "587d0aba-7c44-4cb9-b29f-815c089f2252"
      },
      "execution_count": null,
      "outputs": [
        {
          "output_type": "stream",
          "name": "stdout",
          "text": [
            "Ingrese el monto de la compra: 400_000\n",
            "Ingrese el porcentaje de descuento: 10\n",
            "El descuento es de 40000.0 y el total a pagar es 360000.0\n"
          ]
        }
      ]
    },
    {
      "cell_type": "markdown",
      "source": [
        "##Ejercicio Nro 9\n",
        "Realizar un programa que permita calcular el área de un triángulo, el valor de b y h son ingresados por el usuario. Mostrar el resultado por pantalla. por el usuario. Mostrar el resultado por pantalla.\n",
        "\n",
        "![image.png](data:image/png;base64,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)"
      ],
      "metadata": {
        "id": "AsR94kCZdp7d"
      }
    },
    {
      "cell_type": "code",
      "source": [
        "# Ingreso de datos\n",
        "base= float(input(\"Ingrese el valor de la base del triángulo en centimetros: \"))\n",
        "altura= float(input(\"Ingrese el valor de la altura del triángulo en centimetros: \"))\n",
        "\n",
        "# Proceso\n",
        "area= (base*altura)/2\n",
        "\n",
        "# Salida\n",
        "print(f\"El área del triángulo es: {area} cm2\")"
      ],
      "metadata": {
        "id": "EVLEthLH4QV2",
        "colab": {
          "base_uri": "https://localhost:8080/"
        },
        "outputId": "8ffa83f0-dc81-4b5a-fbe3-36cf59ca7823"
      },
      "execution_count": null,
      "outputs": [
        {
          "output_type": "stream",
          "name": "stdout",
          "text": [
            "Ingrese el valor de la base del triángulo en centimetros: 30\n",
            "Ingrese el valor de la altura del triángulo en centimetros: 100\n",
            "El área del triángulo es: 1500.0 cm2\n"
          ]
        }
      ]
    },
    {
      "cell_type": "markdown",
      "source": [
        "##Ejercicio Nro 10\n",
        "\n",
        "Escribir un programa que muestre por pantalla el resultado de la siguiente operación aritmética\n",
        "$(3+2/2*5)^{2}$"
      ],
      "metadata": {
        "id": "FvWLoPLSeMDj"
      }
    },
    {
      "cell_type": "code",
      "source": [
        "resultado = (3+(2/2*5))**2\n",
        "\n",
        "# Salida en pantalla\n",
        "print(f\"El resultado de la operación (3+(2/2*5))^2 es: {resultado}\")"
      ],
      "metadata": {
        "id": "e01S9IbS4QrH",
        "colab": {
          "base_uri": "https://localhost:8080/"
        },
        "outputId": "6b97ea2d-e099-4253-979f-078fc7212547"
      },
      "execution_count": null,
      "outputs": [
        {
          "output_type": "stream",
          "name": "stdout",
          "text": [
            "El resultado de la operación (3+(2/2*5))^2 es: 64.0\n"
          ]
        }
      ]
    },
    {
      "cell_type": "markdown",
      "source": [
        "##Ejercicio Nro 11\n",
        "Escribir un programa que pregunte al usuarix por el número de horas trabajadas y el costo por hora. Después debe mostrar por pantalla el pago que le corresponde."
      ],
      "metadata": {
        "id": "0hW69VvoewjU"
      }
    },
    {
      "cell_type": "code",
      "source": [
        "salario = float(input(\"Ingrese el monto que cobra por hora trabajada: \"))\n",
        "tiempo = float(input(\"Ingrese las horas de trabajo diario: \"))\n",
        "pago_del_dia = salario * tiempo\n",
        "print(f\"Su paga de hoy es de $ {pago_del_dia}\")"
      ],
      "metadata": {
        "id": "nfzN5oCB4SkP",
        "colab": {
          "base_uri": "https://localhost:8080/"
        },
        "outputId": "91d12338-00e0-4fd3-d43f-e85261eec9f7"
      },
      "execution_count": null,
      "outputs": [
        {
          "output_type": "stream",
          "name": "stdout",
          "text": [
            "Ingrese el monto que cobra por hora trabajada: 2000\n",
            "Ingrese las horas de trabajo diario: 8\n",
            "Su paga de hoy es de $ 16000.0\n"
          ]
        }
      ]
    },
    {
      "cell_type": "markdown",
      "source": [
        "###Ejercicio Nro 12\n",
        "Escribir un programa que pida al usuarix su peso (en kg) y estatura (en metros), calcule el índice de masa corporal y lo almacene en una variable, y muestre por pantalla la frase Tu índice de masa corporal es **imc** donde **imc** es el índice de masa corporal calculado redondeado con dos decimales."
      ],
      "metadata": {
        "id": "ldBOOkxffCXa"
      }
    },
    {
      "cell_type": "code",
      "source": [
        "peso = float(input(\"Ingrese su peso en kilogramos: \"))\n",
        "estatura = float(input(\"Ingrese su estatura en metros: \"))\n",
        "imc = peso / estatura**2\n",
        "print(f\"Su Indice de masa corporal es de {imc} kg/m2\")"
      ],
      "metadata": {
        "id": "KdHvgkUq4TCw",
        "colab": {
          "base_uri": "https://localhost:8080/"
        },
        "outputId": "3b647cce-dcb4-4ab4-f573-f610e4743810"
      },
      "execution_count": null,
      "outputs": [
        {
          "output_type": "stream",
          "name": "stdout",
          "text": [
            "Ingrese su peso en kilogramos: 100\n",
            "Ingrese su estatura en metros: 1.73\n",
            "Su Indice de masa corporal es de 33.41240936883958 kg/m2\n"
          ]
        }
      ]
    },
    {
      "cell_type": "markdown",
      "source": [
        "## Ejercicio Nro 13\n",
        "\n",
        "Escribí un programa que solicite al usuarix un número y le reste el 15%, almacenando todo en una única variable. A continuación, mostrar el resultado final en pantalla."
      ],
      "metadata": {
        "id": "fE-qECgTgzcx"
      }
    },
    {
      "cell_type": "code",
      "source": [
        "numero = float(input(\"Ingrese un numero: \"))\n",
        "resultado = numero - (numero * 0.15)\n",
        "print(\"El resultado de restarle el 15% es:\", resultado)"
      ],
      "metadata": {
        "id": "Q8aWHfuj4TqI",
        "colab": {
          "base_uri": "https://localhost:8080/"
        },
        "outputId": "9bcda3f3-dddd-4ce6-8c99-9753ff274503"
      },
      "execution_count": 1,
      "outputs": [
        {
          "output_type": "stream",
          "name": "stdout",
          "text": [
            "Ingrese un numero: 155\n",
            "El resultado de restarle el 15% es: 131.75\n"
          ]
        }
      ]
    },
    {
      "cell_type": "markdown",
      "source": [
        "## Ejercicio Nro 14\n",
        "Desarrolle un algoritmo que determine la cantidad de dinero que una persona ganaría después de haber trabajado un número determinado de días en un trabajo que paga por hora.\n",
        "\n",
        "1. Preguntar cuánto gana por hora.\n",
        "2. Preguntar cuántas horas trabajó en total.\n",
        "3. Si trabajó más de 40 horas en la semana, entonces se le paga 1.5 veces su salario por hora por todas las horas extras trabajadas.\n",
        "4. Sumar el salario normal con el salario extra.\n",
        "5. Mostrar el salario total."
      ],
      "metadata": {
        "id": "6DvT09Bv6EhE"
      }
    },
    {
      "cell_type": "code",
      "source": [
        "\n",
        "salario = float(input(\"Ingrese el monto que cobra por hora trabajada: \"))\n",
        "tiempo = float(input(\"Ingrese las horas de trabajo semanal: \"))\n",
        "\n",
        "if tiempo > 40:\n",
        "    pago_extra = (tiempo - 40) * (salario * 1.5)\n",
        "    print(f\"Su paga extra es de $ {pago_extra}\")\n",
        "\n",
        "    pago_total = (salario * 40) + pago_extra\n",
        "    print(f\"Su paga total es de $ {pago_total}\")\n",
        "else:\n",
        "    pago_total = salario * tiempo\n",
        "    print(f\"Su paga total es de $ {pago_total}\")\n",
        "\n",
        "print(\"Gracias por trabajar con nosotros.\")\n",
        "print(\"Fin del programa\")"
      ],
      "metadata": {
        "id": "lw3_1neA6IYQ",
        "colab": {
          "base_uri": "https://localhost:8080/"
        },
        "outputId": "c000900b-7294-4c9e-f32e-fac2227616ef"
      },
      "execution_count": null,
      "outputs": [
        {
          "output_type": "stream",
          "name": "stdout",
          "text": [
            "Ingrese el monto que cobra por hora trabajada: 2000\n",
            "Ingrese las horas de trabajo semanal: 60\n",
            "Su paga extra es de $ 60000.0\n",
            "Su paga total es de $ 140000.0\n",
            "Gracias por trabajar con nosotros.\n",
            "Fin del programa\n"
          ]
        }
      ]
    },
    {
      "cell_type": "markdown",
      "source": [
        "\n",
        "## Ejercicio Nro 15\n",
        "\n",
        "Desarrolle un algoritmo que trabajará con un número. Necesitamos saber si es:\n",
        "- signo:\n",
        "    - positivo\n",
        "    - negativo\n",
        "    - cero\n",
        "- paridad:\n",
        "    - par\n",
        "    - impar\n",
        "- múltiplo de 3:\n",
        "    - es o no múltiplo de 3\n",
        "\n",
        "Toda esta información debe ser guardada en una sola variable tipo string.\n",
        "Ejemplo:\n",
        "```\n",
        "Entrada: 9\n",
        "Salida: El número 9 es positivo e impar, y es múltiplo de 3\n",
        "Entrada: -8\n",
        "Salida: El número -8 es negativo y par, y no es múltiplo de 3\n",
        "```\n",
        "\n",
        "\n"
      ],
      "metadata": {
        "id": "AYw_Flze6mdh"
      }
    },
    {
      "cell_type": "code",
      "source": [
        "numero = int(input(\"Ingrese un número: \"))\n",
        "salida = \"Entrada: \" + str(numero) + \"\\nEl número \" + str(numero) + \" es \"\n",
        "if numero > 0:\n",
        "    salida += \"positivo\"\n",
        "elif numero < 0:\n",
        "    salida += \"negativo\"\n",
        "else:\n",
        "    salida += \"cero\"\n",
        "if numero % 2 == 0:\n",
        "    salida += \" y par\"\n",
        "else:\n",
        "    salida += \" e impar\"\n",
        "if numero % 3 == 0:\n",
        "    salida += \", y es múltiplo de 3\"\n",
        "else:\n",
        "    salida += \", y no es múltiplo de 3\"\n",
        "print(salida)\n",
        "\n"
      ],
      "metadata": {
        "id": "DI64haVP6m9b",
        "colab": {
          "base_uri": "https://localhost:8080/"
        },
        "outputId": "125dd1ed-51f8-4dc7-fd2b-9ed461fd1050"
      },
      "execution_count": 5,
      "outputs": [
        {
          "output_type": "stream",
          "name": "stdout",
          "text": [
            "Ingrese un número: 22\n",
            "Entrada: 22\n",
            "El número 22 es positivo y par, y no es múltiplo de 3\n"
          ]
        }
      ]
    },
    {
      "cell_type": "markdown",
      "source": [
        "## Ejercicio Nro 16\n",
        "Escribe un programa en Python que solicite al usuarix su edad y su salario anual. El programa debe evaluar si el usuarix es elegible para un aumento de sueldo y, en caso afirmativo, calcular la cantidad del aumento y mostrarla en la pantalla.\n",
        "\n",
        "El programa debe evaluar los siguientes criterios para determinar si el usuarix es elegible para un aumento de sueldo:\n",
        "\n",
        "- Si el usuarix tiene al menos 30 años y su salario anual es menor o igual a 50.000 pesos, tiene derecho a un aumento del 10%.\n",
        "- Si el usuarix tiene al menos 25 años y su salario anual es menor o igual a 40.000 pesos, tiene derecho a un aumento del 5%.\n",
        "- Si el usuarix tiene al menos 20 años y su salario anual es menor o igual a 30.000 pesos, tiene derecho a un aumento del 2%.\n",
        "\n",
        "Si el usuarix no cumple con ninguno de los criterios anteriores, el programa debe indicar que no es elegible para un aumento de sueldo en este momento. El programa debe utilizar la estructura if/else y la función fstring para crear una cadena de texto personalizada que indique si el usuarix es elegible para un aumento de sueldo y, en caso afirmativo, la cantidad del aumento.\n",
        "\n",
        "Muestre el resultado con 2 dígitos."
      ],
      "metadata": {
        "id": "uZlQTzEw-JWJ"
      }
    },
    {
      "cell_type": "code",
      "source": [
        "def aumento_sueldo():\n",
        "    edad = int(input(\"Ingrese su edad: \"))\n",
        "    salario = float(input(\"Ingrese su salario anual: \"))\n",
        "    if edad >= 30 and salario <= 50000:\n",
        "        aumento = salario * 0.1\n",
        "        print(f\"Usted es elegible para un aumento del 10%, el cual es de {aumento:.2f} pesos.\")\n",
        "    elif edad >= 25 and salario <= 40000:\n",
        "        aumento = salario * 0.05\n",
        "        print(f\"Usted es elegible para un aumento del 5%, el cual es de {aumento:.2f} pesos.\")\n",
        "    elif edad >= 20 and salario <= 30000:\n",
        "        aumento = salario * 0.02\n",
        "        print(f\"Usted es elegible para un aumento del 2%, el cual es de {aumento:.2f} pesos.\")\n",
        "    else:\n",
        "        print(\"Usted no es elegible para un aumento de sueldo en este momento.\")\n",
        "\n",
        "aumento_sueldo()"
      ],
      "metadata": {
        "id": "S9h7X5Rx_YTk",
        "outputId": "0539a8e1-134f-440e-c461-567652deaf79",
        "colab": {
          "base_uri": "https://localhost:8080/"
        }
      },
      "execution_count": null,
      "outputs": [
        {
          "output_type": "stream",
          "name": "stdout",
          "text": [
            "Ingrese su edad: 40\n",
            "Ingrese su salario anual: 48000\n",
            "Usted es elegible para un aumento del 10%, el cual es de 4800.00 pesos.\n"
          ]
        }
      ]
    },
    {
      "cell_type": "markdown",
      "source": [
        "\n",
        "## Ejercicio Nro 17\n",
        "Escribe un programa que sirva para reconocer notas musicales. Dada la notación anglosajona C, D, E, F, G, A, B mostrar la notación latina de la nota ingresada. Estas son: do, re, mi, fa, sol, la, si. En caso de que no se ingrese ninguna de estas, mostrar un error que no se reconoció la nota.\n"
      ],
      "metadata": {
        "id": "iPsoNbWNAVb1"
      }
    },
    {
      "cell_type": "code",
      "source": [
        "# Diccionario con las notas anglosajonas y sus correspondientes notas latinas\n",
        "notas = {\n",
        "    \"A\": \"do\",\n",
        "    \"B\": \"re\",\n",
        "    \"C\": \"mi\",\n",
        "    \"D\": \"fa\",\n",
        "    \"E\": \"sol\",\n",
        "    \"F\": \"la\",\n",
        "    \"G\": \"si\"\n",
        "}\n",
        "\n",
        "# Bandera para controlar el bucle\n",
        "seguir = 0\n",
        "\n",
        "while (seguir != True):\n",
        "    # Se pide al usuario que ingrese una nota anglosajona\n",
        "    nota = input(\"Ingrese una nota musical (en cifrado inglés): \")\n",
        "\n",
        "    # Se verifica si la nota ingresada está en el diccionario\n",
        "    if (nota in notas):\n",
        "    # Si está, se muestra la nota latina correspondiente. y cambio la condicion de la bandera para salir del bucle\n",
        "        print(f\"En Nomenclatura Latina la nota ingresada es: {notas[nota]}\")\n",
        "        print(\"Fin del Programa / Thanks\")\n",
        "        seguir = True\n",
        "\n",
        "    else:\n",
        "        # Si no está, se muestra un mensaje de error. y la condicion de la bandera sigue siendo false entonces entra de nuevo al bucle\n",
        "        print(\"Error: El caracter ingresado no corresponde a una nota musical\")"
      ],
      "metadata": {
        "id": "EHzV_CG_AV88",
        "colab": {
          "base_uri": "https://localhost:8080/"
        },
        "outputId": "51b4048f-d121-4f88-fd68-d9b29d2362ae"
      },
      "execution_count": 2,
      "outputs": [
        {
          "output_type": "stream",
          "name": "stdout",
          "text": [
            "Ingrese una nota musical (en cifrado inglés): 6\n",
            "Error: El caracter ingresado no corresponde a una nota musical\n",
            "Ingrese una nota musical (en cifrado inglés): a\n",
            "Error: El caracter ingresado no corresponde a una nota musical\n",
            "Ingrese una nota musical (en cifrado inglés): A\n",
            "En Nomenclatura Latina la nota ingresada es: do\n",
            "Fin del Programa / Thanks\n"
          ]
        }
      ]
    },
    {
      "cell_type": "markdown",
      "source": [
        "## Ejercicio Nro 17 bis\n",
        "\n",
        "Crea un algoritmo que, dadas 3 notas musicales, identifique el acorde que acaba de crearse. Un acorde es un conjunto de notas que constituye una unidad armónica. El programa debe reconocer los siguientes acordes:\n",
        "\n",
        "| Nota 1 | Nota 2 | Nota 3 | Acorde |\n",
        "| --- | --- | --- | ---- |\n",
        "| C | E | F | Do mayor\n",
        "| D | F | A | Re menor\n",
        "| E | G | B | Mi menor\n",
        "| F | A | C | Fa mayor\n",
        "| G | B | D | Sol mayor\n",
        "| A | C | E | La menor\n",
        "| B | D | F | Si disminuido\n",
        "\n",
        "Ejemplo:\n",
        "\n",
        "Entrada: E, G, B\n",
        "\n",
        "Salida: Las notas E, G, y B forman el acorde Mi menor.\n",
        "\n",
        "Entrada: A, C, D\n",
        "\n",
        "Salida: Las notas A, C, y D no forman un acorde reconocido por el programa."
      ],
      "metadata": {
        "id": "jdR29k3zBpzn"
      }
    },
    {
      "cell_type": "code",
      "source": [
        "# Diccionario con las notas correspondientes a cada acorde.\n",
        "acordes = {\n",
        "    \"C,E,F\" : \"Do Mayor\" ,\n",
        "    \"D,F,A\" : \"Re Menor\" ,\n",
        "    \"E,G,B\" : \"Mi Menor\" ,\n",
        "    \"F,A,C\" : \"Fa Mayor\" ,\n",
        "    \"G,B,D\" : \"Sol Mayor\" ,\n",
        "    \"A,C,E\" : \"La Menor\" ,\n",
        "    \"B,D,F\" : \"Si Disminuido\"\n",
        "}\n",
        "\n",
        "# Bandera para controlar el bucle\n",
        "seguir = 0\n",
        "\n",
        "while (seguir != True):\n",
        "# Ingreso de las notas\n",
        "    nota1 = input(\"Ingrese la primera nota: \")\n",
        "    nota2 = input(\"Ingrese la segunda nota: \")\n",
        "    nota3 = input(\"Ingrese la tercera nota: \")\n",
        "\n",
        "    # Concatenación de las notas\n",
        "    acorde = nota1 + \",\" + nota2 + \",\" + nota3\n",
        "\n",
        "    # Verificación del acorde\n",
        "    if acorde in acordes:\n",
        "        print(f\"Las notas {nota1}, {nota2}, y {nota3} forman el acorde {acordes[acorde]}.\")\n",
        "        print(\"Fin del Programa / Thanks\")\n",
        "        seguir = True\n",
        "    else:\n",
        "        print(f\"Las notas {nota1}, {nota2}, y {nota3} no forman un acorde reconocido por el programa.\")"
      ],
      "metadata": {
        "id": "rY6aQGpgBqLY",
        "colab": {
          "base_uri": "https://localhost:8080/"
        },
        "outputId": "634642ae-f62d-4180-86fa-d2b5451afb98"
      },
      "execution_count": 2,
      "outputs": [
        {
          "output_type": "stream",
          "name": "stdout",
          "text": [
            "Ingrese la primera nota: D\n",
            "Ingrese la segunda nota: T\n",
            "Ingrese la tercera nota: K\n",
            "Las notas D, T, y K no forman un acorde reconocido por el programa.\n",
            "Ingrese la primera nota: A\n",
            "Ingrese la segunda nota: C\n",
            "Ingrese la tercera nota: E\n",
            "Las notas A, C, y E forman el acorde La Menor.\n",
            "Fin del Programa / Thanks\n"
          ]
        }
      ]
    },
    {
      "cell_type": "markdown",
      "source": [
        "## Ejercicio Nro 18\n",
        "Crea un ejercicio que, generado un número al azar, el programa realice distintas operaciones según el rango en donde se encuentra el número. Estos son:\n",
        "\n",
        "| Rango | Operación a Realizar |\n",
        "| --- | --- |\n",
        "| 0 a 20 | Mostrar el cuadrado del número |\n",
        "| 21 a 40 | Mostrar la raíz cuadrada del número |\n",
        "| 41 a 60 | Mostrar si el número es par o impar |\n",
        "| 61 a 80 | Intercambiar los dígitos del número |\n",
        "| 81 a 99 | Restar 45 al número. Luego sumar dígitos y mostrar el resultado en texto si el resultado es menor o igual que diez, si no solo el resultado numérico |\n",
        "\n",
        "Ejemplos:\n",
        "\n",
        "Entrada: 17\n",
        "Salida: El cuadrado de 17 es 289.\n",
        "\n",
        "Entrada: 36\n",
        "Salida: La raíz cuadrada de 36 es 6.00.\n",
        "\n",
        "Entrada: 49\n",
        "Salida: El número 49 es impar.\n",
        "\n",
        "Entrada: 69\n",
        "Salida: El número cambió sus dígitos a 96.\n",
        "\n",
        "Entrada: 88\n",
        "Salida: Luego de restar 45 a 88 obtuvimos 43 y sumando sus dígitos tenemos siete.\n",
        "\n",
        "**Nota**: Utilice solo operaciones de división, resto, y concatenación para manejar los dígitos del número. No se debe usar ciclos en este ejercicio.\n"
      ],
      "metadata": {
        "id": "ZNlnuVg-EF6v"
      }
    },
    {
      "cell_type": "code",
      "source": [
        "numero= int(input(\"Ingrese un número entero de dos digitos: \")) #Solicitar un número al usuario\n",
        "\n",
        "if 0 <= numero < 21: #Si el número está entre 0 y 20\n",
        "    print(f\"El cuadrado de {numero} es {numero**2}.\") #Mostrar el cuadrado del número\n",
        "elif 20 < numero < 41: # si numero esta entre 20 y 40\n",
        "    print(f\"La raíz cuadrada de {numero} es {numero**0.5}.\") #Mostrar la raíz cuadrada del número\n",
        "elif 41 <= numero <= 60:\n",
        "    if numero%2 == 0:\n",
        "        print(f\"El número {numero} es par.\")\n",
        "    else:\n",
        "        print(f\"El número {numero} es impar.\")\n",
        "elif 61 <= numero <= 80:\n",
        "    print(f\"El número cambió sus dígitos a {str(numero)[1]}{str(numero)[0]}.\") #Intercambiar los dígitos del número\n",
        "elif 80 < numero < 100:\n",
        "    resta= numero-45\n",
        "    resta= numero-45\n",
        "    suma= str(resta)[0]+str(resta)[1]\n",
        "    suma= int(suma[0])+int(suma[1])\n",
        "    if suma <= 10:\n",
        "        print(f\"Luego de restar 45 a {numero} obtuvimos {resta} y sumando sus dígitos tenemos {suma}.\")\n",
        "    else:\n",
        "        print(f\"Luego de restar 45 a {numero} obtuvimos {resta}.\") #Restar 45 al número y mostrar el resultado numérico\n",
        "else:\n",
        "    print(\"El número ingresado no está en el rango indicado.\") #Si el número no está en el rango indicado"
      ],
      "metadata": {
        "id": "VBOG7g5VTGBT",
        "colab": {
          "base_uri": "https://localhost:8080/"
        },
        "outputId": "e9ee4f7e-c919-4fd2-ccdd-b3aec68545b7"
      },
      "execution_count": 9,
      "outputs": [
        {
          "output_type": "stream",
          "name": "stdout",
          "text": [
            "Ingrese un número entero de dos digitos: 86\n",
            "Luego de restar 45 a 86 obtuvimos 41 y sumando sus dígitos tenemos 5.\n"
          ]
        }
      ]
    }
  ]
}